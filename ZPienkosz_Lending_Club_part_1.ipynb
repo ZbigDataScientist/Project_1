{
 "cells": [
  {
   "cell_type": "markdown",
   "metadata": {},
   "source": [
    "# Z PIEŃKOSZ Lending Club cześć1"
   ]
  },
  {
   "cell_type": "code",
   "execution_count": 1,
   "metadata": {},
   "outputs": [],
   "source": [
    "import numpy as np\n",
    "import matplotlib.pyplot as plt\n",
    "import pandas as pd\n",
    "import seaborn as sns"
   ]
  },
  {
   "cell_type": "markdown",
   "metadata": {},
   "source": [
    "# 1. OBRÓBKA DANYCH"
   ]
  },
  {
   "cell_type": "code",
   "execution_count": 2,
   "metadata": {},
   "outputs": [
    {
     "name": "stderr",
     "output_type": "stream",
     "text": [
      "C:\\ProgramData\\Anaconda3\\lib\\site-packages\\IPython\\core\\interactiveshell.py:3146: DtypeWarning: Columns (0,49) have mixed types.Specify dtype option on import or set low_memory=False.\n",
      "  has_raised = await self.run_ast_nodes(code_ast.body, cell_name,\n"
     ]
    }
   ],
   "source": [
    "# wczytanie pliku z danymi\n",
    "ld = pd.read_csv('Loan_data.csv')\n",
    "# plil'loan_data.csv' jest już wstępnie oczyszczomy z headera i footera"
   ]
  },
  {
   "cell_type": "code",
   "execution_count": 3,
   "metadata": {},
   "outputs": [
    {
     "data": {
      "text/html": [
       "<div>\n",
       "<style scoped>\n",
       "    .dataframe tbody tr th:only-of-type {\n",
       "        vertical-align: middle;\n",
       "    }\n",
       "\n",
       "    .dataframe tbody tr th {\n",
       "        vertical-align: top;\n",
       "    }\n",
       "\n",
       "    .dataframe thead th {\n",
       "        text-align: right;\n",
       "    }\n",
       "</style>\n",
       "<table border=\"1\" class=\"dataframe\">\n",
       "  <thead>\n",
       "    <tr style=\"text-align: right;\">\n",
       "      <th></th>\n",
       "      <th>id</th>\n",
       "      <th>member_id</th>\n",
       "      <th>loan_amnt</th>\n",
       "      <th>funded_amnt</th>\n",
       "      <th>funded_amnt_inv</th>\n",
       "      <th>term</th>\n",
       "      <th>int_rate</th>\n",
       "      <th>installment</th>\n",
       "      <th>grade</th>\n",
       "      <th>sub_grade</th>\n",
       "      <th>...</th>\n",
       "      <th>hardship_payoff_balance_amount</th>\n",
       "      <th>hardship_last_payment_amount</th>\n",
       "      <th>disbursement_method</th>\n",
       "      <th>debt_settlement_flag</th>\n",
       "      <th>debt_settlement_flag_date</th>\n",
       "      <th>settlement_status</th>\n",
       "      <th>settlement_date</th>\n",
       "      <th>settlement_amount</th>\n",
       "      <th>settlement_percentage</th>\n",
       "      <th>settlement_term</th>\n",
       "    </tr>\n",
       "  </thead>\n",
       "  <tbody>\n",
       "    <tr>\n",
       "      <th>0</th>\n",
       "      <td>1077501</td>\n",
       "      <td>NaN</td>\n",
       "      <td>5000.0</td>\n",
       "      <td>5000.0</td>\n",
       "      <td>4975.0</td>\n",
       "      <td>36 months</td>\n",
       "      <td>10.65%</td>\n",
       "      <td>162.87</td>\n",
       "      <td>B</td>\n",
       "      <td>B2</td>\n",
       "      <td>...</td>\n",
       "      <td>NaN</td>\n",
       "      <td>NaN</td>\n",
       "      <td>Cash</td>\n",
       "      <td>N</td>\n",
       "      <td>NaN</td>\n",
       "      <td>NaN</td>\n",
       "      <td>NaN</td>\n",
       "      <td>NaN</td>\n",
       "      <td>NaN</td>\n",
       "      <td>NaN</td>\n",
       "    </tr>\n",
       "    <tr>\n",
       "      <th>1</th>\n",
       "      <td>1077430</td>\n",
       "      <td>NaN</td>\n",
       "      <td>2500.0</td>\n",
       "      <td>2500.0</td>\n",
       "      <td>2500.0</td>\n",
       "      <td>60 months</td>\n",
       "      <td>15.27%</td>\n",
       "      <td>59.83</td>\n",
       "      <td>C</td>\n",
       "      <td>C4</td>\n",
       "      <td>...</td>\n",
       "      <td>NaN</td>\n",
       "      <td>NaN</td>\n",
       "      <td>Cash</td>\n",
       "      <td>N</td>\n",
       "      <td>NaN</td>\n",
       "      <td>NaN</td>\n",
       "      <td>NaN</td>\n",
       "      <td>NaN</td>\n",
       "      <td>NaN</td>\n",
       "      <td>NaN</td>\n",
       "    </tr>\n",
       "    <tr>\n",
       "      <th>2</th>\n",
       "      <td>1077175</td>\n",
       "      <td>NaN</td>\n",
       "      <td>2400.0</td>\n",
       "      <td>2400.0</td>\n",
       "      <td>2400.0</td>\n",
       "      <td>36 months</td>\n",
       "      <td>15.96%</td>\n",
       "      <td>84.33</td>\n",
       "      <td>C</td>\n",
       "      <td>C5</td>\n",
       "      <td>...</td>\n",
       "      <td>NaN</td>\n",
       "      <td>NaN</td>\n",
       "      <td>Cash</td>\n",
       "      <td>N</td>\n",
       "      <td>NaN</td>\n",
       "      <td>NaN</td>\n",
       "      <td>NaN</td>\n",
       "      <td>NaN</td>\n",
       "      <td>NaN</td>\n",
       "      <td>NaN</td>\n",
       "    </tr>\n",
       "    <tr>\n",
       "      <th>3</th>\n",
       "      <td>1076863</td>\n",
       "      <td>NaN</td>\n",
       "      <td>10000.0</td>\n",
       "      <td>10000.0</td>\n",
       "      <td>10000.0</td>\n",
       "      <td>36 months</td>\n",
       "      <td>13.49%</td>\n",
       "      <td>339.31</td>\n",
       "      <td>C</td>\n",
       "      <td>C1</td>\n",
       "      <td>...</td>\n",
       "      <td>NaN</td>\n",
       "      <td>NaN</td>\n",
       "      <td>Cash</td>\n",
       "      <td>N</td>\n",
       "      <td>NaN</td>\n",
       "      <td>NaN</td>\n",
       "      <td>NaN</td>\n",
       "      <td>NaN</td>\n",
       "      <td>NaN</td>\n",
       "      <td>NaN</td>\n",
       "    </tr>\n",
       "    <tr>\n",
       "      <th>4</th>\n",
       "      <td>1075358</td>\n",
       "      <td>NaN</td>\n",
       "      <td>3000.0</td>\n",
       "      <td>3000.0</td>\n",
       "      <td>3000.0</td>\n",
       "      <td>60 months</td>\n",
       "      <td>12.69%</td>\n",
       "      <td>67.79</td>\n",
       "      <td>B</td>\n",
       "      <td>B5</td>\n",
       "      <td>...</td>\n",
       "      <td>NaN</td>\n",
       "      <td>NaN</td>\n",
       "      <td>Cash</td>\n",
       "      <td>N</td>\n",
       "      <td>NaN</td>\n",
       "      <td>NaN</td>\n",
       "      <td>NaN</td>\n",
       "      <td>NaN</td>\n",
       "      <td>NaN</td>\n",
       "      <td>NaN</td>\n",
       "    </tr>\n",
       "  </tbody>\n",
       "</table>\n",
       "<p>5 rows × 151 columns</p>\n",
       "</div>"
      ],
      "text/plain": [
       "        id  member_id  loan_amnt  funded_amnt  funded_amnt_inv        term  \\\n",
       "0  1077501        NaN     5000.0       5000.0           4975.0   36 months   \n",
       "1  1077430        NaN     2500.0       2500.0           2500.0   60 months   \n",
       "2  1077175        NaN     2400.0       2400.0           2400.0   36 months   \n",
       "3  1076863        NaN    10000.0      10000.0          10000.0   36 months   \n",
       "4  1075358        NaN     3000.0       3000.0           3000.0   60 months   \n",
       "\n",
       "  int_rate  installment grade sub_grade  ... hardship_payoff_balance_amount  \\\n",
       "0   10.65%       162.87     B        B2  ...                            NaN   \n",
       "1   15.27%        59.83     C        C4  ...                            NaN   \n",
       "2   15.96%        84.33     C        C5  ...                            NaN   \n",
       "3   13.49%       339.31     C        C1  ...                            NaN   \n",
       "4   12.69%        67.79     B        B5  ...                            NaN   \n",
       "\n",
       "  hardship_last_payment_amount disbursement_method  debt_settlement_flag  \\\n",
       "0                          NaN                Cash                     N   \n",
       "1                          NaN                Cash                     N   \n",
       "2                          NaN                Cash                     N   \n",
       "3                          NaN                Cash                     N   \n",
       "4                          NaN                Cash                     N   \n",
       "\n",
       "  debt_settlement_flag_date settlement_status settlement_date  \\\n",
       "0                       NaN               NaN             NaN   \n",
       "1                       NaN               NaN             NaN   \n",
       "2                       NaN               NaN             NaN   \n",
       "3                       NaN               NaN             NaN   \n",
       "4                       NaN               NaN             NaN   \n",
       "\n",
       "  settlement_amount settlement_percentage settlement_term  \n",
       "0               NaN                   NaN             NaN  \n",
       "1               NaN                   NaN             NaN  \n",
       "2               NaN                   NaN             NaN  \n",
       "3               NaN                   NaN             NaN  \n",
       "4               NaN                   NaN             NaN  \n",
       "\n",
       "[5 rows x 151 columns]"
      ]
     },
     "execution_count": 3,
     "metadata": {},
     "output_type": "execute_result"
    }
   ],
   "source": [
    "ld.head()"
   ]
  },
  {
   "cell_type": "code",
   "execution_count": 4,
   "metadata": {},
   "outputs": [
    {
     "data": {
      "text/plain": [
       "(42536, 151)"
      ]
     },
     "execution_count": 4,
     "metadata": {},
     "output_type": "execute_result"
    }
   ],
   "source": [
    "ld.shape"
   ]
  },
  {
   "cell_type": "markdown",
   "metadata": {},
   "source": [
    "ELIMINACJA PUSTYCH KOMÓREK"
   ]
  },
  {
   "cell_type": "code",
   "execution_count": 5,
   "metadata": {
    "scrolled": false
   },
   "outputs": [
    {
     "data": {
      "text/plain": [
       "inq_fi                            42536\n",
       "mths_since_recent_bc              42536\n",
       "mths_since_recent_inq             42536\n",
       "mths_since_recent_revol_delinq    42536\n",
       "num_accts_ever_120_pd             42536\n",
       "                                  ...  \n",
       "fico_range_low                        1\n",
       "application_type                      1\n",
       "debt_settlement_flag                  1\n",
       "dti                                   1\n",
       "id                                    0\n",
       "Length: 151, dtype: int64"
      ]
     },
     "execution_count": 5,
     "metadata": {},
     "output_type": "execute_result"
    }
   ],
   "source": [
    "# sprawdzenie ile jest pustych komórek w poszczególnych kolumnach\n",
    "ld.isnull().sum().sort_values(ascending = False)"
   ]
  },
  {
   "cell_type": "code",
   "execution_count": 6,
   "metadata": {},
   "outputs": [
    {
     "data": {
      "text/plain": [
       "0         1\n",
       "1        39\n",
       "5         2\n",
       "14        1\n",
       "30        8\n",
       "84        1\n",
       "91        1\n",
       "106       1\n",
       "146       2\n",
       "1113      1\n",
       "1366      1\n",
       "2627      1\n",
       "13294     1\n",
       "26927     1\n",
       "38885     1\n",
       "39787     1\n",
       "42376     6\n",
       "42536    82\n",
       "dtype: int64"
      ]
     },
     "execution_count": 6,
     "metadata": {},
     "output_type": "execute_result"
    }
   ],
   "source": [
    "ld2=ld.isnull().sum().sort_values(ascending = False)\n",
    "# sprawdzenie rozkładu ilości kolumn z brakującymi rekordami\n",
    "ld2.groupby(ld2).count()"
   ]
  },
  {
   "cell_type": "code",
   "execution_count": 7,
   "metadata": {},
   "outputs": [],
   "source": [
    "# postanawiam usunąc kolumny w których brakuje co najmniej 10000 rekordów (t.j. >20%) co stanowi 92 kolumny\n",
    "## uznaję, że jeśli brakuje aż tak dużo danych (nie były zbierane ?) to być może te etykiety nie są istotne"
   ]
  },
  {
   "cell_type": "code",
   "execution_count": 8,
   "metadata": {},
   "outputs": [
    {
     "data": {
      "text/html": [
       "<div>\n",
       "<style scoped>\n",
       "    .dataframe tbody tr th:only-of-type {\n",
       "        vertical-align: middle;\n",
       "    }\n",
       "\n",
       "    .dataframe tbody tr th {\n",
       "        vertical-align: top;\n",
       "    }\n",
       "\n",
       "    .dataframe thead th {\n",
       "        text-align: right;\n",
       "    }\n",
       "</style>\n",
       "<table border=\"1\" class=\"dataframe\">\n",
       "  <thead>\n",
       "    <tr style=\"text-align: right;\">\n",
       "      <th></th>\n",
       "      <th>index</th>\n",
       "      <th>0</th>\n",
       "    </tr>\n",
       "  </thead>\n",
       "  <tbody>\n",
       "    <tr>\n",
       "      <th>0</th>\n",
       "      <td>inq_fi</td>\n",
       "      <td>42536</td>\n",
       "    </tr>\n",
       "    <tr>\n",
       "      <th>1</th>\n",
       "      <td>mths_since_recent_bc</td>\n",
       "      <td>42536</td>\n",
       "    </tr>\n",
       "    <tr>\n",
       "      <th>2</th>\n",
       "      <td>mths_since_recent_inq</td>\n",
       "      <td>42536</td>\n",
       "    </tr>\n",
       "    <tr>\n",
       "      <th>3</th>\n",
       "      <td>mths_since_recent_revol_delinq</td>\n",
       "      <td>42536</td>\n",
       "    </tr>\n",
       "    <tr>\n",
       "      <th>4</th>\n",
       "      <td>num_accts_ever_120_pd</td>\n",
       "      <td>42536</td>\n",
       "    </tr>\n",
       "    <tr>\n",
       "      <th>...</th>\n",
       "      <td>...</td>\n",
       "      <td>...</td>\n",
       "    </tr>\n",
       "    <tr>\n",
       "      <th>146</th>\n",
       "      <td>fico_range_low</td>\n",
       "      <td>1</td>\n",
       "    </tr>\n",
       "    <tr>\n",
       "      <th>147</th>\n",
       "      <td>application_type</td>\n",
       "      <td>1</td>\n",
       "    </tr>\n",
       "    <tr>\n",
       "      <th>148</th>\n",
       "      <td>debt_settlement_flag</td>\n",
       "      <td>1</td>\n",
       "    </tr>\n",
       "    <tr>\n",
       "      <th>149</th>\n",
       "      <td>dti</td>\n",
       "      <td>1</td>\n",
       "    </tr>\n",
       "    <tr>\n",
       "      <th>150</th>\n",
       "      <td>id</td>\n",
       "      <td>0</td>\n",
       "    </tr>\n",
       "  </tbody>\n",
       "</table>\n",
       "<p>151 rows × 2 columns</p>\n",
       "</div>"
      ],
      "text/plain": [
       "                              index      0\n",
       "0                            inq_fi  42536\n",
       "1              mths_since_recent_bc  42536\n",
       "2             mths_since_recent_inq  42536\n",
       "3    mths_since_recent_revol_delinq  42536\n",
       "4             num_accts_ever_120_pd  42536\n",
       "..                              ...    ...\n",
       "146                  fico_range_low      1\n",
       "147                application_type      1\n",
       "148            debt_settlement_flag      1\n",
       "149                             dti      1\n",
       "150                              id      0\n",
       "\n",
       "[151 rows x 2 columns]"
      ]
     },
     "execution_count": 8,
     "metadata": {},
     "output_type": "execute_result"
    }
   ],
   "source": [
    "ld2=ld2.reset_index()\n",
    "ld2"
   ]
  },
  {
   "cell_type": "code",
   "execution_count": 9,
   "metadata": {},
   "outputs": [
    {
     "data": {
      "text/html": [
       "<div>\n",
       "<style scoped>\n",
       "    .dataframe tbody tr th:only-of-type {\n",
       "        vertical-align: middle;\n",
       "    }\n",
       "\n",
       "    .dataframe tbody tr th {\n",
       "        vertical-align: top;\n",
       "    }\n",
       "\n",
       "    .dataframe thead th {\n",
       "        text-align: right;\n",
       "    }\n",
       "</style>\n",
       "<table border=\"1\" class=\"dataframe\">\n",
       "  <thead>\n",
       "    <tr style=\"text-align: right;\">\n",
       "      <th></th>\n",
       "      <th>description</th>\n",
       "      <th>count</th>\n",
       "    </tr>\n",
       "  </thead>\n",
       "  <tbody>\n",
       "    <tr>\n",
       "      <th>0</th>\n",
       "      <td>inq_fi</td>\n",
       "      <td>42536</td>\n",
       "    </tr>\n",
       "    <tr>\n",
       "      <th>1</th>\n",
       "      <td>mths_since_recent_bc</td>\n",
       "      <td>42536</td>\n",
       "    </tr>\n",
       "    <tr>\n",
       "      <th>2</th>\n",
       "      <td>mths_since_recent_inq</td>\n",
       "      <td>42536</td>\n",
       "    </tr>\n",
       "    <tr>\n",
       "      <th>3</th>\n",
       "      <td>mths_since_recent_revol_delinq</td>\n",
       "      <td>42536</td>\n",
       "    </tr>\n",
       "    <tr>\n",
       "      <th>4</th>\n",
       "      <td>num_accts_ever_120_pd</td>\n",
       "      <td>42536</td>\n",
       "    </tr>\n",
       "  </tbody>\n",
       "</table>\n",
       "</div>"
      ],
      "text/plain": [
       "                      description  count\n",
       "0                          inq_fi  42536\n",
       "1            mths_since_recent_bc  42536\n",
       "2           mths_since_recent_inq  42536\n",
       "3  mths_since_recent_revol_delinq  42536\n",
       "4           num_accts_ever_120_pd  42536"
      ]
     },
     "execution_count": 9,
     "metadata": {},
     "output_type": "execute_result"
    }
   ],
   "source": [
    "ld2.columns = ['description','count']\n",
    "ld2.head()"
   ]
  },
  {
   "cell_type": "code",
   "execution_count": 10,
   "metadata": {},
   "outputs": [
    {
     "data": {
      "text/plain": [
       "description    92\n",
       "count          92\n",
       "dtype: int64"
      ]
     },
     "execution_count": 10,
     "metadata": {},
     "output_type": "execute_result"
    }
   ],
   "source": [
    "ld2[ld2['count'] >= 10000].count()"
   ]
  },
  {
   "cell_type": "code",
   "execution_count": 11,
   "metadata": {},
   "outputs": [
    {
     "data": {
      "text/html": [
       "<div>\n",
       "<style scoped>\n",
       "    .dataframe tbody tr th:only-of-type {\n",
       "        vertical-align: middle;\n",
       "    }\n",
       "\n",
       "    .dataframe tbody tr th {\n",
       "        vertical-align: top;\n",
       "    }\n",
       "\n",
       "    .dataframe thead th {\n",
       "        text-align: right;\n",
       "    }\n",
       "</style>\n",
       "<table border=\"1\" class=\"dataframe\">\n",
       "  <thead>\n",
       "    <tr style=\"text-align: right;\">\n",
       "      <th></th>\n",
       "      <th>description</th>\n",
       "      <th>count</th>\n",
       "    </tr>\n",
       "  </thead>\n",
       "  <tbody>\n",
       "    <tr>\n",
       "      <th>0</th>\n",
       "      <td>inq_fi</td>\n",
       "      <td>42536</td>\n",
       "    </tr>\n",
       "    <tr>\n",
       "      <th>1</th>\n",
       "      <td>mths_since_recent_bc</td>\n",
       "      <td>42536</td>\n",
       "    </tr>\n",
       "    <tr>\n",
       "      <th>2</th>\n",
       "      <td>mths_since_recent_inq</td>\n",
       "      <td>42536</td>\n",
       "    </tr>\n",
       "    <tr>\n",
       "      <th>3</th>\n",
       "      <td>mths_since_recent_revol_delinq</td>\n",
       "      <td>42536</td>\n",
       "    </tr>\n",
       "    <tr>\n",
       "      <th>4</th>\n",
       "      <td>num_accts_ever_120_pd</td>\n",
       "      <td>42536</td>\n",
       "    </tr>\n",
       "    <tr>\n",
       "      <th>...</th>\n",
       "      <td>...</td>\n",
       "      <td>...</td>\n",
       "    </tr>\n",
       "    <tr>\n",
       "      <th>87</th>\n",
       "      <td>settlement_date</td>\n",
       "      <td>42376</td>\n",
       "    </tr>\n",
       "    <tr>\n",
       "      <th>88</th>\n",
       "      <td>next_pymnt_d</td>\n",
       "      <td>39787</td>\n",
       "    </tr>\n",
       "    <tr>\n",
       "      <th>89</th>\n",
       "      <td>mths_since_last_record</td>\n",
       "      <td>38885</td>\n",
       "    </tr>\n",
       "    <tr>\n",
       "      <th>90</th>\n",
       "      <td>mths_since_last_delinq</td>\n",
       "      <td>26927</td>\n",
       "    </tr>\n",
       "    <tr>\n",
       "      <th>91</th>\n",
       "      <td>desc</td>\n",
       "      <td>13294</td>\n",
       "    </tr>\n",
       "  </tbody>\n",
       "</table>\n",
       "<p>92 rows × 2 columns</p>\n",
       "</div>"
      ],
      "text/plain": [
       "                       description  count\n",
       "0                           inq_fi  42536\n",
       "1             mths_since_recent_bc  42536\n",
       "2            mths_since_recent_inq  42536\n",
       "3   mths_since_recent_revol_delinq  42536\n",
       "4            num_accts_ever_120_pd  42536\n",
       "..                             ...    ...\n",
       "87                 settlement_date  42376\n",
       "88                    next_pymnt_d  39787\n",
       "89          mths_since_last_record  38885\n",
       "90          mths_since_last_delinq  26927\n",
       "91                            desc  13294\n",
       "\n",
       "[92 rows x 2 columns]"
      ]
     },
     "execution_count": 11,
     "metadata": {},
     "output_type": "execute_result"
    }
   ],
   "source": [
    "# oddzielam kolumny mające więcej niż 10000 brakujących wierszy\n",
    "ld3 = ld2[ld2['count'] >= 10000]\n",
    "ld3"
   ]
  },
  {
   "cell_type": "code",
   "execution_count": 12,
   "metadata": {},
   "outputs": [],
   "source": [
    "# tworzę listę do której zrzucę nazwy kolumn\n",
    "usun = []\n",
    "# len(ld3)\n",
    "for i in range(len(ld3)):\n",
    "    usun.append(ld3.iloc[i][0])"
   ]
  },
  {
   "cell_type": "code",
   "execution_count": 13,
   "metadata": {},
   "outputs": [
    {
     "data": {
      "text/plain": [
       "(42536, 59)"
      ]
     },
     "execution_count": 13,
     "metadata": {},
     "output_type": "execute_result"
    }
   ],
   "source": [
    "# usuwam 'hurtowo' kolumny przy pomocy listy 'us'\n",
    "ld.drop(usun, axis = 1, inplace=True)\n",
    "ld.shape\n",
    "# zredukowałem do 59 kolumn"
   ]
  },
  {
   "cell_type": "code",
   "execution_count": 11,
   "metadata": {},
   "outputs": [
    {
     "data": {
      "text/html": [
       "<div>\n",
       "<style scoped>\n",
       "    .dataframe tbody tr th:only-of-type {\n",
       "        vertical-align: middle;\n",
       "    }\n",
       "\n",
       "    .dataframe tbody tr th {\n",
       "        vertical-align: top;\n",
       "    }\n",
       "\n",
       "    .dataframe thead th {\n",
       "        text-align: right;\n",
       "    }\n",
       "</style>\n",
       "<table border=\"1\" class=\"dataframe\">\n",
       "  <thead>\n",
       "    <tr style=\"text-align: right;\">\n",
       "      <th></th>\n",
       "      <th>member_id</th>\n",
       "      <th>loan_amnt</th>\n",
       "      <th>funded_amnt</th>\n",
       "      <th>funded_amnt_inv</th>\n",
       "      <th>installment</th>\n",
       "      <th>annual_inc</th>\n",
       "      <th>dti</th>\n",
       "      <th>delinq_2yrs</th>\n",
       "      <th>fico_range_low</th>\n",
       "      <th>fico_range_high</th>\n",
       "      <th>...</th>\n",
       "      <th>payment_plan_start_date</th>\n",
       "      <th>hardship_length</th>\n",
       "      <th>hardship_dpd</th>\n",
       "      <th>hardship_loan_status</th>\n",
       "      <th>orig_projected_additional_accrued_interest</th>\n",
       "      <th>hardship_payoff_balance_amount</th>\n",
       "      <th>hardship_last_payment_amount</th>\n",
       "      <th>settlement_amount</th>\n",
       "      <th>settlement_percentage</th>\n",
       "      <th>settlement_term</th>\n",
       "    </tr>\n",
       "  </thead>\n",
       "  <tbody>\n",
       "    <tr>\n",
       "      <th>count</th>\n",
       "      <td>0.0</td>\n",
       "      <td>42535.000000</td>\n",
       "      <td>42535.000000</td>\n",
       "      <td>42535.000000</td>\n",
       "      <td>42535.000000</td>\n",
       "      <td>4.253100e+04</td>\n",
       "      <td>42535.000000</td>\n",
       "      <td>42506.000000</td>\n",
       "      <td>42535.000000</td>\n",
       "      <td>42535.000000</td>\n",
       "      <td>...</td>\n",
       "      <td>0.0</td>\n",
       "      <td>0.0</td>\n",
       "      <td>0.0</td>\n",
       "      <td>0.0</td>\n",
       "      <td>0.0</td>\n",
       "      <td>0.0</td>\n",
       "      <td>0.0</td>\n",
       "      <td>160.000000</td>\n",
       "      <td>160.000000</td>\n",
       "      <td>160.000000</td>\n",
       "    </tr>\n",
       "    <tr>\n",
       "      <th>mean</th>\n",
       "      <td>NaN</td>\n",
       "      <td>11089.722581</td>\n",
       "      <td>10821.585753</td>\n",
       "      <td>10139.938785</td>\n",
       "      <td>322.623063</td>\n",
       "      <td>6.913656e+04</td>\n",
       "      <td>13.373043</td>\n",
       "      <td>0.152449</td>\n",
       "      <td>713.052545</td>\n",
       "      <td>717.052545</td>\n",
       "      <td>...</td>\n",
       "      <td>NaN</td>\n",
       "      <td>NaN</td>\n",
       "      <td>NaN</td>\n",
       "      <td>NaN</td>\n",
       "      <td>NaN</td>\n",
       "      <td>NaN</td>\n",
       "      <td>NaN</td>\n",
       "      <td>4272.137875</td>\n",
       "      <td>49.905875</td>\n",
       "      <td>1.200000</td>\n",
       "    </tr>\n",
       "    <tr>\n",
       "      <th>std</th>\n",
       "      <td>NaN</td>\n",
       "      <td>7410.938391</td>\n",
       "      <td>7146.914675</td>\n",
       "      <td>7131.598014</td>\n",
       "      <td>208.927216</td>\n",
       "      <td>6.409635e+04</td>\n",
       "      <td>6.726315</td>\n",
       "      <td>0.512406</td>\n",
       "      <td>36.188439</td>\n",
       "      <td>36.188439</td>\n",
       "      <td>...</td>\n",
       "      <td>NaN</td>\n",
       "      <td>NaN</td>\n",
       "      <td>NaN</td>\n",
       "      <td>NaN</td>\n",
       "      <td>NaN</td>\n",
       "      <td>NaN</td>\n",
       "      <td>NaN</td>\n",
       "      <td>3119.373774</td>\n",
       "      <td>15.563690</td>\n",
       "      <td>4.085255</td>\n",
       "    </tr>\n",
       "    <tr>\n",
       "      <th>min</th>\n",
       "      <td>NaN</td>\n",
       "      <td>500.000000</td>\n",
       "      <td>500.000000</td>\n",
       "      <td>0.000000</td>\n",
       "      <td>15.670000</td>\n",
       "      <td>1.896000e+03</td>\n",
       "      <td>0.000000</td>\n",
       "      <td>0.000000</td>\n",
       "      <td>610.000000</td>\n",
       "      <td>614.000000</td>\n",
       "      <td>...</td>\n",
       "      <td>NaN</td>\n",
       "      <td>NaN</td>\n",
       "      <td>NaN</td>\n",
       "      <td>NaN</td>\n",
       "      <td>NaN</td>\n",
       "      <td>NaN</td>\n",
       "      <td>NaN</td>\n",
       "      <td>193.290000</td>\n",
       "      <td>10.690000</td>\n",
       "      <td>0.000000</td>\n",
       "    </tr>\n",
       "    <tr>\n",
       "      <th>25%</th>\n",
       "      <td>NaN</td>\n",
       "      <td>5200.000000</td>\n",
       "      <td>5000.000000</td>\n",
       "      <td>4950.000000</td>\n",
       "      <td>165.520000</td>\n",
       "      <td>4.000000e+04</td>\n",
       "      <td>8.200000</td>\n",
       "      <td>0.000000</td>\n",
       "      <td>685.000000</td>\n",
       "      <td>689.000000</td>\n",
       "      <td>...</td>\n",
       "      <td>NaN</td>\n",
       "      <td>NaN</td>\n",
       "      <td>NaN</td>\n",
       "      <td>NaN</td>\n",
       "      <td>NaN</td>\n",
       "      <td>NaN</td>\n",
       "      <td>NaN</td>\n",
       "      <td>1842.750000</td>\n",
       "      <td>40.000000</td>\n",
       "      <td>0.000000</td>\n",
       "    </tr>\n",
       "    <tr>\n",
       "      <th>50%</th>\n",
       "      <td>NaN</td>\n",
       "      <td>9700.000000</td>\n",
       "      <td>9600.000000</td>\n",
       "      <td>8500.000000</td>\n",
       "      <td>277.690000</td>\n",
       "      <td>5.900000e+04</td>\n",
       "      <td>13.470000</td>\n",
       "      <td>0.000000</td>\n",
       "      <td>710.000000</td>\n",
       "      <td>714.000000</td>\n",
       "      <td>...</td>\n",
       "      <td>NaN</td>\n",
       "      <td>NaN</td>\n",
       "      <td>NaN</td>\n",
       "      <td>NaN</td>\n",
       "      <td>NaN</td>\n",
       "      <td>NaN</td>\n",
       "      <td>NaN</td>\n",
       "      <td>3499.350000</td>\n",
       "      <td>49.970000</td>\n",
       "      <td>0.000000</td>\n",
       "    </tr>\n",
       "    <tr>\n",
       "      <th>75%</th>\n",
       "      <td>NaN</td>\n",
       "      <td>15000.000000</td>\n",
       "      <td>15000.000000</td>\n",
       "      <td>14000.000000</td>\n",
       "      <td>428.180000</td>\n",
       "      <td>8.250000e+04</td>\n",
       "      <td>18.680000</td>\n",
       "      <td>0.000000</td>\n",
       "      <td>740.000000</td>\n",
       "      <td>744.000000</td>\n",
       "      <td>...</td>\n",
       "      <td>NaN</td>\n",
       "      <td>NaN</td>\n",
       "      <td>NaN</td>\n",
       "      <td>NaN</td>\n",
       "      <td>NaN</td>\n",
       "      <td>NaN</td>\n",
       "      <td>NaN</td>\n",
       "      <td>5701.100000</td>\n",
       "      <td>60.652500</td>\n",
       "      <td>0.000000</td>\n",
       "    </tr>\n",
       "    <tr>\n",
       "      <th>max</th>\n",
       "      <td>NaN</td>\n",
       "      <td>35000.000000</td>\n",
       "      <td>35000.000000</td>\n",
       "      <td>35000.000000</td>\n",
       "      <td>1305.190000</td>\n",
       "      <td>6.000000e+06</td>\n",
       "      <td>29.990000</td>\n",
       "      <td>13.000000</td>\n",
       "      <td>825.000000</td>\n",
       "      <td>829.000000</td>\n",
       "      <td>...</td>\n",
       "      <td>NaN</td>\n",
       "      <td>NaN</td>\n",
       "      <td>NaN</td>\n",
       "      <td>NaN</td>\n",
       "      <td>NaN</td>\n",
       "      <td>NaN</td>\n",
       "      <td>NaN</td>\n",
       "      <td>14798.200000</td>\n",
       "      <td>92.740000</td>\n",
       "      <td>24.000000</td>\n",
       "    </tr>\n",
       "  </tbody>\n",
       "</table>\n",
       "<p>8 rows × 120 columns</p>\n",
       "</div>"
      ],
      "text/plain": [
       "       member_id     loan_amnt   funded_amnt  funded_amnt_inv   installment  \\\n",
       "count        0.0  42535.000000  42535.000000     42535.000000  42535.000000   \n",
       "mean         NaN  11089.722581  10821.585753     10139.938785    322.623063   \n",
       "std          NaN   7410.938391   7146.914675      7131.598014    208.927216   \n",
       "min          NaN    500.000000    500.000000         0.000000     15.670000   \n",
       "25%          NaN   5200.000000   5000.000000      4950.000000    165.520000   \n",
       "50%          NaN   9700.000000   9600.000000      8500.000000    277.690000   \n",
       "75%          NaN  15000.000000  15000.000000     14000.000000    428.180000   \n",
       "max          NaN  35000.000000  35000.000000     35000.000000   1305.190000   \n",
       "\n",
       "         annual_inc           dti   delinq_2yrs  fico_range_low  \\\n",
       "count  4.253100e+04  42535.000000  42506.000000    42535.000000   \n",
       "mean   6.913656e+04     13.373043      0.152449      713.052545   \n",
       "std    6.409635e+04      6.726315      0.512406       36.188439   \n",
       "min    1.896000e+03      0.000000      0.000000      610.000000   \n",
       "25%    4.000000e+04      8.200000      0.000000      685.000000   \n",
       "50%    5.900000e+04     13.470000      0.000000      710.000000   \n",
       "75%    8.250000e+04     18.680000      0.000000      740.000000   \n",
       "max    6.000000e+06     29.990000     13.000000      825.000000   \n",
       "\n",
       "       fico_range_high  ...  payment_plan_start_date  hardship_length  \\\n",
       "count     42535.000000  ...                      0.0              0.0   \n",
       "mean        717.052545  ...                      NaN              NaN   \n",
       "std          36.188439  ...                      NaN              NaN   \n",
       "min         614.000000  ...                      NaN              NaN   \n",
       "25%         689.000000  ...                      NaN              NaN   \n",
       "50%         714.000000  ...                      NaN              NaN   \n",
       "75%         744.000000  ...                      NaN              NaN   \n",
       "max         829.000000  ...                      NaN              NaN   \n",
       "\n",
       "       hardship_dpd  hardship_loan_status  \\\n",
       "count           0.0                   0.0   \n",
       "mean            NaN                   NaN   \n",
       "std             NaN                   NaN   \n",
       "min             NaN                   NaN   \n",
       "25%             NaN                   NaN   \n",
       "50%             NaN                   NaN   \n",
       "75%             NaN                   NaN   \n",
       "max             NaN                   NaN   \n",
       "\n",
       "       orig_projected_additional_accrued_interest  \\\n",
       "count                                         0.0   \n",
       "mean                                          NaN   \n",
       "std                                           NaN   \n",
       "min                                           NaN   \n",
       "25%                                           NaN   \n",
       "50%                                           NaN   \n",
       "75%                                           NaN   \n",
       "max                                           NaN   \n",
       "\n",
       "       hardship_payoff_balance_amount  hardship_last_payment_amount  \\\n",
       "count                             0.0                           0.0   \n",
       "mean                              NaN                           NaN   \n",
       "std                               NaN                           NaN   \n",
       "min                               NaN                           NaN   \n",
       "25%                               NaN                           NaN   \n",
       "50%                               NaN                           NaN   \n",
       "75%                               NaN                           NaN   \n",
       "max                               NaN                           NaN   \n",
       "\n",
       "       settlement_amount  settlement_percentage  settlement_term  \n",
       "count         160.000000             160.000000       160.000000  \n",
       "mean         4272.137875              49.905875         1.200000  \n",
       "std          3119.373774              15.563690         4.085255  \n",
       "min           193.290000              10.690000         0.000000  \n",
       "25%          1842.750000              40.000000         0.000000  \n",
       "50%          3499.350000              49.970000         0.000000  \n",
       "75%          5701.100000              60.652500         0.000000  \n",
       "max         14798.200000              92.740000        24.000000  \n",
       "\n",
       "[8 rows x 120 columns]"
      ]
     },
     "execution_count": 11,
     "metadata": {},
     "output_type": "execute_result"
    }
   ],
   "source": [
    "ld.describe()"
   ]
  },
  {
   "cell_type": "code",
   "execution_count": 12,
   "metadata": {},
   "outputs": [
    {
     "data": {
      "text/html": [
       "<div>\n",
       "<style scoped>\n",
       "    .dataframe tbody tr th:only-of-type {\n",
       "        vertical-align: middle;\n",
       "    }\n",
       "\n",
       "    .dataframe tbody tr th {\n",
       "        vertical-align: top;\n",
       "    }\n",
       "\n",
       "    .dataframe thead th {\n",
       "        text-align: right;\n",
       "    }\n",
       "</style>\n",
       "<table border=\"1\" class=\"dataframe\">\n",
       "  <thead>\n",
       "    <tr style=\"text-align: right;\">\n",
       "      <th></th>\n",
       "      <th>id</th>\n",
       "      <th>member_id</th>\n",
       "      <th>loan_amnt</th>\n",
       "      <th>funded_amnt</th>\n",
       "      <th>funded_amnt_inv</th>\n",
       "      <th>term</th>\n",
       "      <th>int_rate</th>\n",
       "      <th>installment</th>\n",
       "      <th>grade</th>\n",
       "      <th>sub_grade</th>\n",
       "      <th>...</th>\n",
       "      <th>hardship_payoff_balance_amount</th>\n",
       "      <th>hardship_last_payment_amount</th>\n",
       "      <th>disbursement_method</th>\n",
       "      <th>debt_settlement_flag</th>\n",
       "      <th>debt_settlement_flag_date</th>\n",
       "      <th>settlement_status</th>\n",
       "      <th>settlement_date</th>\n",
       "      <th>settlement_amount</th>\n",
       "      <th>settlement_percentage</th>\n",
       "      <th>settlement_term</th>\n",
       "    </tr>\n",
       "  </thead>\n",
       "  <tbody>\n",
       "    <tr>\n",
       "      <th>0</th>\n",
       "      <td>1077501</td>\n",
       "      <td>NaN</td>\n",
       "      <td>5000.0</td>\n",
       "      <td>5000.0</td>\n",
       "      <td>4975.0</td>\n",
       "      <td>36 months</td>\n",
       "      <td>10.65%</td>\n",
       "      <td>162.87</td>\n",
       "      <td>B</td>\n",
       "      <td>B2</td>\n",
       "      <td>...</td>\n",
       "      <td>NaN</td>\n",
       "      <td>NaN</td>\n",
       "      <td>Cash</td>\n",
       "      <td>N</td>\n",
       "      <td>NaN</td>\n",
       "      <td>NaN</td>\n",
       "      <td>NaN</td>\n",
       "      <td>NaN</td>\n",
       "      <td>NaN</td>\n",
       "      <td>NaN</td>\n",
       "    </tr>\n",
       "    <tr>\n",
       "      <th>1</th>\n",
       "      <td>1077430</td>\n",
       "      <td>NaN</td>\n",
       "      <td>2500.0</td>\n",
       "      <td>2500.0</td>\n",
       "      <td>2500.0</td>\n",
       "      <td>60 months</td>\n",
       "      <td>15.27%</td>\n",
       "      <td>59.83</td>\n",
       "      <td>C</td>\n",
       "      <td>C4</td>\n",
       "      <td>...</td>\n",
       "      <td>NaN</td>\n",
       "      <td>NaN</td>\n",
       "      <td>Cash</td>\n",
       "      <td>N</td>\n",
       "      <td>NaN</td>\n",
       "      <td>NaN</td>\n",
       "      <td>NaN</td>\n",
       "      <td>NaN</td>\n",
       "      <td>NaN</td>\n",
       "      <td>NaN</td>\n",
       "    </tr>\n",
       "    <tr>\n",
       "      <th>2</th>\n",
       "      <td>1077175</td>\n",
       "      <td>NaN</td>\n",
       "      <td>2400.0</td>\n",
       "      <td>2400.0</td>\n",
       "      <td>2400.0</td>\n",
       "      <td>36 months</td>\n",
       "      <td>15.96%</td>\n",
       "      <td>84.33</td>\n",
       "      <td>C</td>\n",
       "      <td>C5</td>\n",
       "      <td>...</td>\n",
       "      <td>NaN</td>\n",
       "      <td>NaN</td>\n",
       "      <td>Cash</td>\n",
       "      <td>N</td>\n",
       "      <td>NaN</td>\n",
       "      <td>NaN</td>\n",
       "      <td>NaN</td>\n",
       "      <td>NaN</td>\n",
       "      <td>NaN</td>\n",
       "      <td>NaN</td>\n",
       "    </tr>\n",
       "    <tr>\n",
       "      <th>3</th>\n",
       "      <td>1076863</td>\n",
       "      <td>NaN</td>\n",
       "      <td>10000.0</td>\n",
       "      <td>10000.0</td>\n",
       "      <td>10000.0</td>\n",
       "      <td>36 months</td>\n",
       "      <td>13.49%</td>\n",
       "      <td>339.31</td>\n",
       "      <td>C</td>\n",
       "      <td>C1</td>\n",
       "      <td>...</td>\n",
       "      <td>NaN</td>\n",
       "      <td>NaN</td>\n",
       "      <td>Cash</td>\n",
       "      <td>N</td>\n",
       "      <td>NaN</td>\n",
       "      <td>NaN</td>\n",
       "      <td>NaN</td>\n",
       "      <td>NaN</td>\n",
       "      <td>NaN</td>\n",
       "      <td>NaN</td>\n",
       "    </tr>\n",
       "    <tr>\n",
       "      <th>4</th>\n",
       "      <td>1075358</td>\n",
       "      <td>NaN</td>\n",
       "      <td>3000.0</td>\n",
       "      <td>3000.0</td>\n",
       "      <td>3000.0</td>\n",
       "      <td>60 months</td>\n",
       "      <td>12.69%</td>\n",
       "      <td>67.79</td>\n",
       "      <td>B</td>\n",
       "      <td>B5</td>\n",
       "      <td>...</td>\n",
       "      <td>NaN</td>\n",
       "      <td>NaN</td>\n",
       "      <td>Cash</td>\n",
       "      <td>N</td>\n",
       "      <td>NaN</td>\n",
       "      <td>NaN</td>\n",
       "      <td>NaN</td>\n",
       "      <td>NaN</td>\n",
       "      <td>NaN</td>\n",
       "      <td>NaN</td>\n",
       "    </tr>\n",
       "  </tbody>\n",
       "</table>\n",
       "<p>5 rows × 151 columns</p>\n",
       "</div>"
      ],
      "text/plain": [
       "        id  member_id  loan_amnt  funded_amnt  funded_amnt_inv        term  \\\n",
       "0  1077501        NaN     5000.0       5000.0           4975.0   36 months   \n",
       "1  1077430        NaN     2500.0       2500.0           2500.0   60 months   \n",
       "2  1077175        NaN     2400.0       2400.0           2400.0   36 months   \n",
       "3  1076863        NaN    10000.0      10000.0          10000.0   36 months   \n",
       "4  1075358        NaN     3000.0       3000.0           3000.0   60 months   \n",
       "\n",
       "  int_rate  installment grade sub_grade  ... hardship_payoff_balance_amount  \\\n",
       "0   10.65%       162.87     B        B2  ...                            NaN   \n",
       "1   15.27%        59.83     C        C4  ...                            NaN   \n",
       "2   15.96%        84.33     C        C5  ...                            NaN   \n",
       "3   13.49%       339.31     C        C1  ...                            NaN   \n",
       "4   12.69%        67.79     B        B5  ...                            NaN   \n",
       "\n",
       "  hardship_last_payment_amount disbursement_method  debt_settlement_flag  \\\n",
       "0                          NaN                Cash                     N   \n",
       "1                          NaN                Cash                     N   \n",
       "2                          NaN                Cash                     N   \n",
       "3                          NaN                Cash                     N   \n",
       "4                          NaN                Cash                     N   \n",
       "\n",
       "  debt_settlement_flag_date settlement_status settlement_date  \\\n",
       "0                       NaN               NaN             NaN   \n",
       "1                       NaN               NaN             NaN   \n",
       "2                       NaN               NaN             NaN   \n",
       "3                       NaN               NaN             NaN   \n",
       "4                       NaN               NaN             NaN   \n",
       "\n",
       "  settlement_amount settlement_percentage settlement_term  \n",
       "0               NaN                   NaN             NaN  \n",
       "1               NaN                   NaN             NaN  \n",
       "2               NaN                   NaN             NaN  \n",
       "3               NaN                   NaN             NaN  \n",
       "4               NaN                   NaN             NaN  \n",
       "\n",
       "[5 rows x 151 columns]"
      ]
     },
     "execution_count": 12,
     "metadata": {},
     "output_type": "execute_result"
    }
   ],
   "source": [
    "ld.head()"
   ]
  },
  {
   "cell_type": "code",
   "execution_count": 13,
   "metadata": {},
   "outputs": [
    {
     "name": "stdout",
     "output_type": "stream",
     "text": [
      "<class 'pandas.core.frame.DataFrame'>\n",
      "RangeIndex: 42536 entries, 0 to 42535\n",
      "Columns: 151 entries, id to settlement_term\n",
      "dtypes: float64(120), object(31)\n",
      "memory usage: 49.0+ MB\n"
     ]
    }
   ],
   "source": [
    "ld.info()"
   ]
  },
  {
   "cell_type": "code",
   "execution_count": 14,
   "metadata": {},
   "outputs": [],
   "source": [
    "#ld.isna().sum().sort_values"
   ]
  },
  {
   "cell_type": "markdown",
   "metadata": {},
   "source": [
    "Teraz zajmę się poszczególnymi kolumnami, uzupełniając 'NaN', zera oraz konwertując na zmienne numeryczne "
   ]
  },
  {
   "cell_type": "code",
   "execution_count": 15,
   "metadata": {},
   "outputs": [],
   "source": [
    "# w kolumnie 'annual_inc' brakuje 4 wartości, a ten parametr może byc ważny przy kredytach\n",
    "## ponieważ brakujące wartości mogą mieć duży rozrzut, wolę te wiersze usunąc niż wypełniać\n",
    "ld.dropna(axis = 0, subset = ['annual_inc'], inplace=True)"
   ]
  },
  {
   "cell_type": "code",
   "execution_count": 16,
   "metadata": {},
   "outputs": [
    {
     "data": {
      "text/html": [
       "<div>\n",
       "<style scoped>\n",
       "    .dataframe tbody tr th:only-of-type {\n",
       "        vertical-align: middle;\n",
       "    }\n",
       "\n",
       "    .dataframe tbody tr th {\n",
       "        vertical-align: top;\n",
       "    }\n",
       "\n",
       "    .dataframe thead th {\n",
       "        text-align: right;\n",
       "    }\n",
       "</style>\n",
       "<table border=\"1\" class=\"dataframe\">\n",
       "  <thead>\n",
       "    <tr style=\"text-align: right;\">\n",
       "      <th></th>\n",
       "      <th>member_id</th>\n",
       "      <th>loan_amnt</th>\n",
       "      <th>funded_amnt</th>\n",
       "      <th>funded_amnt_inv</th>\n",
       "      <th>installment</th>\n",
       "      <th>annual_inc</th>\n",
       "      <th>dti</th>\n",
       "      <th>delinq_2yrs</th>\n",
       "      <th>fico_range_low</th>\n",
       "      <th>fico_range_high</th>\n",
       "      <th>...</th>\n",
       "      <th>payment_plan_start_date</th>\n",
       "      <th>hardship_length</th>\n",
       "      <th>hardship_dpd</th>\n",
       "      <th>hardship_loan_status</th>\n",
       "      <th>orig_projected_additional_accrued_interest</th>\n",
       "      <th>hardship_payoff_balance_amount</th>\n",
       "      <th>hardship_last_payment_amount</th>\n",
       "      <th>settlement_amount</th>\n",
       "      <th>settlement_percentage</th>\n",
       "      <th>settlement_term</th>\n",
       "    </tr>\n",
       "  </thead>\n",
       "  <tbody>\n",
       "    <tr>\n",
       "      <th>count</th>\n",
       "      <td>0.0</td>\n",
       "      <td>42531.000000</td>\n",
       "      <td>42531.000000</td>\n",
       "      <td>42531.000000</td>\n",
       "      <td>42531.000000</td>\n",
       "      <td>4.253100e+04</td>\n",
       "      <td>42531.000000</td>\n",
       "      <td>42506.000000</td>\n",
       "      <td>42531.000000</td>\n",
       "      <td>42531.000000</td>\n",
       "      <td>...</td>\n",
       "      <td>0.0</td>\n",
       "      <td>0.0</td>\n",
       "      <td>0.0</td>\n",
       "      <td>0.0</td>\n",
       "      <td>0.0</td>\n",
       "      <td>0.0</td>\n",
       "      <td>0.0</td>\n",
       "      <td>160.000000</td>\n",
       "      <td>160.000000</td>\n",
       "      <td>160.000000</td>\n",
       "    </tr>\n",
       "    <tr>\n",
       "      <th>mean</th>\n",
       "      <td>NaN</td>\n",
       "      <td>11090.173050</td>\n",
       "      <td>10822.011004</td>\n",
       "      <td>10140.582662</td>\n",
       "      <td>322.634879</td>\n",
       "      <td>6.913656e+04</td>\n",
       "      <td>13.374136</td>\n",
       "      <td>0.152449</td>\n",
       "      <td>713.045778</td>\n",
       "      <td>717.045778</td>\n",
       "      <td>...</td>\n",
       "      <td>NaN</td>\n",
       "      <td>NaN</td>\n",
       "      <td>NaN</td>\n",
       "      <td>NaN</td>\n",
       "      <td>NaN</td>\n",
       "      <td>NaN</td>\n",
       "      <td>NaN</td>\n",
       "      <td>4272.137875</td>\n",
       "      <td>49.905875</td>\n",
       "      <td>1.200000</td>\n",
       "    </tr>\n",
       "    <tr>\n",
       "      <th>std</th>\n",
       "      <td>NaN</td>\n",
       "      <td>7411.137529</td>\n",
       "      <td>7147.112309</td>\n",
       "      <td>7131.587121</td>\n",
       "      <td>208.933353</td>\n",
       "      <td>6.409635e+04</td>\n",
       "      <td>6.725675</td>\n",
       "      <td>0.512406</td>\n",
       "      <td>36.182535</td>\n",
       "      <td>36.182535</td>\n",
       "      <td>...</td>\n",
       "      <td>NaN</td>\n",
       "      <td>NaN</td>\n",
       "      <td>NaN</td>\n",
       "      <td>NaN</td>\n",
       "      <td>NaN</td>\n",
       "      <td>NaN</td>\n",
       "      <td>NaN</td>\n",
       "      <td>3119.373774</td>\n",
       "      <td>15.563690</td>\n",
       "      <td>4.085255</td>\n",
       "    </tr>\n",
       "    <tr>\n",
       "      <th>min</th>\n",
       "      <td>NaN</td>\n",
       "      <td>500.000000</td>\n",
       "      <td>500.000000</td>\n",
       "      <td>0.000000</td>\n",
       "      <td>15.670000</td>\n",
       "      <td>1.896000e+03</td>\n",
       "      <td>0.000000</td>\n",
       "      <td>0.000000</td>\n",
       "      <td>610.000000</td>\n",
       "      <td>614.000000</td>\n",
       "      <td>...</td>\n",
       "      <td>NaN</td>\n",
       "      <td>NaN</td>\n",
       "      <td>NaN</td>\n",
       "      <td>NaN</td>\n",
       "      <td>NaN</td>\n",
       "      <td>NaN</td>\n",
       "      <td>NaN</td>\n",
       "      <td>193.290000</td>\n",
       "      <td>10.690000</td>\n",
       "      <td>0.000000</td>\n",
       "    </tr>\n",
       "    <tr>\n",
       "      <th>25%</th>\n",
       "      <td>NaN</td>\n",
       "      <td>5200.000000</td>\n",
       "      <td>5000.000000</td>\n",
       "      <td>4950.000000</td>\n",
       "      <td>165.520000</td>\n",
       "      <td>4.000000e+04</td>\n",
       "      <td>8.200000</td>\n",
       "      <td>0.000000</td>\n",
       "      <td>685.000000</td>\n",
       "      <td>689.000000</td>\n",
       "      <td>...</td>\n",
       "      <td>NaN</td>\n",
       "      <td>NaN</td>\n",
       "      <td>NaN</td>\n",
       "      <td>NaN</td>\n",
       "      <td>NaN</td>\n",
       "      <td>NaN</td>\n",
       "      <td>NaN</td>\n",
       "      <td>1842.750000</td>\n",
       "      <td>40.000000</td>\n",
       "      <td>0.000000</td>\n",
       "    </tr>\n",
       "    <tr>\n",
       "      <th>50%</th>\n",
       "      <td>NaN</td>\n",
       "      <td>9700.000000</td>\n",
       "      <td>9600.000000</td>\n",
       "      <td>8500.000000</td>\n",
       "      <td>277.710000</td>\n",
       "      <td>5.900000e+04</td>\n",
       "      <td>13.470000</td>\n",
       "      <td>0.000000</td>\n",
       "      <td>710.000000</td>\n",
       "      <td>714.000000</td>\n",
       "      <td>...</td>\n",
       "      <td>NaN</td>\n",
       "      <td>NaN</td>\n",
       "      <td>NaN</td>\n",
       "      <td>NaN</td>\n",
       "      <td>NaN</td>\n",
       "      <td>NaN</td>\n",
       "      <td>NaN</td>\n",
       "      <td>3499.350000</td>\n",
       "      <td>49.970000</td>\n",
       "      <td>0.000000</td>\n",
       "    </tr>\n",
       "    <tr>\n",
       "      <th>75%</th>\n",
       "      <td>NaN</td>\n",
       "      <td>15000.000000</td>\n",
       "      <td>15000.000000</td>\n",
       "      <td>14000.000000</td>\n",
       "      <td>428.275000</td>\n",
       "      <td>8.250000e+04</td>\n",
       "      <td>18.680000</td>\n",
       "      <td>0.000000</td>\n",
       "      <td>740.000000</td>\n",
       "      <td>744.000000</td>\n",
       "      <td>...</td>\n",
       "      <td>NaN</td>\n",
       "      <td>NaN</td>\n",
       "      <td>NaN</td>\n",
       "      <td>NaN</td>\n",
       "      <td>NaN</td>\n",
       "      <td>NaN</td>\n",
       "      <td>NaN</td>\n",
       "      <td>5701.100000</td>\n",
       "      <td>60.652500</td>\n",
       "      <td>0.000000</td>\n",
       "    </tr>\n",
       "    <tr>\n",
       "      <th>max</th>\n",
       "      <td>NaN</td>\n",
       "      <td>35000.000000</td>\n",
       "      <td>35000.000000</td>\n",
       "      <td>35000.000000</td>\n",
       "      <td>1305.190000</td>\n",
       "      <td>6.000000e+06</td>\n",
       "      <td>29.990000</td>\n",
       "      <td>13.000000</td>\n",
       "      <td>825.000000</td>\n",
       "      <td>829.000000</td>\n",
       "      <td>...</td>\n",
       "      <td>NaN</td>\n",
       "      <td>NaN</td>\n",
       "      <td>NaN</td>\n",
       "      <td>NaN</td>\n",
       "      <td>NaN</td>\n",
       "      <td>NaN</td>\n",
       "      <td>NaN</td>\n",
       "      <td>14798.200000</td>\n",
       "      <td>92.740000</td>\n",
       "      <td>24.000000</td>\n",
       "    </tr>\n",
       "  </tbody>\n",
       "</table>\n",
       "<p>8 rows × 120 columns</p>\n",
       "</div>"
      ],
      "text/plain": [
       "       member_id     loan_amnt   funded_amnt  funded_amnt_inv   installment  \\\n",
       "count        0.0  42531.000000  42531.000000     42531.000000  42531.000000   \n",
       "mean         NaN  11090.173050  10822.011004     10140.582662    322.634879   \n",
       "std          NaN   7411.137529   7147.112309      7131.587121    208.933353   \n",
       "min          NaN    500.000000    500.000000         0.000000     15.670000   \n",
       "25%          NaN   5200.000000   5000.000000      4950.000000    165.520000   \n",
       "50%          NaN   9700.000000   9600.000000      8500.000000    277.710000   \n",
       "75%          NaN  15000.000000  15000.000000     14000.000000    428.275000   \n",
       "max          NaN  35000.000000  35000.000000     35000.000000   1305.190000   \n",
       "\n",
       "         annual_inc           dti   delinq_2yrs  fico_range_low  \\\n",
       "count  4.253100e+04  42531.000000  42506.000000    42531.000000   \n",
       "mean   6.913656e+04     13.374136      0.152449      713.045778   \n",
       "std    6.409635e+04      6.725675      0.512406       36.182535   \n",
       "min    1.896000e+03      0.000000      0.000000      610.000000   \n",
       "25%    4.000000e+04      8.200000      0.000000      685.000000   \n",
       "50%    5.900000e+04     13.470000      0.000000      710.000000   \n",
       "75%    8.250000e+04     18.680000      0.000000      740.000000   \n",
       "max    6.000000e+06     29.990000     13.000000      825.000000   \n",
       "\n",
       "       fico_range_high  ...  payment_plan_start_date  hardship_length  \\\n",
       "count     42531.000000  ...                      0.0              0.0   \n",
       "mean        717.045778  ...                      NaN              NaN   \n",
       "std          36.182535  ...                      NaN              NaN   \n",
       "min         614.000000  ...                      NaN              NaN   \n",
       "25%         689.000000  ...                      NaN              NaN   \n",
       "50%         714.000000  ...                      NaN              NaN   \n",
       "75%         744.000000  ...                      NaN              NaN   \n",
       "max         829.000000  ...                      NaN              NaN   \n",
       "\n",
       "       hardship_dpd  hardship_loan_status  \\\n",
       "count           0.0                   0.0   \n",
       "mean            NaN                   NaN   \n",
       "std             NaN                   NaN   \n",
       "min             NaN                   NaN   \n",
       "25%             NaN                   NaN   \n",
       "50%             NaN                   NaN   \n",
       "75%             NaN                   NaN   \n",
       "max             NaN                   NaN   \n",
       "\n",
       "       orig_projected_additional_accrued_interest  \\\n",
       "count                                         0.0   \n",
       "mean                                          NaN   \n",
       "std                                           NaN   \n",
       "min                                           NaN   \n",
       "25%                                           NaN   \n",
       "50%                                           NaN   \n",
       "75%                                           NaN   \n",
       "max                                           NaN   \n",
       "\n",
       "       hardship_payoff_balance_amount  hardship_last_payment_amount  \\\n",
       "count                             0.0                           0.0   \n",
       "mean                              NaN                           NaN   \n",
       "std                               NaN                           NaN   \n",
       "min                               NaN                           NaN   \n",
       "25%                               NaN                           NaN   \n",
       "50%                               NaN                           NaN   \n",
       "75%                               NaN                           NaN   \n",
       "max                               NaN                           NaN   \n",
       "\n",
       "       settlement_amount  settlement_percentage  settlement_term  \n",
       "count         160.000000             160.000000       160.000000  \n",
       "mean         4272.137875              49.905875         1.200000  \n",
       "std          3119.373774              15.563690         4.085255  \n",
       "min           193.290000              10.690000         0.000000  \n",
       "25%          1842.750000              40.000000         0.000000  \n",
       "50%          3499.350000              49.970000         0.000000  \n",
       "75%          5701.100000              60.652500         0.000000  \n",
       "max         14798.200000              92.740000        24.000000  \n",
       "\n",
       "[8 rows x 120 columns]"
      ]
     },
     "execution_count": 16,
     "metadata": {},
     "output_type": "execute_result"
    }
   ],
   "source": [
    "ld.describe()"
   ]
  },
  {
   "cell_type": "code",
   "execution_count": 17,
   "metadata": {},
   "outputs": [
    {
     "data": {
      "text/html": [
       "<div>\n",
       "<style scoped>\n",
       "    .dataframe tbody tr th:only-of-type {\n",
       "        vertical-align: middle;\n",
       "    }\n",
       "\n",
       "    .dataframe tbody tr th {\n",
       "        vertical-align: top;\n",
       "    }\n",
       "\n",
       "    .dataframe thead th {\n",
       "        text-align: right;\n",
       "    }\n",
       "</style>\n",
       "<table border=\"1\" class=\"dataframe\">\n",
       "  <thead>\n",
       "    <tr style=\"text-align: right;\">\n",
       "      <th></th>\n",
       "      <th>id</th>\n",
       "      <th>member_id</th>\n",
       "      <th>loan_amnt</th>\n",
       "      <th>funded_amnt</th>\n",
       "      <th>funded_amnt_inv</th>\n",
       "      <th>term</th>\n",
       "      <th>int_rate</th>\n",
       "      <th>installment</th>\n",
       "      <th>grade</th>\n",
       "      <th>sub_grade</th>\n",
       "      <th>...</th>\n",
       "      <th>hardship_payoff_balance_amount</th>\n",
       "      <th>hardship_last_payment_amount</th>\n",
       "      <th>disbursement_method</th>\n",
       "      <th>debt_settlement_flag</th>\n",
       "      <th>debt_settlement_flag_date</th>\n",
       "      <th>settlement_status</th>\n",
       "      <th>settlement_date</th>\n",
       "      <th>settlement_amount</th>\n",
       "      <th>settlement_percentage</th>\n",
       "      <th>settlement_term</th>\n",
       "    </tr>\n",
       "  </thead>\n",
       "  <tbody>\n",
       "    <tr>\n",
       "      <th>0</th>\n",
       "      <td>1077501</td>\n",
       "      <td>NaN</td>\n",
       "      <td>5000.0</td>\n",
       "      <td>5000.0</td>\n",
       "      <td>4975.0</td>\n",
       "      <td>36 months</td>\n",
       "      <td>10.65%</td>\n",
       "      <td>162.87</td>\n",
       "      <td>B</td>\n",
       "      <td>B2</td>\n",
       "      <td>...</td>\n",
       "      <td>NaN</td>\n",
       "      <td>NaN</td>\n",
       "      <td>Cash</td>\n",
       "      <td>N</td>\n",
       "      <td>NaN</td>\n",
       "      <td>NaN</td>\n",
       "      <td>NaN</td>\n",
       "      <td>NaN</td>\n",
       "      <td>NaN</td>\n",
       "      <td>NaN</td>\n",
       "    </tr>\n",
       "    <tr>\n",
       "      <th>1</th>\n",
       "      <td>1077430</td>\n",
       "      <td>NaN</td>\n",
       "      <td>2500.0</td>\n",
       "      <td>2500.0</td>\n",
       "      <td>2500.0</td>\n",
       "      <td>60 months</td>\n",
       "      <td>15.27%</td>\n",
       "      <td>59.83</td>\n",
       "      <td>C</td>\n",
       "      <td>C4</td>\n",
       "      <td>...</td>\n",
       "      <td>NaN</td>\n",
       "      <td>NaN</td>\n",
       "      <td>Cash</td>\n",
       "      <td>N</td>\n",
       "      <td>NaN</td>\n",
       "      <td>NaN</td>\n",
       "      <td>NaN</td>\n",
       "      <td>NaN</td>\n",
       "      <td>NaN</td>\n",
       "      <td>NaN</td>\n",
       "    </tr>\n",
       "    <tr>\n",
       "      <th>2</th>\n",
       "      <td>1077175</td>\n",
       "      <td>NaN</td>\n",
       "      <td>2400.0</td>\n",
       "      <td>2400.0</td>\n",
       "      <td>2400.0</td>\n",
       "      <td>36 months</td>\n",
       "      <td>15.96%</td>\n",
       "      <td>84.33</td>\n",
       "      <td>C</td>\n",
       "      <td>C5</td>\n",
       "      <td>...</td>\n",
       "      <td>NaN</td>\n",
       "      <td>NaN</td>\n",
       "      <td>Cash</td>\n",
       "      <td>N</td>\n",
       "      <td>NaN</td>\n",
       "      <td>NaN</td>\n",
       "      <td>NaN</td>\n",
       "      <td>NaN</td>\n",
       "      <td>NaN</td>\n",
       "      <td>NaN</td>\n",
       "    </tr>\n",
       "    <tr>\n",
       "      <th>3</th>\n",
       "      <td>1076863</td>\n",
       "      <td>NaN</td>\n",
       "      <td>10000.0</td>\n",
       "      <td>10000.0</td>\n",
       "      <td>10000.0</td>\n",
       "      <td>36 months</td>\n",
       "      <td>13.49%</td>\n",
       "      <td>339.31</td>\n",
       "      <td>C</td>\n",
       "      <td>C1</td>\n",
       "      <td>...</td>\n",
       "      <td>NaN</td>\n",
       "      <td>NaN</td>\n",
       "      <td>Cash</td>\n",
       "      <td>N</td>\n",
       "      <td>NaN</td>\n",
       "      <td>NaN</td>\n",
       "      <td>NaN</td>\n",
       "      <td>NaN</td>\n",
       "      <td>NaN</td>\n",
       "      <td>NaN</td>\n",
       "    </tr>\n",
       "    <tr>\n",
       "      <th>4</th>\n",
       "      <td>1075358</td>\n",
       "      <td>NaN</td>\n",
       "      <td>3000.0</td>\n",
       "      <td>3000.0</td>\n",
       "      <td>3000.0</td>\n",
       "      <td>60 months</td>\n",
       "      <td>12.69%</td>\n",
       "      <td>67.79</td>\n",
       "      <td>B</td>\n",
       "      <td>B5</td>\n",
       "      <td>...</td>\n",
       "      <td>NaN</td>\n",
       "      <td>NaN</td>\n",
       "      <td>Cash</td>\n",
       "      <td>N</td>\n",
       "      <td>NaN</td>\n",
       "      <td>NaN</td>\n",
       "      <td>NaN</td>\n",
       "      <td>NaN</td>\n",
       "      <td>NaN</td>\n",
       "      <td>NaN</td>\n",
       "    </tr>\n",
       "  </tbody>\n",
       "</table>\n",
       "<p>5 rows × 151 columns</p>\n",
       "</div>"
      ],
      "text/plain": [
       "        id  member_id  loan_amnt  funded_amnt  funded_amnt_inv        term  \\\n",
       "0  1077501        NaN     5000.0       5000.0           4975.0   36 months   \n",
       "1  1077430        NaN     2500.0       2500.0           2500.0   60 months   \n",
       "2  1077175        NaN     2400.0       2400.0           2400.0   36 months   \n",
       "3  1076863        NaN    10000.0      10000.0          10000.0   36 months   \n",
       "4  1075358        NaN     3000.0       3000.0           3000.0   60 months   \n",
       "\n",
       "  int_rate  installment grade sub_grade  ... hardship_payoff_balance_amount  \\\n",
       "0   10.65%       162.87     B        B2  ...                            NaN   \n",
       "1   15.27%        59.83     C        C4  ...                            NaN   \n",
       "2   15.96%        84.33     C        C5  ...                            NaN   \n",
       "3   13.49%       339.31     C        C1  ...                            NaN   \n",
       "4   12.69%        67.79     B        B5  ...                            NaN   \n",
       "\n",
       "  hardship_last_payment_amount disbursement_method  debt_settlement_flag  \\\n",
       "0                          NaN                Cash                     N   \n",
       "1                          NaN                Cash                     N   \n",
       "2                          NaN                Cash                     N   \n",
       "3                          NaN                Cash                     N   \n",
       "4                          NaN                Cash                     N   \n",
       "\n",
       "  debt_settlement_flag_date settlement_status settlement_date  \\\n",
       "0                       NaN               NaN             NaN   \n",
       "1                       NaN               NaN             NaN   \n",
       "2                       NaN               NaN             NaN   \n",
       "3                       NaN               NaN             NaN   \n",
       "4                       NaN               NaN             NaN   \n",
       "\n",
       "  settlement_amount settlement_percentage settlement_term  \n",
       "0               NaN                   NaN             NaN  \n",
       "1               NaN                   NaN             NaN  \n",
       "2               NaN                   NaN             NaN  \n",
       "3               NaN                   NaN             NaN  \n",
       "4               NaN                   NaN             NaN  \n",
       "\n",
       "[5 rows x 151 columns]"
      ]
     },
     "execution_count": 17,
     "metadata": {},
     "output_type": "execute_result"
    }
   ],
   "source": [
    "ld.head()"
   ]
  },
  {
   "cell_type": "code",
   "execution_count": 18,
   "metadata": {},
   "outputs": [
    {
     "data": {
      "text/plain": [
       "<bound method Series.sort_values of id                           0\n",
       "member_id                42531\n",
       "loan_amnt                    0\n",
       "funded_amnt                  0\n",
       "funded_amnt_inv              0\n",
       "                         ...  \n",
       "settlement_status        42371\n",
       "settlement_date          42371\n",
       "settlement_amount        42371\n",
       "settlement_percentage    42371\n",
       "settlement_term          42371\n",
       "Length: 151, dtype: int64>"
      ]
     },
     "execution_count": 18,
     "metadata": {},
     "output_type": "execute_result"
    }
   ],
   "source": [
    "ld.isna().sum().sort_values"
   ]
  },
  {
   "cell_type": "code",
   "execution_count": 19,
   "metadata": {},
   "outputs": [
    {
     "data": {
      "text/html": [
       "<div>\n",
       "<style scoped>\n",
       "    .dataframe tbody tr th:only-of-type {\n",
       "        vertical-align: middle;\n",
       "    }\n",
       "\n",
       "    .dataframe tbody tr th {\n",
       "        vertical-align: top;\n",
       "    }\n",
       "\n",
       "    .dataframe thead th {\n",
       "        text-align: right;\n",
       "    }\n",
       "</style>\n",
       "<table border=\"1\" class=\"dataframe\">\n",
       "  <thead>\n",
       "    <tr style=\"text-align: right;\">\n",
       "      <th></th>\n",
       "      <th>loan_amnt</th>\n",
       "      <th>funded_amnt</th>\n",
       "      <th>funded_amnt_inv</th>\n",
       "    </tr>\n",
       "  </thead>\n",
       "  <tbody>\n",
       "    <tr>\n",
       "      <th>count</th>\n",
       "      <td>42531.000000</td>\n",
       "      <td>42531.000000</td>\n",
       "      <td>42531.000000</td>\n",
       "    </tr>\n",
       "    <tr>\n",
       "      <th>mean</th>\n",
       "      <td>11090.173050</td>\n",
       "      <td>10822.011004</td>\n",
       "      <td>10140.582662</td>\n",
       "    </tr>\n",
       "    <tr>\n",
       "      <th>std</th>\n",
       "      <td>7411.137529</td>\n",
       "      <td>7147.112309</td>\n",
       "      <td>7131.587121</td>\n",
       "    </tr>\n",
       "    <tr>\n",
       "      <th>min</th>\n",
       "      <td>500.000000</td>\n",
       "      <td>500.000000</td>\n",
       "      <td>0.000000</td>\n",
       "    </tr>\n",
       "    <tr>\n",
       "      <th>25%</th>\n",
       "      <td>5200.000000</td>\n",
       "      <td>5000.000000</td>\n",
       "      <td>4950.000000</td>\n",
       "    </tr>\n",
       "    <tr>\n",
       "      <th>50%</th>\n",
       "      <td>9700.000000</td>\n",
       "      <td>9600.000000</td>\n",
       "      <td>8500.000000</td>\n",
       "    </tr>\n",
       "    <tr>\n",
       "      <th>75%</th>\n",
       "      <td>15000.000000</td>\n",
       "      <td>15000.000000</td>\n",
       "      <td>14000.000000</td>\n",
       "    </tr>\n",
       "    <tr>\n",
       "      <th>max</th>\n",
       "      <td>35000.000000</td>\n",
       "      <td>35000.000000</td>\n",
       "      <td>35000.000000</td>\n",
       "    </tr>\n",
       "  </tbody>\n",
       "</table>\n",
       "</div>"
      ],
      "text/plain": [
       "          loan_amnt   funded_amnt  funded_amnt_inv\n",
       "count  42531.000000  42531.000000     42531.000000\n",
       "mean   11090.173050  10822.011004     10140.582662\n",
       "std     7411.137529   7147.112309      7131.587121\n",
       "min      500.000000    500.000000         0.000000\n",
       "25%     5200.000000   5000.000000      4950.000000\n",
       "50%     9700.000000   9600.000000      8500.000000\n",
       "75%    15000.000000  15000.000000     14000.000000\n",
       "max    35000.000000  35000.000000     35000.000000"
      ]
     },
     "execution_count": 19,
     "metadata": {},
     "output_type": "execute_result"
    }
   ],
   "source": [
    "# informacje nt kwoty pozyczki są zawarte w trzech kolumnach i maja bardzo podobne wartości\n",
    "ld[['loan_amnt', 'funded_amnt', 'funded_amnt_inv']].describe()"
   ]
  },
  {
   "cell_type": "code",
   "execution_count": 20,
   "metadata": {},
   "outputs": [
    {
     "data": {
      "text/plain": [
       "0.9817450847661635"
      ]
     },
     "execution_count": 20,
     "metadata": {},
     "output_type": "execute_result"
    }
   ],
   "source": [
    "ld.loan_amnt.corr(ld.funded_amnt)\n",
    "# korelacja loan_amnt vs funded_amnt 0,98"
   ]
  },
  {
   "cell_type": "code",
   "execution_count": 21,
   "metadata": {},
   "outputs": [],
   "source": [
    "# mam niewystraczające informacje nt definicji danych (t.j. czym sie rózni 'funded_amnt') - dlatego przyjmuje po prostu, \n",
    "##  że kwata pożyczki to 'loan_amnt' a dwie pozostałe kolumny pominę"
   ]
  },
  {
   "cell_type": "code",
   "execution_count": 22,
   "metadata": {},
   "outputs": [
    {
     "data": {
      "text/plain": [
       " 36 months    31530\n",
       " 60 months    11001\n",
       "Name: term, dtype: int64"
      ]
     },
     "execution_count": 22,
     "metadata": {},
     "output_type": "execute_result"
    }
   ],
   "source": [
    "# uporządkuję kolumnę 'term'\n",
    "ld['term'].value_counts()"
   ]
  },
  {
   "cell_type": "code",
   "execution_count": 23,
   "metadata": {},
   "outputs": [
    {
     "data": {
      "text/plain": [
       "36    31530\n",
       "60    11001\n",
       "Name: term, dtype: int64"
      ]
     },
     "execution_count": 23,
     "metadata": {},
     "output_type": "execute_result"
    }
   ],
   "source": [
    "# konwersja na wartości numeryczne\n",
    "ld['term'].replace(to_replace = ' 36 months', value = 36, inplace = True) \n",
    "ld['term'].replace(to_replace = ' 60 months', value = 60, inplace = True)\n",
    "ld['term'].value_counts()"
   ]
  },
  {
   "cell_type": "code",
   "execution_count": 24,
   "metadata": {},
   "outputs": [
    {
     "data": {
      "text/html": [
       "<div>\n",
       "<style scoped>\n",
       "    .dataframe tbody tr th:only-of-type {\n",
       "        vertical-align: middle;\n",
       "    }\n",
       "\n",
       "    .dataframe tbody tr th {\n",
       "        vertical-align: top;\n",
       "    }\n",
       "\n",
       "    .dataframe thead th {\n",
       "        text-align: right;\n",
       "    }\n",
       "</style>\n",
       "<table border=\"1\" class=\"dataframe\">\n",
       "  <thead>\n",
       "    <tr style=\"text-align: right;\">\n",
       "      <th></th>\n",
       "      <th>description</th>\n",
       "    </tr>\n",
       "  </thead>\n",
       "  <tbody>\n",
       "    <tr>\n",
       "      <th>term</th>\n",
       "      <td>\" 36 months\":36.0, \" 60 months\":60.0</td>\n",
       "    </tr>\n",
       "  </tbody>\n",
       "</table>\n",
       "</div>"
      ],
      "text/plain": [
       "                               description\n",
       "term  \" 36 months\":36.0, \" 60 months\":60.0"
      ]
     },
     "execution_count": 24,
     "metadata": {},
     "output_type": "execute_result"
    }
   ],
   "source": [
    "# stworzę ramkę 'legenda' gdzie bede zapisawal zmiany wprowadzone w kolumnach\n",
    "leg = {'description':{'term':'\" 36 months\":36.0, \" 60 months\":60.0'}}\n",
    "legenda = pd.DataFrame(leg)\n",
    "legenda.head()"
   ]
  },
  {
   "cell_type": "code",
   "execution_count": 25,
   "metadata": {},
   "outputs": [
    {
     "data": {
      "text/plain": [
       " 10.99%    970\n",
       " 11.49%    837\n",
       " 13.49%    832\n",
       "  7.51%    787\n",
       "  7.88%    742\n",
       "          ... \n",
       " 17.41%      1\n",
       " 24.40%      1\n",
       " 16.20%      1\n",
       " 18.72%      1\n",
       " 17.46%      1\n",
       "Name: int_rate, Length: 394, dtype: int64"
      ]
     },
     "execution_count": 25,
     "metadata": {},
     "output_type": "execute_result"
    }
   ],
   "source": [
    "# uporządkuję kolumnę 'int_rate'\n",
    "ld['int_rate'].value_counts()"
   ]
  },
  {
   "cell_type": "code",
   "execution_count": 26,
   "metadata": {},
   "outputs": [],
   "source": [
    "# usunę '%' i konwertuje na wartości numeryczne\n",
    "ld['int_rate'] = ld['int_rate'].str.strip('%').str.strip()\n",
    "ld['int_rate'] = ld['int_rate'].map(lambda x: float(x))"
   ]
  },
  {
   "cell_type": "code",
   "execution_count": 27,
   "metadata": {},
   "outputs": [
    {
     "data": {
      "text/html": [
       "<div>\n",
       "<style scoped>\n",
       "    .dataframe tbody tr th:only-of-type {\n",
       "        vertical-align: middle;\n",
       "    }\n",
       "\n",
       "    .dataframe tbody tr th {\n",
       "        vertical-align: top;\n",
       "    }\n",
       "\n",
       "    .dataframe thead th {\n",
       "        text-align: right;\n",
       "    }\n",
       "</style>\n",
       "<table border=\"1\" class=\"dataframe\">\n",
       "  <thead>\n",
       "    <tr style=\"text-align: right;\">\n",
       "      <th></th>\n",
       "      <th>id</th>\n",
       "      <th>member_id</th>\n",
       "      <th>loan_amnt</th>\n",
       "      <th>funded_amnt</th>\n",
       "      <th>funded_amnt_inv</th>\n",
       "      <th>term</th>\n",
       "      <th>int_rate</th>\n",
       "      <th>installment</th>\n",
       "      <th>grade</th>\n",
       "      <th>sub_grade</th>\n",
       "      <th>...</th>\n",
       "      <th>hardship_payoff_balance_amount</th>\n",
       "      <th>hardship_last_payment_amount</th>\n",
       "      <th>disbursement_method</th>\n",
       "      <th>debt_settlement_flag</th>\n",
       "      <th>debt_settlement_flag_date</th>\n",
       "      <th>settlement_status</th>\n",
       "      <th>settlement_date</th>\n",
       "      <th>settlement_amount</th>\n",
       "      <th>settlement_percentage</th>\n",
       "      <th>settlement_term</th>\n",
       "    </tr>\n",
       "  </thead>\n",
       "  <tbody>\n",
       "    <tr>\n",
       "      <th>0</th>\n",
       "      <td>1077501</td>\n",
       "      <td>NaN</td>\n",
       "      <td>5000.0</td>\n",
       "      <td>5000.0</td>\n",
       "      <td>4975.0</td>\n",
       "      <td>36</td>\n",
       "      <td>10.65</td>\n",
       "      <td>162.87</td>\n",
       "      <td>B</td>\n",
       "      <td>B2</td>\n",
       "      <td>...</td>\n",
       "      <td>NaN</td>\n",
       "      <td>NaN</td>\n",
       "      <td>Cash</td>\n",
       "      <td>N</td>\n",
       "      <td>NaN</td>\n",
       "      <td>NaN</td>\n",
       "      <td>NaN</td>\n",
       "      <td>NaN</td>\n",
       "      <td>NaN</td>\n",
       "      <td>NaN</td>\n",
       "    </tr>\n",
       "    <tr>\n",
       "      <th>1</th>\n",
       "      <td>1077430</td>\n",
       "      <td>NaN</td>\n",
       "      <td>2500.0</td>\n",
       "      <td>2500.0</td>\n",
       "      <td>2500.0</td>\n",
       "      <td>60</td>\n",
       "      <td>15.27</td>\n",
       "      <td>59.83</td>\n",
       "      <td>C</td>\n",
       "      <td>C4</td>\n",
       "      <td>...</td>\n",
       "      <td>NaN</td>\n",
       "      <td>NaN</td>\n",
       "      <td>Cash</td>\n",
       "      <td>N</td>\n",
       "      <td>NaN</td>\n",
       "      <td>NaN</td>\n",
       "      <td>NaN</td>\n",
       "      <td>NaN</td>\n",
       "      <td>NaN</td>\n",
       "      <td>NaN</td>\n",
       "    </tr>\n",
       "    <tr>\n",
       "      <th>2</th>\n",
       "      <td>1077175</td>\n",
       "      <td>NaN</td>\n",
       "      <td>2400.0</td>\n",
       "      <td>2400.0</td>\n",
       "      <td>2400.0</td>\n",
       "      <td>36</td>\n",
       "      <td>15.96</td>\n",
       "      <td>84.33</td>\n",
       "      <td>C</td>\n",
       "      <td>C5</td>\n",
       "      <td>...</td>\n",
       "      <td>NaN</td>\n",
       "      <td>NaN</td>\n",
       "      <td>Cash</td>\n",
       "      <td>N</td>\n",
       "      <td>NaN</td>\n",
       "      <td>NaN</td>\n",
       "      <td>NaN</td>\n",
       "      <td>NaN</td>\n",
       "      <td>NaN</td>\n",
       "      <td>NaN</td>\n",
       "    </tr>\n",
       "    <tr>\n",
       "      <th>3</th>\n",
       "      <td>1076863</td>\n",
       "      <td>NaN</td>\n",
       "      <td>10000.0</td>\n",
       "      <td>10000.0</td>\n",
       "      <td>10000.0</td>\n",
       "      <td>36</td>\n",
       "      <td>13.49</td>\n",
       "      <td>339.31</td>\n",
       "      <td>C</td>\n",
       "      <td>C1</td>\n",
       "      <td>...</td>\n",
       "      <td>NaN</td>\n",
       "      <td>NaN</td>\n",
       "      <td>Cash</td>\n",
       "      <td>N</td>\n",
       "      <td>NaN</td>\n",
       "      <td>NaN</td>\n",
       "      <td>NaN</td>\n",
       "      <td>NaN</td>\n",
       "      <td>NaN</td>\n",
       "      <td>NaN</td>\n",
       "    </tr>\n",
       "    <tr>\n",
       "      <th>4</th>\n",
       "      <td>1075358</td>\n",
       "      <td>NaN</td>\n",
       "      <td>3000.0</td>\n",
       "      <td>3000.0</td>\n",
       "      <td>3000.0</td>\n",
       "      <td>60</td>\n",
       "      <td>12.69</td>\n",
       "      <td>67.79</td>\n",
       "      <td>B</td>\n",
       "      <td>B5</td>\n",
       "      <td>...</td>\n",
       "      <td>NaN</td>\n",
       "      <td>NaN</td>\n",
       "      <td>Cash</td>\n",
       "      <td>N</td>\n",
       "      <td>NaN</td>\n",
       "      <td>NaN</td>\n",
       "      <td>NaN</td>\n",
       "      <td>NaN</td>\n",
       "      <td>NaN</td>\n",
       "      <td>NaN</td>\n",
       "    </tr>\n",
       "  </tbody>\n",
       "</table>\n",
       "<p>5 rows × 151 columns</p>\n",
       "</div>"
      ],
      "text/plain": [
       "        id  member_id  loan_amnt  funded_amnt  funded_amnt_inv  term  \\\n",
       "0  1077501        NaN     5000.0       5000.0           4975.0    36   \n",
       "1  1077430        NaN     2500.0       2500.0           2500.0    60   \n",
       "2  1077175        NaN     2400.0       2400.0           2400.0    36   \n",
       "3  1076863        NaN    10000.0      10000.0          10000.0    36   \n",
       "4  1075358        NaN     3000.0       3000.0           3000.0    60   \n",
       "\n",
       "   int_rate  installment grade sub_grade  ... hardship_payoff_balance_amount  \\\n",
       "0     10.65       162.87     B        B2  ...                            NaN   \n",
       "1     15.27        59.83     C        C4  ...                            NaN   \n",
       "2     15.96        84.33     C        C5  ...                            NaN   \n",
       "3     13.49       339.31     C        C1  ...                            NaN   \n",
       "4     12.69        67.79     B        B5  ...                            NaN   \n",
       "\n",
       "  hardship_last_payment_amount disbursement_method  debt_settlement_flag  \\\n",
       "0                          NaN                Cash                     N   \n",
       "1                          NaN                Cash                     N   \n",
       "2                          NaN                Cash                     N   \n",
       "3                          NaN                Cash                     N   \n",
       "4                          NaN                Cash                     N   \n",
       "\n",
       "  debt_settlement_flag_date settlement_status settlement_date  \\\n",
       "0                       NaN               NaN             NaN   \n",
       "1                       NaN               NaN             NaN   \n",
       "2                       NaN               NaN             NaN   \n",
       "3                       NaN               NaN             NaN   \n",
       "4                       NaN               NaN             NaN   \n",
       "\n",
       "  settlement_amount settlement_percentage settlement_term  \n",
       "0               NaN                   NaN             NaN  \n",
       "1               NaN                   NaN             NaN  \n",
       "2               NaN                   NaN             NaN  \n",
       "3               NaN                   NaN             NaN  \n",
       "4               NaN                   NaN             NaN  \n",
       "\n",
       "[5 rows x 151 columns]"
      ]
     },
     "execution_count": 27,
     "metadata": {},
     "output_type": "execute_result"
    }
   ],
   "source": [
    "ld.head()"
   ]
  },
  {
   "cell_type": "code",
   "execution_count": 28,
   "metadata": {},
   "outputs": [
    {
     "data": {
      "text/html": [
       "<div>\n",
       "<style scoped>\n",
       "    .dataframe tbody tr th:only-of-type {\n",
       "        vertical-align: middle;\n",
       "    }\n",
       "\n",
       "    .dataframe tbody tr th {\n",
       "        vertical-align: top;\n",
       "    }\n",
       "\n",
       "    .dataframe thead th {\n",
       "        text-align: right;\n",
       "    }\n",
       "</style>\n",
       "<table border=\"1\" class=\"dataframe\">\n",
       "  <thead>\n",
       "    <tr style=\"text-align: right;\">\n",
       "      <th></th>\n",
       "      <th>description</th>\n",
       "    </tr>\n",
       "  </thead>\n",
       "  <tbody>\n",
       "    <tr>\n",
       "      <th>term</th>\n",
       "      <td>\" 36 months\":36.0, \" 60 months\":60.0</td>\n",
       "    </tr>\n",
       "    <tr>\n",
       "      <th>int_rate</th>\n",
       "      <td>[%]</td>\n",
       "    </tr>\n",
       "  </tbody>\n",
       "</table>\n",
       "</div>"
      ],
      "text/plain": [
       "                                   description\n",
       "term      \" 36 months\":36.0, \" 60 months\":60.0\n",
       "int_rate                                   [%]"
      ]
     },
     "execution_count": 28,
     "metadata": {},
     "output_type": "execute_result"
    }
   ],
   "source": [
    "leg_n = {'description':{'int_rate' : '[%]'}}\n",
    "legenda_n = pd.DataFrame(leg_n)\n",
    "legenda = legenda.append(legenda_n)\n",
    "legenda.head()"
   ]
  },
  {
   "cell_type": "code",
   "execution_count": 29,
   "metadata": {},
   "outputs": [
    {
     "data": {
      "text/plain": [
       "41825      15.67\n",
       "39613      15.69\n",
       "41705      15.75\n",
       "42418      15.76\n",
       "42363      15.91\n",
       "          ...   \n",
       "8009     1288.10\n",
       "11703    1288.10\n",
       "15914    1295.21\n",
       "16210    1302.69\n",
       "12174    1305.19\n",
       "Name: installment, Length: 42531, dtype: float64"
      ]
     },
     "execution_count": 29,
     "metadata": {},
     "output_type": "execute_result"
    }
   ],
   "source": [
    "#sprawdze kolumne installment\n",
    "ld.installment.sort_values()"
   ]
  },
  {
   "cell_type": "code",
   "execution_count": 30,
   "metadata": {},
   "outputs": [
    {
     "data": {
      "text/plain": [
       "B    12389\n",
       "A    10179\n",
       "C     8740\n",
       "D     6016\n",
       "E     3394\n",
       "F     1301\n",
       "G      512\n",
       "Name: grade, dtype: int64"
      ]
     },
     "execution_count": 30,
     "metadata": {},
     "output_type": "execute_result"
    }
   ],
   "source": [
    "# uporządkuję kolumnę 'grade'\n",
    "ld['grade'].value_counts()"
   ]
  },
  {
   "cell_type": "code",
   "execution_count": 31,
   "metadata": {},
   "outputs": [],
   "source": [
    "# zamieniam oznaczenia literowe na wartości numeryczne\n",
    "ld['grade'] = ld['grade'].map({'A': 7, 'B': 6, 'C': 5, 'D': 4, 'E': 3, 'F': 2, 'G': 1})"
   ]
  },
  {
   "cell_type": "code",
   "execution_count": 32,
   "metadata": {},
   "outputs": [
    {
     "data": {
      "text/html": [
       "<div>\n",
       "<style scoped>\n",
       "    .dataframe tbody tr th:only-of-type {\n",
       "        vertical-align: middle;\n",
       "    }\n",
       "\n",
       "    .dataframe tbody tr th {\n",
       "        vertical-align: top;\n",
       "    }\n",
       "\n",
       "    .dataframe thead th {\n",
       "        text-align: right;\n",
       "    }\n",
       "</style>\n",
       "<table border=\"1\" class=\"dataframe\">\n",
       "  <thead>\n",
       "    <tr style=\"text-align: right;\">\n",
       "      <th></th>\n",
       "      <th>description</th>\n",
       "    </tr>\n",
       "  </thead>\n",
       "  <tbody>\n",
       "    <tr>\n",
       "      <th>term</th>\n",
       "      <td>\" 36 months\":36.0, \" 60 months\":60.0</td>\n",
       "    </tr>\n",
       "    <tr>\n",
       "      <th>int_rate</th>\n",
       "      <td>[%]</td>\n",
       "    </tr>\n",
       "    <tr>\n",
       "      <th>grade</th>\n",
       "      <td>A: 7, B: 6, C: 5, D: 4, E: 3, F: 2, G: 1</td>\n",
       "    </tr>\n",
       "  </tbody>\n",
       "</table>\n",
       "</div>"
      ],
      "text/plain": [
       "                                       description\n",
       "term          \" 36 months\":36.0, \" 60 months\":60.0\n",
       "int_rate                                       [%]\n",
       "grade     A: 7, B: 6, C: 5, D: 4, E: 3, F: 2, G: 1"
      ]
     },
     "execution_count": 32,
     "metadata": {},
     "output_type": "execute_result"
    }
   ],
   "source": [
    "leg_n = {'description':{'grade':'A: 7, B: 6, C: 5, D: 4, E: 3, F: 2, G: 1'}}\n",
    "legenda_n = pd.DataFrame(leg_n)\n",
    "legenda = legenda.append(legenda_n)\n",
    "legenda.head()"
   ]
  },
  {
   "cell_type": "code",
   "execution_count": 33,
   "metadata": {},
   "outputs": [
    {
     "data": {
      "text/plain": [
       "array(['B2', 'C4', 'C5', 'C1', 'B5', 'A4', 'E1', 'F2', 'C3', 'B1', 'D1',\n",
       "       'A1', 'B3', 'B4', 'C2', 'D2', 'A3', 'A5', 'D5', 'A2', 'E4', 'D3',\n",
       "       'D4', 'F3', 'E3', 'F4', 'F1', 'E5', 'G4', 'E2', 'G3', 'G2', 'G1',\n",
       "       'F5', 'G5'], dtype=object)"
      ]
     },
     "execution_count": 33,
     "metadata": {},
     "output_type": "execute_result"
    }
   ],
   "source": [
    "# uporządkuję kolumnę 'sub_grade'\n",
    "#ld['sub_grade'].value_counts()\n",
    "ld.sub_grade.unique()\n",
    "# ponieważ jest dużo pozycji, aby zamienic na numeryczne skorzystam z gotowego narzędzia do enkodowania"
   ]
  },
  {
   "cell_type": "code",
   "execution_count": 34,
   "metadata": {},
   "outputs": [],
   "source": [
    "from sklearn import preprocessing\n",
    "label_encoder = preprocessing.LabelEncoder()"
   ]
  },
  {
   "cell_type": "code",
   "execution_count": 35,
   "metadata": {},
   "outputs": [
    {
     "data": {
      "text/plain": [
       "array(['B2', 'C4', 'C5', 'C1', 'B5', 'A4', 'E1', 'F2', 'C3', 'B1', 'D1',\n",
       "       'A1', 'B3', 'B4', 'C2', 'D2', 'A3', 'A5', 'D5', 'A2', 'E4', 'D3',\n",
       "       'D4', 'F3', 'E3', 'F4', 'F1', 'E5', 'G4', 'E2', 'G3', 'G2', 'G1',\n",
       "       'F5', 'G5'], dtype=object)"
      ]
     },
     "execution_count": 35,
     "metadata": {},
     "output_type": "execute_result"
    }
   ],
   "source": [
    "ld['sub_grade_num'] = label_encoder.fit_transform(ld['sub_grade'])\n",
    "ld.sub_grade.unique()"
   ]
  },
  {
   "cell_type": "code",
   "execution_count": 36,
   "metadata": {},
   "outputs": [
    {
     "data": {
      "text/plain": [
       "array([ 6, 13, 14, 10,  9,  3, 20, 26, 12,  5, 15,  0,  7,  8, 11, 16,  2,\n",
       "        4, 19,  1, 23, 17, 18, 27, 22, 28, 25, 24, 33, 21, 32, 31, 30, 29,\n",
       "       34])"
      ]
     },
     "execution_count": 36,
     "metadata": {},
     "output_type": "execute_result"
    }
   ],
   "source": [
    "ld.sub_grade_num.unique()"
   ]
  },
  {
   "cell_type": "code",
   "execution_count": 37,
   "metadata": {},
   "outputs": [
    {
     "data": {
      "text/html": [
       "<div>\n",
       "<style scoped>\n",
       "    .dataframe tbody tr th:only-of-type {\n",
       "        vertical-align: middle;\n",
       "    }\n",
       "\n",
       "    .dataframe tbody tr th {\n",
       "        vertical-align: top;\n",
       "    }\n",
       "\n",
       "    .dataframe thead th {\n",
       "        text-align: right;\n",
       "    }\n",
       "</style>\n",
       "<table border=\"1\" class=\"dataframe\">\n",
       "  <thead>\n",
       "    <tr style=\"text-align: right;\">\n",
       "      <th></th>\n",
       "      <th>description</th>\n",
       "    </tr>\n",
       "  </thead>\n",
       "  <tbody>\n",
       "    <tr>\n",
       "      <th>term</th>\n",
       "      <td>\" 36 months\":36.0, \" 60 months\":60.0</td>\n",
       "    </tr>\n",
       "    <tr>\n",
       "      <th>int_rate</th>\n",
       "      <td>[%]</td>\n",
       "    </tr>\n",
       "    <tr>\n",
       "      <th>grade</th>\n",
       "      <td>A: 7, B: 6, C: 5, D: 4, E: 3, F: 2, G: 1</td>\n",
       "    </tr>\n",
       "    <tr>\n",
       "      <th>sub_grade_num</th>\n",
       "      <td>A1: 0, A2: 1,  ...,G4: 33, G5: 34</td>\n",
       "    </tr>\n",
       "  </tbody>\n",
       "</table>\n",
       "</div>"
      ],
      "text/plain": [
       "                                            description\n",
       "term               \" 36 months\":36.0, \" 60 months\":60.0\n",
       "int_rate                                            [%]\n",
       "grade          A: 7, B: 6, C: 5, D: 4, E: 3, F: 2, G: 1\n",
       "sub_grade_num         A1: 0, A2: 1,  ...,G4: 33, G5: 34"
      ]
     },
     "execution_count": 37,
     "metadata": {},
     "output_type": "execute_result"
    }
   ],
   "source": [
    "leg_n = {'description':{'sub_grade_num':'A1: 0, A2: 1,  ...,G4: 33, G5: 34'}}\n",
    "legenda_n = pd.DataFrame(leg_n)\n",
    "legenda = legenda.append(legenda_n)\n",
    "legenda.head()"
   ]
  },
  {
   "cell_type": "code",
   "execution_count": 38,
   "metadata": {},
   "outputs": [],
   "source": [
    "#ld.info()"
   ]
  },
  {
   "cell_type": "code",
   "execution_count": 39,
   "metadata": {},
   "outputs": [
    {
     "data": {
      "text/plain": [
       "US Army                    139\n",
       "Bank of America            115\n",
       "IBM                         72\n",
       "Kaiser Permanente           61\n",
       "AT&T                        61\n",
       "                          ... \n",
       "Quail Tools                  1\n",
       "Adil System                  1\n",
       "Doubletree Papermills        1\n",
       "dhl express                  1\n",
       "Herb's Pool Service Inc      1\n",
       "Name: emp_title, Length: 30658, dtype: int64"
      ]
     },
     "execution_count": 39,
     "metadata": {},
     "output_type": "execute_result"
    }
   ],
   "source": [
    "# sprawdzam czy kolumnę 'emp_title' można łatwo agregować \n",
    "ld.emp_title.value_counts()"
   ]
  },
  {
   "cell_type": "code",
   "execution_count": 40,
   "metadata": {},
   "outputs": [],
   "source": [
    "# usuwam kolumnę 'emp_title' - nie będzie przydatna bo zawiera dużo uniklanych (i.e przypadkowych) wpisów\n",
    "ld.drop(['emp_title'], axis = 1, inplace=True)"
   ]
  },
  {
   "cell_type": "code",
   "execution_count": 41,
   "metadata": {},
   "outputs": [
    {
     "data": {
      "text/html": [
       "<div>\n",
       "<style scoped>\n",
       "    .dataframe tbody tr th:only-of-type {\n",
       "        vertical-align: middle;\n",
       "    }\n",
       "\n",
       "    .dataframe tbody tr th {\n",
       "        vertical-align: top;\n",
       "    }\n",
       "\n",
       "    .dataframe thead th {\n",
       "        text-align: right;\n",
       "    }\n",
       "</style>\n",
       "<table border=\"1\" class=\"dataframe\">\n",
       "  <thead>\n",
       "    <tr style=\"text-align: right;\">\n",
       "      <th></th>\n",
       "      <th>id</th>\n",
       "      <th>member_id</th>\n",
       "      <th>loan_amnt</th>\n",
       "      <th>funded_amnt</th>\n",
       "      <th>funded_amnt_inv</th>\n",
       "      <th>term</th>\n",
       "      <th>int_rate</th>\n",
       "      <th>installment</th>\n",
       "      <th>grade</th>\n",
       "      <th>sub_grade</th>\n",
       "      <th>...</th>\n",
       "      <th>hardship_last_payment_amount</th>\n",
       "      <th>disbursement_method</th>\n",
       "      <th>debt_settlement_flag</th>\n",
       "      <th>debt_settlement_flag_date</th>\n",
       "      <th>settlement_status</th>\n",
       "      <th>settlement_date</th>\n",
       "      <th>settlement_amount</th>\n",
       "      <th>settlement_percentage</th>\n",
       "      <th>settlement_term</th>\n",
       "      <th>sub_grade_num</th>\n",
       "    </tr>\n",
       "  </thead>\n",
       "  <tbody>\n",
       "    <tr>\n",
       "      <th>0</th>\n",
       "      <td>1077501</td>\n",
       "      <td>NaN</td>\n",
       "      <td>5000.0</td>\n",
       "      <td>5000.0</td>\n",
       "      <td>4975.0</td>\n",
       "      <td>36</td>\n",
       "      <td>10.65</td>\n",
       "      <td>162.87</td>\n",
       "      <td>6</td>\n",
       "      <td>B2</td>\n",
       "      <td>...</td>\n",
       "      <td>NaN</td>\n",
       "      <td>Cash</td>\n",
       "      <td>N</td>\n",
       "      <td>NaN</td>\n",
       "      <td>NaN</td>\n",
       "      <td>NaN</td>\n",
       "      <td>NaN</td>\n",
       "      <td>NaN</td>\n",
       "      <td>NaN</td>\n",
       "      <td>6</td>\n",
       "    </tr>\n",
       "    <tr>\n",
       "      <th>1</th>\n",
       "      <td>1077430</td>\n",
       "      <td>NaN</td>\n",
       "      <td>2500.0</td>\n",
       "      <td>2500.0</td>\n",
       "      <td>2500.0</td>\n",
       "      <td>60</td>\n",
       "      <td>15.27</td>\n",
       "      <td>59.83</td>\n",
       "      <td>5</td>\n",
       "      <td>C4</td>\n",
       "      <td>...</td>\n",
       "      <td>NaN</td>\n",
       "      <td>Cash</td>\n",
       "      <td>N</td>\n",
       "      <td>NaN</td>\n",
       "      <td>NaN</td>\n",
       "      <td>NaN</td>\n",
       "      <td>NaN</td>\n",
       "      <td>NaN</td>\n",
       "      <td>NaN</td>\n",
       "      <td>13</td>\n",
       "    </tr>\n",
       "    <tr>\n",
       "      <th>2</th>\n",
       "      <td>1077175</td>\n",
       "      <td>NaN</td>\n",
       "      <td>2400.0</td>\n",
       "      <td>2400.0</td>\n",
       "      <td>2400.0</td>\n",
       "      <td>36</td>\n",
       "      <td>15.96</td>\n",
       "      <td>84.33</td>\n",
       "      <td>5</td>\n",
       "      <td>C5</td>\n",
       "      <td>...</td>\n",
       "      <td>NaN</td>\n",
       "      <td>Cash</td>\n",
       "      <td>N</td>\n",
       "      <td>NaN</td>\n",
       "      <td>NaN</td>\n",
       "      <td>NaN</td>\n",
       "      <td>NaN</td>\n",
       "      <td>NaN</td>\n",
       "      <td>NaN</td>\n",
       "      <td>14</td>\n",
       "    </tr>\n",
       "    <tr>\n",
       "      <th>3</th>\n",
       "      <td>1076863</td>\n",
       "      <td>NaN</td>\n",
       "      <td>10000.0</td>\n",
       "      <td>10000.0</td>\n",
       "      <td>10000.0</td>\n",
       "      <td>36</td>\n",
       "      <td>13.49</td>\n",
       "      <td>339.31</td>\n",
       "      <td>5</td>\n",
       "      <td>C1</td>\n",
       "      <td>...</td>\n",
       "      <td>NaN</td>\n",
       "      <td>Cash</td>\n",
       "      <td>N</td>\n",
       "      <td>NaN</td>\n",
       "      <td>NaN</td>\n",
       "      <td>NaN</td>\n",
       "      <td>NaN</td>\n",
       "      <td>NaN</td>\n",
       "      <td>NaN</td>\n",
       "      <td>10</td>\n",
       "    </tr>\n",
       "    <tr>\n",
       "      <th>4</th>\n",
       "      <td>1075358</td>\n",
       "      <td>NaN</td>\n",
       "      <td>3000.0</td>\n",
       "      <td>3000.0</td>\n",
       "      <td>3000.0</td>\n",
       "      <td>60</td>\n",
       "      <td>12.69</td>\n",
       "      <td>67.79</td>\n",
       "      <td>6</td>\n",
       "      <td>B5</td>\n",
       "      <td>...</td>\n",
       "      <td>NaN</td>\n",
       "      <td>Cash</td>\n",
       "      <td>N</td>\n",
       "      <td>NaN</td>\n",
       "      <td>NaN</td>\n",
       "      <td>NaN</td>\n",
       "      <td>NaN</td>\n",
       "      <td>NaN</td>\n",
       "      <td>NaN</td>\n",
       "      <td>9</td>\n",
       "    </tr>\n",
       "  </tbody>\n",
       "</table>\n",
       "<p>5 rows × 151 columns</p>\n",
       "</div>"
      ],
      "text/plain": [
       "        id  member_id  loan_amnt  funded_amnt  funded_amnt_inv  term  \\\n",
       "0  1077501        NaN     5000.0       5000.0           4975.0    36   \n",
       "1  1077430        NaN     2500.0       2500.0           2500.0    60   \n",
       "2  1077175        NaN     2400.0       2400.0           2400.0    36   \n",
       "3  1076863        NaN    10000.0      10000.0          10000.0    36   \n",
       "4  1075358        NaN     3000.0       3000.0           3000.0    60   \n",
       "\n",
       "   int_rate  installment  grade sub_grade  ... hardship_last_payment_amount  \\\n",
       "0     10.65       162.87      6        B2  ...                          NaN   \n",
       "1     15.27        59.83      5        C4  ...                          NaN   \n",
       "2     15.96        84.33      5        C5  ...                          NaN   \n",
       "3     13.49       339.31      5        C1  ...                          NaN   \n",
       "4     12.69        67.79      6        B5  ...                          NaN   \n",
       "\n",
       "  disbursement_method  debt_settlement_flag debt_settlement_flag_date  \\\n",
       "0                Cash                     N                       NaN   \n",
       "1                Cash                     N                       NaN   \n",
       "2                Cash                     N                       NaN   \n",
       "3                Cash                     N                       NaN   \n",
       "4                Cash                     N                       NaN   \n",
       "\n",
       "  settlement_status settlement_date settlement_amount settlement_percentage  \\\n",
       "0               NaN             NaN               NaN                   NaN   \n",
       "1               NaN             NaN               NaN                   NaN   \n",
       "2               NaN             NaN               NaN                   NaN   \n",
       "3               NaN             NaN               NaN                   NaN   \n",
       "4               NaN             NaN               NaN                   NaN   \n",
       "\n",
       "  settlement_term sub_grade_num  \n",
       "0             NaN             6  \n",
       "1             NaN            13  \n",
       "2             NaN            14  \n",
       "3             NaN            10  \n",
       "4             NaN             9  \n",
       "\n",
       "[5 rows x 151 columns]"
      ]
     },
     "execution_count": 41,
     "metadata": {},
     "output_type": "execute_result"
    }
   ],
   "source": [
    "ld.head()"
   ]
  },
  {
   "cell_type": "code",
   "execution_count": 42,
   "metadata": {},
   "outputs": [
    {
     "data": {
      "text/plain": [
       "10+ years    9369\n",
       "< 1 year     5058\n",
       "2 years      4743\n",
       "3 years      4364\n",
       "4 years      3649\n",
       "1 year       3595\n",
       "5 years      3458\n",
       "6 years      2375\n",
       "7 years      1875\n",
       "8 years      1592\n",
       "9 years      1341\n",
       "Name: emp_length, dtype: int64"
      ]
     },
     "execution_count": 42,
     "metadata": {},
     "output_type": "execute_result"
    }
   ],
   "source": [
    "# sprawdzam czy kolumnę 'emp_length' można łatwo agregować \n",
    "ld.emp_length.value_counts()"
   ]
  },
  {
   "cell_type": "code",
   "execution_count": 43,
   "metadata": {},
   "outputs": [
    {
     "data": {
      "text/plain": [
       "array(['10+ years', '< 1 year', '1 year', '3 years', '8 years', '9 years',\n",
       "       '4 years', '5 years', '6 years', '2 years', '7 years', nan],\n",
       "      dtype=object)"
      ]
     },
     "execution_count": 43,
     "metadata": {},
     "output_type": "execute_result"
    }
   ],
   "source": [
    "ld.emp_length.unique()"
   ]
  },
  {
   "cell_type": "code",
   "execution_count": 44,
   "metadata": {},
   "outputs": [],
   "source": [
    "# brakuje 1112 wartości (nan), co stanowi 2,6 % zbioru - niewielkie znaczenie - uzupełniam średnią ('5 years')\n",
    "ld['emp_length'].fillna('5 years', inplace = True)"
   ]
  },
  {
   "cell_type": "code",
   "execution_count": 45,
   "metadata": {},
   "outputs": [],
   "source": [
    "# konwertuje na wartości numeryczne\n",
    "ld['emp_length'].replace(to_replace = '< 1 year', value = '0 years', inplace = True)\n",
    "ld['emp_length'].replace(to_replace = '1 year', value = '1 years', inplace = True)\n",
    "ld['emp_length'].replace(to_replace = '10+ years', value = '10 years', inplace = True)"
   ]
  },
  {
   "cell_type": "code",
   "execution_count": 46,
   "metadata": {},
   "outputs": [],
   "source": [
    "ld['emp_length'] = ld['emp_length'].str.strip(' years').str.strip()\n",
    "ld['emp_length'] = ld['emp_length'].map(lambda x: float(x))"
   ]
  },
  {
   "cell_type": "code",
   "execution_count": 47,
   "metadata": {},
   "outputs": [
    {
     "data": {
      "text/plain": [
       "array([10.,  0.,  1.,  3.,  8.,  9.,  4.,  5.,  6.,  2.,  7.])"
      ]
     },
     "execution_count": 47,
     "metadata": {},
     "output_type": "execute_result"
    }
   ],
   "source": [
    "ld.emp_length.unique()"
   ]
  },
  {
   "cell_type": "code",
   "execution_count": 48,
   "metadata": {},
   "outputs": [
    {
     "data": {
      "text/html": [
       "<div>\n",
       "<style scoped>\n",
       "    .dataframe tbody tr th:only-of-type {\n",
       "        vertical-align: middle;\n",
       "    }\n",
       "\n",
       "    .dataframe tbody tr th {\n",
       "        vertical-align: top;\n",
       "    }\n",
       "\n",
       "    .dataframe thead th {\n",
       "        text-align: right;\n",
       "    }\n",
       "</style>\n",
       "<table border=\"1\" class=\"dataframe\">\n",
       "  <thead>\n",
       "    <tr style=\"text-align: right;\">\n",
       "      <th></th>\n",
       "      <th>description</th>\n",
       "    </tr>\n",
       "  </thead>\n",
       "  <tbody>\n",
       "    <tr>\n",
       "      <th>term</th>\n",
       "      <td>\" 36 months\":36.0, \" 60 months\":60.0</td>\n",
       "    </tr>\n",
       "    <tr>\n",
       "      <th>int_rate</th>\n",
       "      <td>[%]</td>\n",
       "    </tr>\n",
       "    <tr>\n",
       "      <th>grade</th>\n",
       "      <td>A: 7, B: 6, C: 5, D: 4, E: 3, F: 2, G: 1</td>\n",
       "    </tr>\n",
       "    <tr>\n",
       "      <th>sub_grade_num</th>\n",
       "      <td>A1: 0, A2: 1,  ...,G4: 33, G5: 34</td>\n",
       "    </tr>\n",
       "    <tr>\n",
       "      <th>emp_length</th>\n",
       "      <td>&lt; 1 year: 0,  ...,10+years: 10</td>\n",
       "    </tr>\n",
       "  </tbody>\n",
       "</table>\n",
       "</div>"
      ],
      "text/plain": [
       "                                            description\n",
       "term               \" 36 months\":36.0, \" 60 months\":60.0\n",
       "int_rate                                            [%]\n",
       "grade          A: 7, B: 6, C: 5, D: 4, E: 3, F: 2, G: 1\n",
       "sub_grade_num         A1: 0, A2: 1,  ...,G4: 33, G5: 34\n",
       "emp_length               < 1 year: 0,  ...,10+years: 10"
      ]
     },
     "execution_count": 48,
     "metadata": {},
     "output_type": "execute_result"
    }
   ],
   "source": [
    "# dodaję do ramki\n",
    "leg_n = {'description':{'emp_length':'< 1 year: 0,  ...,10+years: 10'}}\n",
    "legenda_n = pd.DataFrame(leg_n)\n",
    "legenda = legenda.append(legenda_n)\n",
    "legenda.head()"
   ]
  },
  {
   "cell_type": "code",
   "execution_count": 49,
   "metadata": {},
   "outputs": [
    {
     "data": {
      "text/plain": [
       "RENT        20181\n",
       "MORTGAGE    18959\n",
       "OWN          3251\n",
       "OTHER         136\n",
       "NONE            4\n",
       "Name: home_ownership, dtype: int64"
      ]
     },
     "execution_count": 49,
     "metadata": {},
     "output_type": "execute_result"
    }
   ],
   "source": [
    "# sprawdzam czy kolumnę 'home_ownership' można łatwo agregować \n",
    "ld.home_ownership.value_counts()"
   ]
  },
  {
   "cell_type": "code",
   "execution_count": 50,
   "metadata": {},
   "outputs": [
    {
     "data": {
      "text/plain": [
       "array(['RENT', 'OWN', 'MORTGAGE', 'OTHER', 'NONE'], dtype=object)"
      ]
     },
     "execution_count": 50,
     "metadata": {},
     "output_type": "execute_result"
    }
   ],
   "source": [
    "ld.home_ownership.unique()"
   ]
  },
  {
   "cell_type": "code",
   "execution_count": 51,
   "metadata": {},
   "outputs": [],
   "source": [
    "ld['home_ownership'] = ld['home_ownership'].map({'OWN': 5, 'MORTGAGE': 4, 'RENT': 3, 'OTHER': 2, 'NONE': 1})"
   ]
  },
  {
   "cell_type": "code",
   "execution_count": 52,
   "metadata": {},
   "outputs": [
    {
     "data": {
      "text/plain": [
       "array([3, 5, 4, 2, 1], dtype=int64)"
      ]
     },
     "execution_count": 52,
     "metadata": {},
     "output_type": "execute_result"
    }
   ],
   "source": [
    "ld.home_ownership.unique()"
   ]
  },
  {
   "cell_type": "code",
   "execution_count": 53,
   "metadata": {},
   "outputs": [
    {
     "data": {
      "text/html": [
       "<div>\n",
       "<style scoped>\n",
       "    .dataframe tbody tr th:only-of-type {\n",
       "        vertical-align: middle;\n",
       "    }\n",
       "\n",
       "    .dataframe tbody tr th {\n",
       "        vertical-align: top;\n",
       "    }\n",
       "\n",
       "    .dataframe thead th {\n",
       "        text-align: right;\n",
       "    }\n",
       "</style>\n",
       "<table border=\"1\" class=\"dataframe\">\n",
       "  <thead>\n",
       "    <tr style=\"text-align: right;\">\n",
       "      <th></th>\n",
       "      <th>description</th>\n",
       "    </tr>\n",
       "  </thead>\n",
       "  <tbody>\n",
       "    <tr>\n",
       "      <th>term</th>\n",
       "      <td>\" 36 months\":36.0, \" 60 months\":60.0</td>\n",
       "    </tr>\n",
       "    <tr>\n",
       "      <th>int_rate</th>\n",
       "      <td>[%]</td>\n",
       "    </tr>\n",
       "    <tr>\n",
       "      <th>grade</th>\n",
       "      <td>A: 7, B: 6, C: 5, D: 4, E: 3, F: 2, G: 1</td>\n",
       "    </tr>\n",
       "    <tr>\n",
       "      <th>sub_grade_num</th>\n",
       "      <td>A1: 0, A2: 1,  ...,G4: 33, G5: 34</td>\n",
       "    </tr>\n",
       "    <tr>\n",
       "      <th>emp_length</th>\n",
       "      <td>&lt; 1 year: 0,  ...,10+years: 10</td>\n",
       "    </tr>\n",
       "    <tr>\n",
       "      <th>home_ownership</th>\n",
       "      <td>NONE: 1, OTHER: 2, RENT: 3, MORTGAGE: 4, OWN: 5</td>\n",
       "    </tr>\n",
       "  </tbody>\n",
       "</table>\n",
       "</div>"
      ],
      "text/plain": [
       "                                                    description\n",
       "term                       \" 36 months\":36.0, \" 60 months\":60.0\n",
       "int_rate                                                    [%]\n",
       "grade                  A: 7, B: 6, C: 5, D: 4, E: 3, F: 2, G: 1\n",
       "sub_grade_num                 A1: 0, A2: 1,  ...,G4: 33, G5: 34\n",
       "emp_length                       < 1 year: 0,  ...,10+years: 10\n",
       "home_ownership  NONE: 1, OTHER: 2, RENT: 3, MORTGAGE: 4, OWN: 5"
      ]
     },
     "execution_count": 53,
     "metadata": {},
     "output_type": "execute_result"
    }
   ],
   "source": [
    "# dodaję do ramki\n",
    "leg_n = {'description':{'home_ownership':'NONE: 1, OTHER: 2, RENT: 3, MORTGAGE: 4, OWN: 5'}}\n",
    "legenda_n = pd.DataFrame(leg_n)\n",
    "legenda = legenda.append(legenda_n)\n",
    "legenda.head(8)"
   ]
  },
  {
   "cell_type": "code",
   "execution_count": 54,
   "metadata": {},
   "outputs": [
    {
     "data": {
      "text/plain": [
       "Not Verified       18754\n",
       "Verified           13471\n",
       "Source Verified    10306\n",
       "Name: verification_status, dtype: int64"
      ]
     },
     "execution_count": 54,
     "metadata": {},
     "output_type": "execute_result"
    }
   ],
   "source": [
    "# sprawdzam czy kolumnę 'verification_status' można łatwo agregować \n",
    "ld.verification_status.value_counts()"
   ]
  },
  {
   "cell_type": "code",
   "execution_count": 55,
   "metadata": {},
   "outputs": [
    {
     "data": {
      "text/plain": [
       "array(['Verified', 'Source Verified', 'Not Verified'], dtype=object)"
      ]
     },
     "execution_count": 55,
     "metadata": {},
     "output_type": "execute_result"
    }
   ],
   "source": [
    "ld.verification_status.unique()"
   ]
  },
  {
   "cell_type": "code",
   "execution_count": 56,
   "metadata": {},
   "outputs": [],
   "source": [
    "# zamieniam opisy na wartości numeryczne\n",
    "ld['verification_status'].replace(to_replace = 'Not Verified', value = 1, inplace = True)\n",
    "ld['verification_status'].replace(to_replace = 'Source Verified', value = 2, inplace = True)\n",
    "ld['verification_status'].replace(to_replace = 'Verified', value = 3, inplace = True)"
   ]
  },
  {
   "cell_type": "code",
   "execution_count": 57,
   "metadata": {},
   "outputs": [
    {
     "data": {
      "text/plain": [
       "array([3, 2, 1], dtype=int64)"
      ]
     },
     "execution_count": 57,
     "metadata": {},
     "output_type": "execute_result"
    }
   ],
   "source": [
    "ld.verification_status.unique()"
   ]
  },
  {
   "cell_type": "code",
   "execution_count": 58,
   "metadata": {},
   "outputs": [
    {
     "data": {
      "text/html": [
       "<div>\n",
       "<style scoped>\n",
       "    .dataframe tbody tr th:only-of-type {\n",
       "        vertical-align: middle;\n",
       "    }\n",
       "\n",
       "    .dataframe tbody tr th {\n",
       "        vertical-align: top;\n",
       "    }\n",
       "\n",
       "    .dataframe thead th {\n",
       "        text-align: right;\n",
       "    }\n",
       "</style>\n",
       "<table border=\"1\" class=\"dataframe\">\n",
       "  <thead>\n",
       "    <tr style=\"text-align: right;\">\n",
       "      <th></th>\n",
       "      <th>description</th>\n",
       "    </tr>\n",
       "  </thead>\n",
       "  <tbody>\n",
       "    <tr>\n",
       "      <th>term</th>\n",
       "      <td>\" 36 months\":36.0, \" 60 months\":60.0</td>\n",
       "    </tr>\n",
       "    <tr>\n",
       "      <th>int_rate</th>\n",
       "      <td>[%]</td>\n",
       "    </tr>\n",
       "    <tr>\n",
       "      <th>grade</th>\n",
       "      <td>A: 7, B: 6, C: 5, D: 4, E: 3, F: 2, G: 1</td>\n",
       "    </tr>\n",
       "    <tr>\n",
       "      <th>sub_grade_num</th>\n",
       "      <td>A1: 0, A2: 1,  ...,G4: 33, G5: 34</td>\n",
       "    </tr>\n",
       "    <tr>\n",
       "      <th>emp_length</th>\n",
       "      <td>&lt; 1 year: 0,  ...,10+years: 10</td>\n",
       "    </tr>\n",
       "    <tr>\n",
       "      <th>home_ownership</th>\n",
       "      <td>NONE: 1, OTHER: 2, RENT: 3, MORTGAGE: 4, OWN: 5</td>\n",
       "    </tr>\n",
       "    <tr>\n",
       "      <th>verification_status</th>\n",
       "      <td>Not Verified: 1, Source Verified: 2, Verified: 3</td>\n",
       "    </tr>\n",
       "  </tbody>\n",
       "</table>\n",
       "</div>"
      ],
      "text/plain": [
       "                                                          description\n",
       "term                             \" 36 months\":36.0, \" 60 months\":60.0\n",
       "int_rate                                                          [%]\n",
       "grade                        A: 7, B: 6, C: 5, D: 4, E: 3, F: 2, G: 1\n",
       "sub_grade_num                       A1: 0, A2: 1,  ...,G4: 33, G5: 34\n",
       "emp_length                             < 1 year: 0,  ...,10+years: 10\n",
       "home_ownership        NONE: 1, OTHER: 2, RENT: 3, MORTGAGE: 4, OWN: 5\n",
       "verification_status  Not Verified: 1, Source Verified: 2, Verified: 3"
      ]
     },
     "execution_count": 58,
     "metadata": {},
     "output_type": "execute_result"
    }
   ],
   "source": [
    "leg_n = {'description':{'verification_status':'Not Verified: 1, Source Verified: 2, Verified: 3'}}\n",
    "legenda_n = pd.DataFrame(leg_n)\n",
    "legenda = legenda.append(legenda_n)\n",
    "legenda.head(10)"
   ]
  },
  {
   "cell_type": "code",
   "execution_count": 59,
   "metadata": {},
   "outputs": [
    {
     "data": {
      "text/plain": [
       "Fully Paid                                             34116\n",
       "Charged Off                                             5670\n",
       "Does not meet the credit policy. Status:Fully Paid      1984\n",
       "Does not meet the credit policy. Status:Charged Off      761\n",
       "Name: loan_status, dtype: int64"
      ]
     },
     "execution_count": 59,
     "metadata": {},
     "output_type": "execute_result"
    }
   ],
   "source": [
    "# sprawdzam kolumne 'loan_status'\n",
    "ld['loan_status'].value_counts()\n"
   ]
  },
  {
   "cell_type": "code",
   "execution_count": 60,
   "metadata": {},
   "outputs": [],
   "source": [
    "# dane z komentarzem 'Does not meet.. ' stanowią małą część zbioru (6%) - postawiam je zintegrować z pozostałymi\n",
    "# całość zamieniam na numeryczne\n",
    "# zakladam, że to sa nasze wartości klasyfikacyjne: 'Fully Paid' - pożyczkoriorca spłacił, 'Charged Off' - nie spłacił\n",
    "ld['loan_status'].replace(to_replace = ['Does not meet the credit policy. Status:Fully Paid',\n",
    "                                        'Fully Paid'], value = 1, inplace = True)\n",
    "ld['loan_status'].replace(to_replace = ['Does not meet the credit policy. Status:Charged Off',\n",
    "                                        'Charged Off'], value = 0, inplace = True)"
   ]
  },
  {
   "cell_type": "code",
   "execution_count": 61,
   "metadata": {},
   "outputs": [
    {
     "data": {
      "text/html": [
       "<div>\n",
       "<style scoped>\n",
       "    .dataframe tbody tr th:only-of-type {\n",
       "        vertical-align: middle;\n",
       "    }\n",
       "\n",
       "    .dataframe tbody tr th {\n",
       "        vertical-align: top;\n",
       "    }\n",
       "\n",
       "    .dataframe thead th {\n",
       "        text-align: right;\n",
       "    }\n",
       "</style>\n",
       "<table border=\"1\" class=\"dataframe\">\n",
       "  <thead>\n",
       "    <tr style=\"text-align: right;\">\n",
       "      <th></th>\n",
       "      <th>description</th>\n",
       "    </tr>\n",
       "  </thead>\n",
       "  <tbody>\n",
       "    <tr>\n",
       "      <th>term</th>\n",
       "      <td>\" 36 months\":36.0, \" 60 months\":60.0</td>\n",
       "    </tr>\n",
       "    <tr>\n",
       "      <th>int_rate</th>\n",
       "      <td>[%]</td>\n",
       "    </tr>\n",
       "    <tr>\n",
       "      <th>grade</th>\n",
       "      <td>A: 7, B: 6, C: 5, D: 4, E: 3, F: 2, G: 1</td>\n",
       "    </tr>\n",
       "    <tr>\n",
       "      <th>sub_grade_num</th>\n",
       "      <td>A1: 0, A2: 1,  ...,G4: 33, G5: 34</td>\n",
       "    </tr>\n",
       "    <tr>\n",
       "      <th>emp_length</th>\n",
       "      <td>&lt; 1 year: 0,  ...,10+years: 10</td>\n",
       "    </tr>\n",
       "    <tr>\n",
       "      <th>home_ownership</th>\n",
       "      <td>NONE: 1, OTHER: 2, RENT: 3, MORTGAGE: 4, OWN: 5</td>\n",
       "    </tr>\n",
       "    <tr>\n",
       "      <th>verification_status</th>\n",
       "      <td>Not Verified: 1, Source Verified: 2, Verified: 3</td>\n",
       "    </tr>\n",
       "    <tr>\n",
       "      <th>loan_status</th>\n",
       "      <td>Fully Paid: 1, Charged Off: 0</td>\n",
       "    </tr>\n",
       "  </tbody>\n",
       "</table>\n",
       "</div>"
      ],
      "text/plain": [
       "                                                          description\n",
       "term                             \" 36 months\":36.0, \" 60 months\":60.0\n",
       "int_rate                                                          [%]\n",
       "grade                        A: 7, B: 6, C: 5, D: 4, E: 3, F: 2, G: 1\n",
       "sub_grade_num                       A1: 0, A2: 1,  ...,G4: 33, G5: 34\n",
       "emp_length                             < 1 year: 0,  ...,10+years: 10\n",
       "home_ownership        NONE: 1, OTHER: 2, RENT: 3, MORTGAGE: 4, OWN: 5\n",
       "verification_status  Not Verified: 1, Source Verified: 2, Verified: 3\n",
       "loan_status                             Fully Paid: 1, Charged Off: 0"
      ]
     },
     "execution_count": 61,
     "metadata": {},
     "output_type": "execute_result"
    }
   ],
   "source": [
    "leg_n = {'description':{'loan_status':'Fully Paid: 1, Charged Off: 0'}}\n",
    "legenda_n = pd.DataFrame(leg_n)\n",
    "legenda = legenda.append(legenda_n)\n",
    "legenda.head(10)"
   ]
  },
  {
   "cell_type": "code",
   "execution_count": 62,
   "metadata": {},
   "outputs": [
    {
     "data": {
      "text/plain": [
       "array(['n'], dtype=object)"
      ]
     },
     "execution_count": 62,
     "metadata": {},
     "output_type": "execute_result"
    }
   ],
   "source": [
    "# sprawdzam czy kolumnę 'pymnt_plan' można łatwo agregować \n",
    "ld.pymnt_plan.unique()\n",
    "# tylko jedna wartość - tą kolumnę pominę"
   ]
  },
  {
   "cell_type": "code",
   "execution_count": 63,
   "metadata": {},
   "outputs": [
    {
     "data": {
      "text/plain": [
       "https://lendingclub.com/browse/loanDetail.action?loan_id=369078     1\n",
       "https://lendingclub.com/browse/loanDetail.action?loan_id=532300     1\n",
       "https://lendingclub.com/browse/loanDetail.action?loan_id=656520     1\n",
       "https://lendingclub.com/browse/loanDetail.action?loan_id=743343     1\n",
       "https://lendingclub.com/browse/loanDetail.action?loan_id=417817     1\n",
       "                                                                   ..\n",
       "https://lendingclub.com/browse/loanDetail.action?loan_id=1009492    1\n",
       "https://lendingclub.com/browse/loanDetail.action?loan_id=581481     1\n",
       "https://lendingclub.com/browse/loanDetail.action?loan_id=705174     1\n",
       "https://lendingclub.com/browse/loanDetail.action?loan_id=650502     1\n",
       "https://lendingclub.com/browse/loanDetail.action?loan_id=800340     1\n",
       "Name: url, Length: 42531, dtype: int64"
      ]
     },
     "execution_count": 63,
     "metadata": {},
     "output_type": "execute_result"
    }
   ],
   "source": [
    "ld['url'].value_counts() \n",
    "# uniklane wartości , to sie do niczego nie przyda. tę kolumne pomijam"
   ]
  },
  {
   "cell_type": "code",
   "execution_count": 64,
   "metadata": {},
   "outputs": [
    {
     "data": {
      "text/plain": [
       "['car',\n",
       " 'credit_card',\n",
       " 'debt_consolidation',\n",
       " 'educational',\n",
       " 'home_improvement',\n",
       " 'house',\n",
       " 'major_purchase',\n",
       " 'medical',\n",
       " 'moving',\n",
       " 'other',\n",
       " 'renewable_energy',\n",
       " 'small_business',\n",
       " 'vacation',\n",
       " 'wedding']"
      ]
     },
     "execution_count": 64,
     "metadata": {},
     "output_type": "execute_result"
    }
   ],
   "source": [
    "# kolumna 'purpose'\n",
    "sorted(ld.purpose.unique().tolist())"
   ]
  },
  {
   "cell_type": "code",
   "execution_count": 65,
   "metadata": {},
   "outputs": [
    {
     "data": {
      "text/plain": [
       "array([ 1,  0, 11,  9, 13,  2,  4,  6,  7,  8, 12,  5, 10,  3])"
      ]
     },
     "execution_count": 65,
     "metadata": {},
     "output_type": "execute_result"
    }
   ],
   "source": [
    "# zamieniam na numeryczne\n",
    "ld['purpose_num'] = label_encoder.fit_transform(ld['purpose']) # zmienić typ encodera ?\n",
    "ld.purpose_num.unique()"
   ]
  },
  {
   "cell_type": "code",
   "execution_count": 66,
   "metadata": {},
   "outputs": [],
   "source": [
    "# sprawdzam\n",
    "#ld[['purpose', 'purpose_num']]"
   ]
  },
  {
   "cell_type": "code",
   "execution_count": 67,
   "metadata": {},
   "outputs": [
    {
     "data": {
      "text/html": [
       "<div>\n",
       "<style scoped>\n",
       "    .dataframe tbody tr th:only-of-type {\n",
       "        vertical-align: middle;\n",
       "    }\n",
       "\n",
       "    .dataframe tbody tr th {\n",
       "        vertical-align: top;\n",
       "    }\n",
       "\n",
       "    .dataframe thead th {\n",
       "        text-align: right;\n",
       "    }\n",
       "</style>\n",
       "<table border=\"1\" class=\"dataframe\">\n",
       "  <thead>\n",
       "    <tr style=\"text-align: right;\">\n",
       "      <th></th>\n",
       "      <th>description</th>\n",
       "    </tr>\n",
       "  </thead>\n",
       "  <tbody>\n",
       "    <tr>\n",
       "      <th>term</th>\n",
       "      <td>\" 36 months\":36.0, \" 60 months\":60.0</td>\n",
       "    </tr>\n",
       "    <tr>\n",
       "      <th>int_rate</th>\n",
       "      <td>[%]</td>\n",
       "    </tr>\n",
       "    <tr>\n",
       "      <th>grade</th>\n",
       "      <td>A: 7, B: 6, C: 5, D: 4, E: 3, F: 2, G: 1</td>\n",
       "    </tr>\n",
       "    <tr>\n",
       "      <th>sub_grade_num</th>\n",
       "      <td>A1: 0, A2: 1,  ...,G4: 33, G5: 34</td>\n",
       "    </tr>\n",
       "    <tr>\n",
       "      <th>emp_length</th>\n",
       "      <td>&lt; 1 year: 0,  ...,10+years: 10</td>\n",
       "    </tr>\n",
       "    <tr>\n",
       "      <th>home_ownership</th>\n",
       "      <td>NONE: 1, OTHER: 2, RENT: 3, MORTGAGE: 4, OWN: 5</td>\n",
       "    </tr>\n",
       "    <tr>\n",
       "      <th>verification_status</th>\n",
       "      <td>Not Verified: 1, Source Verified: 2, Verified: 3</td>\n",
       "    </tr>\n",
       "    <tr>\n",
       "      <th>loan_status</th>\n",
       "      <td>Fully Paid: 1, Charged Off: 0</td>\n",
       "    </tr>\n",
       "    <tr>\n",
       "      <th>purpose_num</th>\n",
       "      <td>car: 0, credit_c: 1, debt_c: 2, edu: 3, home_i...</td>\n",
       "    </tr>\n",
       "  </tbody>\n",
       "</table>\n",
       "</div>"
      ],
      "text/plain": [
       "                                                           description\n",
       "term                              \" 36 months\":36.0, \" 60 months\":60.0\n",
       "int_rate                                                           [%]\n",
       "grade                         A: 7, B: 6, C: 5, D: 4, E: 3, F: 2, G: 1\n",
       "sub_grade_num                        A1: 0, A2: 1,  ...,G4: 33, G5: 34\n",
       "emp_length                              < 1 year: 0,  ...,10+years: 10\n",
       "home_ownership         NONE: 1, OTHER: 2, RENT: 3, MORTGAGE: 4, OWN: 5\n",
       "verification_status   Not Verified: 1, Source Verified: 2, Verified: 3\n",
       "loan_status                              Fully Paid: 1, Charged Off: 0\n",
       "purpose_num          car: 0, credit_c: 1, debt_c: 2, edu: 3, home_i..."
      ]
     },
     "execution_count": 67,
     "metadata": {},
     "output_type": "execute_result"
    }
   ],
   "source": [
    "leg_n = {'description':{'purpose_num': 'car: 0, credit_c: 1, debt_c: 2, edu: 3, home_i: 4, house: 5, major_p: 6, medical: 7,moving: 8, other: 9, ren_en: 10, small_bus: 11, vacation: 12, wedding: 13'}}\n",
    "legenda_n = pd.DataFrame(leg_n)\n",
    "legenda = legenda.append(legenda_n)\n",
    "legenda.head(10)"
   ]
  },
  {
   "cell_type": "code",
   "execution_count": 68,
   "metadata": {},
   "outputs": [
    {
     "data": {
      "text/plain": [
       "array(['Computer', 'bike', 'real estate business', ..., 'delight',\n",
       "       'Car repair bill', 'Aroundthehouse'], dtype=object)"
      ]
     },
     "execution_count": 68,
     "metadata": {},
     "output_type": "execute_result"
    }
   ],
   "source": [
    "# sprawdzam czy kolumnę 'title' można łatwo agregować \n",
    "ld.title.unique()\n",
    "#ld.title.value_counts()\n",
    "# w tej kolumnie jest dużo wartości, 13 brakujących  i raczej wtórne do danych z kolumny 'purpose' - pomijam"
   ]
  },
  {
   "cell_type": "code",
   "execution_count": 69,
   "metadata": {},
   "outputs": [],
   "source": [
    "# sprawdzam czy kolumnę 'zip_code' można łatwo agregować \n",
    "#ld.zip_code.unique()\n",
    "# pomijam"
   ]
  },
  {
   "cell_type": "code",
   "execution_count": 70,
   "metadata": {},
   "outputs": [
    {
     "data": {
      "text/plain": [
       "array(['AZ', 'GA', 'IL', 'CA', 'OR', 'NC', 'TX', 'VA', 'MO', 'CT', 'UT',\n",
       "       'FL', 'NY', 'PA', 'MN', 'NJ', 'KY', 'OH', 'SC', 'RI', 'LA', 'MA',\n",
       "       'WA', 'WI', 'AL', 'CO', 'KS', 'NV', 'AK', 'MD', 'WV', 'VT', 'MI',\n",
       "       'DC', 'SD', 'NH', 'AR', 'NM', 'MT', 'HI', 'WY', 'OK', 'DE', 'MS',\n",
       "       'TN', 'IA', 'NE', 'ID', 'IN', 'ME'], dtype=object)"
      ]
     },
     "execution_count": 70,
     "metadata": {},
     "output_type": "execute_result"
    }
   ],
   "source": [
    "# sprawdzam czy kolumnę 'addr_state' można łatwo agregować\n",
    "ld.addr_state.unique()\n",
    "# mam watpliwości, czy będzie jakaś korelacja, ale zostawiam"
   ]
  },
  {
   "cell_type": "code",
   "execution_count": 71,
   "metadata": {},
   "outputs": [
    {
     "data": {
      "text/plain": [
       "array([ 3, 10, 14,  4, 36, 27, 42, 44, 24,  6, 43,  9, 33, 37, 23, 30, 17,\n",
       "       34, 39, 38, 18, 19, 46, 47,  1,  5, 16, 32,  0, 20, 48, 45, 22,  7,\n",
       "       40, 29,  2, 31, 26, 11, 49, 35,  8, 25, 41, 12, 28, 13, 15, 21])"
      ]
     },
     "execution_count": 71,
     "metadata": {},
     "output_type": "execute_result"
    }
   ],
   "source": [
    "# zamieniam na numeryczne\n",
    "ld['addr_state_num'] = label_encoder.fit_transform(ld['addr_state']) # zmienić typ encodera ?\n",
    "ld.addr_state_num.unique()"
   ]
  },
  {
   "cell_type": "code",
   "execution_count": 72,
   "metadata": {},
   "outputs": [],
   "source": [
    "#sorted(ld.addr_state.unique().tolist())"
   ]
  },
  {
   "cell_type": "code",
   "execution_count": 73,
   "metadata": {},
   "outputs": [
    {
     "data": {
      "text/html": [
       "<div>\n",
       "<style scoped>\n",
       "    .dataframe tbody tr th:only-of-type {\n",
       "        vertical-align: middle;\n",
       "    }\n",
       "\n",
       "    .dataframe tbody tr th {\n",
       "        vertical-align: top;\n",
       "    }\n",
       "\n",
       "    .dataframe thead th {\n",
       "        text-align: right;\n",
       "    }\n",
       "</style>\n",
       "<table border=\"1\" class=\"dataframe\">\n",
       "  <thead>\n",
       "    <tr style=\"text-align: right;\">\n",
       "      <th></th>\n",
       "      <th>description</th>\n",
       "    </tr>\n",
       "  </thead>\n",
       "  <tbody>\n",
       "    <tr>\n",
       "      <th>term</th>\n",
       "      <td>\" 36 months\":36.0, \" 60 months\":60.0</td>\n",
       "    </tr>\n",
       "    <tr>\n",
       "      <th>int_rate</th>\n",
       "      <td>[%]</td>\n",
       "    </tr>\n",
       "    <tr>\n",
       "      <th>grade</th>\n",
       "      <td>A: 7, B: 6, C: 5, D: 4, E: 3, F: 2, G: 1</td>\n",
       "    </tr>\n",
       "    <tr>\n",
       "      <th>sub_grade_num</th>\n",
       "      <td>A1: 0, A2: 1,  ...,G4: 33, G5: 34</td>\n",
       "    </tr>\n",
       "    <tr>\n",
       "      <th>emp_length</th>\n",
       "      <td>&lt; 1 year: 0,  ...,10+years: 10</td>\n",
       "    </tr>\n",
       "    <tr>\n",
       "      <th>home_ownership</th>\n",
       "      <td>NONE: 1, OTHER: 2, RENT: 3, MORTGAGE: 4, OWN: 5</td>\n",
       "    </tr>\n",
       "    <tr>\n",
       "      <th>verification_status</th>\n",
       "      <td>Not Verified: 1, Source Verified: 2, Verified: 3</td>\n",
       "    </tr>\n",
       "    <tr>\n",
       "      <th>loan_status</th>\n",
       "      <td>Fully Paid: 1, Charged Off: 0</td>\n",
       "    </tr>\n",
       "    <tr>\n",
       "      <th>purpose_num</th>\n",
       "      <td>car: 0, credit_c: 1, debt_c: 2, edu: 3, home_i...</td>\n",
       "    </tr>\n",
       "    <tr>\n",
       "      <th>addr_state_num</th>\n",
       "      <td>AK: 0, AL: 1, AR: 2,  ....</td>\n",
       "    </tr>\n",
       "  </tbody>\n",
       "</table>\n",
       "</div>"
      ],
      "text/plain": [
       "                                                           description\n",
       "term                              \" 36 months\":36.0, \" 60 months\":60.0\n",
       "int_rate                                                           [%]\n",
       "grade                         A: 7, B: 6, C: 5, D: 4, E: 3, F: 2, G: 1\n",
       "sub_grade_num                        A1: 0, A2: 1,  ...,G4: 33, G5: 34\n",
       "emp_length                              < 1 year: 0,  ...,10+years: 10\n",
       "home_ownership         NONE: 1, OTHER: 2, RENT: 3, MORTGAGE: 4, OWN: 5\n",
       "verification_status   Not Verified: 1, Source Verified: 2, Verified: 3\n",
       "loan_status                              Fully Paid: 1, Charged Off: 0\n",
       "purpose_num          car: 0, credit_c: 1, debt_c: 2, edu: 3, home_i...\n",
       "addr_state_num                              AK: 0, AL: 1, AR: 2,  ...."
      ]
     },
     "execution_count": 73,
     "metadata": {},
     "output_type": "execute_result"
    }
   ],
   "source": [
    "leg_n = {'description':{'addr_state_num': 'AK: 0, AL: 1, AR: 2,  ....'}}\n",
    "legenda_n = pd.DataFrame(leg_n)\n",
    "legenda = legenda.append(legenda_n)\n",
    "legenda.head(12)"
   ]
  },
  {
   "cell_type": "code",
   "execution_count": 74,
   "metadata": {},
   "outputs": [
    {
     "data": {
      "text/plain": [
       "12714    29.99\n",
       "42069    29.96\n",
       "15036    29.95\n",
       "41821    29.95\n",
       "17211    29.93\n",
       "         ...  \n",
       "9988      0.00\n",
       "38842     0.00\n",
       "33509     0.00\n",
       "33427     0.00\n",
       "39554     0.00\n",
       "Name: dti, Length: 42531, dtype: float64"
      ]
     },
     "execution_count": 74,
     "metadata": {},
     "output_type": "execute_result"
    }
   ],
   "source": [
    "# kolumna dti\n",
    "ld.dti.sort_values(ascending = False)"
   ]
  },
  {
   "cell_type": "code",
   "execution_count": 75,
   "metadata": {},
   "outputs": [
    {
     "data": {
      "text/plain": [
       "0.00     206\n",
       "12.00     54\n",
       "18.00     46\n",
       "10.00     46\n",
       "19.20     45\n",
       "        ... \n",
       "25.62      1\n",
       "28.36      1\n",
       "28.08      1\n",
       "29.11      1\n",
       "26.87      1\n",
       "Name: dti, Length: 2894, dtype: int64"
      ]
     },
     "execution_count": 75,
     "metadata": {},
     "output_type": "execute_result"
    }
   ],
   "source": [
    "ld.dti.value_counts()"
   ]
  },
  {
   "cell_type": "code",
   "execution_count": 76,
   "metadata": {},
   "outputs": [
    {
     "data": {
      "text/plain": [
       "count    42531.000000\n",
       "mean        13.374136\n",
       "std          6.725675\n",
       "min          0.000000\n",
       "25%          8.200000\n",
       "50%         13.470000\n",
       "75%         18.680000\n",
       "max         29.990000\n",
       "Name: dti, dtype: float64"
      ]
     },
     "execution_count": 76,
     "metadata": {},
     "output_type": "execute_result"
    }
   ],
   "source": [
    "ld.dti.describe()"
   ]
  },
  {
   "cell_type": "code",
   "execution_count": 77,
   "metadata": {},
   "outputs": [],
   "source": [
    "# dti to jest ratio - nie powinno wynosić zero. Tych zer jest nie duzo (206 czyli <0.5% zbioru ) - uzupełnię przez średnią\n",
    "ld['dti'].replace(to_replace = 0, value = 13.37, inplace = True) "
   ]
  },
  {
   "cell_type": "code",
   "execution_count": 78,
   "metadata": {},
   "outputs": [
    {
     "data": {
      "text/plain": [
       "0.0     37771\n",
       "1.0      3595\n",
       "2.0       771\n",
       "3.0       244\n",
       "4.0        72\n",
       "5.0        27\n",
       "6.0        13\n",
       "7.0         6\n",
       "8.0         3\n",
       "11.0        2\n",
       "13.0        1\n",
       "9.0         1\n",
       "Name: delinq_2yrs, dtype: int64"
      ]
     },
     "execution_count": 78,
     "metadata": {},
     "output_type": "execute_result"
    }
   ],
   "source": [
    "# kolumna 'delinq_2 yrs' jest numeryczna, ale brakuje 25 wartości (1%<)\n",
    "ld.delinq_2yrs.value_counts()\n",
    "#ld.delinq_2yrs.mean()"
   ]
  },
  {
   "cell_type": "code",
   "execution_count": 79,
   "metadata": {},
   "outputs": [],
   "source": [
    "#Możemy uzupełnić najczęstszą wartością czyli '0.0', co nie jest dalekie od średniej\n",
    "ld['delinq_2yrs'].fillna(0, inplace = True)"
   ]
  },
  {
   "cell_type": "code",
   "execution_count": 80,
   "metadata": {},
   "outputs": [
    {
     "name": "stdout",
     "output_type": "stream",
     "text": [
      "<class 'pandas.core.frame.DataFrame'>\n",
      "Int64Index: 42531 entries, 0 to 42535\n",
      "Columns: 153 entries, id to addr_state_num\n",
      "dtypes: float64(122), int32(3), int64(5), object(23)\n",
      "memory usage: 49.5+ MB\n"
     ]
    }
   ],
   "source": [
    "ld.info()"
   ]
  },
  {
   "cell_type": "code",
   "execution_count": 81,
   "metadata": {},
   "outputs": [
    {
     "data": {
      "text/plain": [
       "array(['Dec-2011', 'Nov-2011', 'Oct-2011', 'Sep-2011', 'Aug-2011',\n",
       "       'Jul-2011', 'Jun-2011', 'May-2011', 'Apr-2011', 'Mar-2011',\n",
       "       'Feb-2011', 'Jan-2011', 'Dec-2010', 'Nov-2010', 'Oct-2010',\n",
       "       'Sep-2010', 'Aug-2010', 'Jul-2010', 'Jun-2010', 'May-2010',\n",
       "       'Apr-2010', 'Mar-2010', 'Feb-2010', 'Jan-2010', 'Dec-2009',\n",
       "       'Nov-2009', 'Oct-2009', 'Sep-2009', 'Aug-2009', 'Jul-2009',\n",
       "       'Jun-2009', 'May-2009', 'Apr-2009', 'Mar-2009', 'Feb-2009',\n",
       "       'Jan-2009', 'Dec-2008', 'Nov-2008', 'Oct-2008', 'Sep-2008',\n",
       "       'Aug-2008', 'Jul-2008', 'Jun-2008', 'May-2008', 'Apr-2008',\n",
       "       'Mar-2008', 'Feb-2008', 'Jan-2008', 'Dec-2007', 'Nov-2007',\n",
       "       'Oct-2007', 'Sep-2007', 'Aug-2007', 'Jul-2007', 'Jun-2007'],\n",
       "      dtype=object)"
      ]
     },
     "execution_count": 81,
     "metadata": {},
     "output_type": "execute_result"
    }
   ],
   "source": [
    "# sprawdzam czy kolumnę 'issue_d' można łatwo agregować \n",
    "ld.issue_d.unique()"
   ]
  },
  {
   "cell_type": "code",
   "execution_count": 82,
   "metadata": {},
   "outputs": [],
   "source": [
    "import datetime"
   ]
  },
  {
   "cell_type": "code",
   "execution_count": 83,
   "metadata": {},
   "outputs": [],
   "source": [
    "# zmienię format danych\n",
    "ld.issue_d = pd.to_datetime(ld.issue_d)"
   ]
  },
  {
   "cell_type": "code",
   "execution_count": 84,
   "metadata": {},
   "outputs": [
    {
     "data": {
      "text/plain": [
       "array(['2011-12-01T00:00:00.000000000', '2011-11-01T00:00:00.000000000',\n",
       "       '2011-10-01T00:00:00.000000000', '2011-09-01T00:00:00.000000000',\n",
       "       '2011-08-01T00:00:00.000000000', '2011-07-01T00:00:00.000000000',\n",
       "       '2011-06-01T00:00:00.000000000', '2011-05-01T00:00:00.000000000',\n",
       "       '2011-04-01T00:00:00.000000000', '2011-03-01T00:00:00.000000000',\n",
       "       '2011-02-01T00:00:00.000000000', '2011-01-01T00:00:00.000000000',\n",
       "       '2010-12-01T00:00:00.000000000', '2010-11-01T00:00:00.000000000',\n",
       "       '2010-10-01T00:00:00.000000000', '2010-09-01T00:00:00.000000000',\n",
       "       '2010-08-01T00:00:00.000000000', '2010-07-01T00:00:00.000000000',\n",
       "       '2010-06-01T00:00:00.000000000', '2010-05-01T00:00:00.000000000',\n",
       "       '2010-04-01T00:00:00.000000000', '2010-03-01T00:00:00.000000000',\n",
       "       '2010-02-01T00:00:00.000000000', '2010-01-01T00:00:00.000000000',\n",
       "       '2009-12-01T00:00:00.000000000', '2009-11-01T00:00:00.000000000',\n",
       "       '2009-10-01T00:00:00.000000000', '2009-09-01T00:00:00.000000000',\n",
       "       '2009-08-01T00:00:00.000000000', '2009-07-01T00:00:00.000000000',\n",
       "       '2009-06-01T00:00:00.000000000', '2009-05-01T00:00:00.000000000',\n",
       "       '2009-04-01T00:00:00.000000000', '2009-03-01T00:00:00.000000000',\n",
       "       '2009-02-01T00:00:00.000000000', '2009-01-01T00:00:00.000000000',\n",
       "       '2008-12-01T00:00:00.000000000', '2008-11-01T00:00:00.000000000',\n",
       "       '2008-10-01T00:00:00.000000000', '2008-09-01T00:00:00.000000000',\n",
       "       '2008-08-01T00:00:00.000000000', '2008-07-01T00:00:00.000000000',\n",
       "       '2008-06-01T00:00:00.000000000', '2008-05-01T00:00:00.000000000',\n",
       "       '2008-04-01T00:00:00.000000000', '2008-03-01T00:00:00.000000000',\n",
       "       '2008-02-01T00:00:00.000000000', '2008-01-01T00:00:00.000000000',\n",
       "       '2007-12-01T00:00:00.000000000', '2007-11-01T00:00:00.000000000',\n",
       "       '2007-10-01T00:00:00.000000000', '2007-09-01T00:00:00.000000000',\n",
       "       '2007-08-01T00:00:00.000000000', '2007-07-01T00:00:00.000000000',\n",
       "       '2007-06-01T00:00:00.000000000'], dtype='datetime64[ns]')"
      ]
     },
     "execution_count": 84,
     "metadata": {},
     "output_type": "execute_result"
    }
   ],
   "source": [
    "ld.issue_d.unique()"
   ]
  },
  {
   "cell_type": "code",
   "execution_count": 85,
   "metadata": {},
   "outputs": [
    {
     "data": {
      "text/plain": [
       "array(['Jan-1985', 'Apr-1999', 'Nov-2001', 'Feb-1996', 'Jan-1996',\n",
       "       'Nov-2004', 'Jul-2005', 'Jan-2007', 'Apr-2004', 'Sep-2004',\n",
       "       'Jan-1998', 'Oct-1989', 'Jul-2003', 'May-1991', 'Sep-2007',\n",
       "       'Oct-1998', 'Aug-1993', 'Oct-2003', 'Jan-2001', 'Nov-1997',\n",
       "       'Feb-1983', 'Jul-1985', 'Apr-2003', 'Jun-2001', 'Feb-2002',\n",
       "       'Aug-1984', 'Nov-2006', 'Dec-1987', 'Nov-1981', 'Feb-1997',\n",
       "       'Apr-2005', 'Oct-2007', 'Dec-2000', 'Apr-2007', 'Dec-2001',\n",
       "       'Jan-2003', 'Mar-1994', 'Sep-1998', 'Jun-2004', 'Nov-1995',\n",
       "       'Jul-1999', 'Jun-1995', 'Sep-1992', 'Jan-2002', 'Apr-1992',\n",
       "       'Oct-2006', 'May-2000', 'Dec-1998', 'Dec-2004', 'Oct-2000',\n",
       "       'May-2002', 'May-2006', 'Jul-2002', 'Jul-2006', 'May-1997',\n",
       "       'Oct-2005', 'Apr-1995', 'Oct-2002', 'Jan-2000', 'Apr-2000',\n",
       "       'Dec-1994', 'Sep-2005', 'Dec-1984', 'Dec-1999', 'Nov-2003',\n",
       "       'Jun-1989', 'Jun-2003', 'Oct-1996', 'May-2003', 'Jun-2002',\n",
       "       'Jun-2007', 'Dec-1996', 'Feb-1984', 'Sep-2002', 'Jan-1986',\n",
       "       'May-1998', 'Jan-1997', 'Jun-2005', 'Feb-1990', 'Mar-2004',\n",
       "       'Jul-1995', 'Aug-1994', 'Jun-1992', 'Mar-1997', 'Apr-2006',\n",
       "       'Apr-1990', 'Aug-1999', 'Sep-2000', 'Feb-2001', 'Dec-1988',\n",
       "       'Feb-1999', 'Dec-1991', 'Aug-2000', 'Oct-2004', 'Aug-2004',\n",
       "       'Feb-2005', 'Nov-2005', 'Nov-2000', 'May-2007', 'Jan-1991',\n",
       "       'Jun-2000', 'Aug-2006', 'Dec-2002', 'Jun-1993', 'Jun-2006',\n",
       "       'Feb-2004', 'Dec-1990', 'Mar-2000', 'Feb-1995', 'Jul-2001',\n",
       "       'Apr-2002', 'Sep-2006', 'May-1999', 'Aug-1998', 'Dec-2005',\n",
       "       'May-2004', 'Oct-2001', 'Jun-1983', 'Mar-1986', 'Apr-1980',\n",
       "       'Jul-2004', 'Jul-2008', 'May-1996', 'Jan-2004', 'Nov-2002',\n",
       "       'Aug-2002', 'Aug-2001', 'Mar-1991', 'Sep-1989', 'Sep-1994',\n",
       "       'Sep-2003', 'Sep-1999', 'Aug-2005', 'Dec-1986', 'Nov-1998',\n",
       "       'Feb-2006', 'May-1994', 'Nov-2007', 'Feb-1993', 'Nov-1991',\n",
       "       'May-2005', 'Dec-1973', 'May-2001', 'Mar-1990', 'Mar-1996',\n",
       "       'Oct-1979', 'Jun-1981', 'Mar-2001', 'Apr-2001', 'Jun-1999',\n",
       "       'Nov-1993', 'Jan-2006', 'Dec-1997', 'Nov-1994', 'Jul-1997',\n",
       "       'Oct-1991', 'Jun-1994', 'Mar-2006', 'Sep-1996', 'Apr-1991',\n",
       "       'Jul-1993', 'Jan-1995', 'Sep-1987', 'Mar-2003', 'Oct-1999',\n",
       "       'Jul-1996', 'Dec-2003', 'Aug-1988', 'Jan-1992', 'Mar-1998',\n",
       "       'Feb-2007', 'Aug-1982', 'Mar-1995', 'Dec-1992', 'Jul-1998',\n",
       "       'Jul-1989', 'May-1990', 'Jul-1994', 'Sep-2001', 'Mar-1984',\n",
       "       'Aug-2003', 'Nov-1999', 'Mar-2007', 'Mar-2008', 'Apr-1994',\n",
       "       'Jan-2005', 'Jul-1986', 'Aug-1990', 'May-1992', 'Jul-2000',\n",
       "       'Mar-1988', 'May-1983', 'Apr-1993', 'Jul-1978', 'Feb-2000',\n",
       "       'Dec-1981', 'Mar-1992', 'Jan-1981', 'Sep-1990', 'Jun-1998',\n",
       "       'May-1993', 'Nov-1996', 'Mar-2002', 'Jan-1988', 'Aug-1997',\n",
       "       'Aug-1987', 'Aug-2008', 'Oct-1994', 'Oct-1986', 'Feb-1994',\n",
       "       'Jun-1996', 'Feb-1998', 'Nov-2008', 'Apr-1998', 'Jul-1979',\n",
       "       'Jan-1993', 'May-1987', 'Jul-1971', 'Aug-2007', 'Jun-1997',\n",
       "       'Mar-1980', 'Dec-2006', 'Jul-2007', 'Oct-1995', 'Jul-1991',\n",
       "       'Jul-1992', 'Dec-1972', 'Dec-1993', 'Jan-1999', 'Feb-2003',\n",
       "       'Apr-1997', 'Dec-1995', 'Apr-1996', 'Jul-1990', 'Mar-1970',\n",
       "       'Nov-1984', 'Apr-1984', 'Jul-1984', 'Aug-1995', 'Mar-1999',\n",
       "       'Sep-1988', 'Mar-1989', 'Mar-1987', 'Oct-1997', 'Dec-1980',\n",
       "       'Jan-1994', 'Sep-1995', 'Mar-2005', 'Jan-1989', 'Feb-1992',\n",
       "       'Jan-1990', 'Nov-1990', 'Mar-1969', 'Jun-1975', 'Mar-1985',\n",
       "       'Dec-2007', 'Oct-1993', 'Dec-1989', 'Sep-1980', 'Jun-1988',\n",
       "       'May-1978', 'Apr-1973', 'Aug-1989', 'Oct-1990', 'Sep-1991',\n",
       "       'Feb-1982', 'Feb-1987', 'Nov-1985', 'Jan-1984', 'Jul-1988',\n",
       "       'May-2008', 'Oct-1985', 'Mar-1983', 'Aug-1991', 'Sep-1986',\n",
       "       'Jun-1990', 'Feb-1986', 'Sep-1997', 'Jun-1984', 'Sep-1981',\n",
       "       'Apr-1986', 'Aug-1979', 'Aug-1980', 'Nov-1992', 'Sep-1993',\n",
       "       'Jun-1987', 'Sep-1982', 'Aug-1992', 'Aug-1985', 'Jul-1983',\n",
       "       'Jun-1991', 'Dec-1983', 'Jan-1987', 'Nov-1978', 'Oct-1984',\n",
       "       'Aug-1996', 'Nov-1989', 'Sep-1976', 'Nov-1986', 'Oct-1987',\n",
       "       'Sep-2008', 'May-1977', 'May-1986', 'Mar-1981', 'Jan-1983',\n",
       "       'Nov-1976', 'Sep-1979', 'Oct-1983', 'Sep-1962', 'Jun-1985',\n",
       "       'May-1982', 'Feb-1988', 'Oct-1992', 'Aug-1983', 'Jun-1973',\n",
       "       'Apr-1985', 'Oct-1988', 'Oct-1981', 'Sep-1968', 'Jul-1974',\n",
       "       'Nov-1987', 'May-1995', 'Feb-1991', 'Nov-1988', 'Mar-1993',\n",
       "       'Jun-2008', 'Jul-1980', 'Dec-1982', 'Mar-1975', 'Feb-1980',\n",
       "       'Apr-1988', 'Dec-1979', 'Sep-1985', 'Sep-1971', 'Mar-1978',\n",
       "       'Feb-2008', 'Aug-1978', 'Nov-1970', 'Jun-1979', 'Jun-1980',\n",
       "       'Apr-1989', 'Sep-1983', 'Feb-1989', 'Nov-1983', 'Jun-1986',\n",
       "       'Oct-1982', 'Aug-1986', 'Oct-1980', 'May-1988', 'Dec-1985',\n",
       "       'Jan-1982', 'Sep-1977', 'Dec-1976', 'Apr-1982', 'May-1984',\n",
       "       'Apr-2008', 'Feb-1979', 'Jan-2008', 'Sep-1964', 'Jul-1987',\n",
       "       'Jan-1978', 'May-1989', 'Oct-1977', 'Dec-1975', 'Feb-1985',\n",
       "       'Oct-2008', 'Nov-1982', 'May-1975', 'May-1985', 'Feb-1971',\n",
       "       'Jun-1977', 'Apr-1981', 'May-1979', 'Jan-1972', 'Sep-1967',\n",
       "       'Apr-1978', 'Feb-1965', 'Apr-1983', 'Nov-1975', 'Jun-1967',\n",
       "       'Mar-1974', 'Jul-1972', 'Aug-1967', 'Apr-1971', 'Sep-1984',\n",
       "       'May-1981', 'Dec-1970', 'Oct-1973', 'Jan-1971', 'Dec-1963',\n",
       "       'Apr-1974', 'Jan-1980', 'Aug-1969', 'Apr-1975', 'Jul-1977',\n",
       "       'Mar-1977', 'Nov-1969', 'Jan-1976', 'Mar-1982', 'Apr-1987',\n",
       "       'Dec-1969', 'May-1974', 'Aug-1974', 'Jun-1972', 'Mar-1963',\n",
       "       'Nov-1979', 'Aug-1975', 'Sep-1974', 'Aug-1981', 'May-1973',\n",
       "       'Sep-1973', 'Mar-1973', 'Dec-1977', 'Oct-1976', 'Jan-1974',\n",
       "       'Jan-1970', 'Aug-1968', 'Feb-1976', 'Jan-1975', 'Oct-1972',\n",
       "       'Dec-1974', 'Feb-1973', 'Nov-1965', 'Mar-1972', 'Jun-1982',\n",
       "       'Jun-1974', 'May-1965', 'Jun-1971', 'Oct-1970', 'Apr-1976',\n",
       "       'Oct-1971', 'Apr-1977', 'Sep-1978', 'Oct-1978', 'Oct-1954',\n",
       "       'Feb-1981', 'Jan-1977', 'Aug-1977', 'Dec-1978', 'Aug-1976',\n",
       "       'Jun-1968', 'Jun-1978', 'Jun-1969', 'May-1980', 'Jan-1979',\n",
       "       'Oct-1965', 'Nov-1974', 'Apr-1966', 'Jun-1976', 'Feb-1972',\n",
       "       'May-1976', 'Mar-1968', 'Mar-1976', 'Jul-1970', 'Mar-1979',\n",
       "       'Jul-1976', 'Jul-1982', 'Sep-1965', 'Apr-1967', 'Oct-1963',\n",
       "       'Feb-1970', 'Jul-1973', 'Feb-1978', 'Nov-1971', 'Aug-1972',\n",
       "       'Jul-1975', 'Sep-1970', 'Jul-1981', 'Oct-1964', 'Sep-1972',\n",
       "       'May-1970', 'May-1963', 'Feb-1969', 'Nov-1980', 'Jul-1967',\n",
       "       'Apr-1970', 'Nov-1977', 'Nov-1966', 'May-1971', 'Apr-1979',\n",
       "       'May-1972', 'Feb-1968', 'Jul-1964', 'Nov-1967', 'Apr-1964',\n",
       "       'Feb-1975', 'Jun-1959', 'Sep-1956', 'Jun-1966', 'Jan-1946',\n",
       "       'Mar-1966', 'Jan-1963', 'Dec-1950', 'Jul-1969', 'Jan-1968',\n",
       "       'Nov-1973', 'Jun-1970', 'Feb-1977', 'Feb-1974', 'Jan-1973',\n",
       "       'Feb-1966', 'Dec-1961', 'Aug-1973', 'Aug-1970', 'Sep-1969',\n",
       "       'Sep-1975', 'Dec-1968', 'Nov-1954', 'Oct-1969', 'Dec-1965',\n",
       "       'Apr-1972', 'Nov-1972', 'Sep-1963', 'Apr-1969', 'Nov-1962',\n",
       "       'Oct-1967', 'May-1967', 'Nov-1961', 'Feb-1967', 'Nov-1968',\n",
       "       'Oct-1975', 'Mar-1971', 'Aug-1971', 'Dec-1966', 'Oct-1968',\n",
       "       'Oct-1974', 'Nov-1963', 'Apr-1968', 'May-1969', 'Nov-1959', nan],\n",
       "      dtype=object)"
      ]
     },
     "execution_count": 85,
     "metadata": {},
     "output_type": "execute_result"
    }
   ],
   "source": [
    "# sprawdzam czy kolumnę 'earliest_cr_line' można łatwo agregować \n",
    "ld.earliest_cr_line.unique()"
   ]
  },
  {
   "cell_type": "code",
   "execution_count": 86,
   "metadata": {},
   "outputs": [],
   "source": [
    "# zmienię format danych\n",
    "ld.earliest_cr_line = pd.to_datetime(ld.earliest_cr_line)"
   ]
  },
  {
   "cell_type": "code",
   "execution_count": 87,
   "metadata": {},
   "outputs": [
    {
     "data": {
      "text/plain": [
       "array(['1985-01-01T00:00:00.000000000', '1999-04-01T00:00:00.000000000',\n",
       "       '2001-11-01T00:00:00.000000000', '1996-02-01T00:00:00.000000000',\n",
       "       '1996-01-01T00:00:00.000000000', '2004-11-01T00:00:00.000000000',\n",
       "       '2005-07-01T00:00:00.000000000', '2007-01-01T00:00:00.000000000',\n",
       "       '2004-04-01T00:00:00.000000000', '2004-09-01T00:00:00.000000000',\n",
       "       '1998-01-01T00:00:00.000000000', '1989-10-01T00:00:00.000000000',\n",
       "       '2003-07-01T00:00:00.000000000', '1991-05-01T00:00:00.000000000',\n",
       "       '2007-09-01T00:00:00.000000000', '1998-10-01T00:00:00.000000000',\n",
       "       '1993-08-01T00:00:00.000000000', '2003-10-01T00:00:00.000000000',\n",
       "       '2001-01-01T00:00:00.000000000', '1997-11-01T00:00:00.000000000',\n",
       "       '1983-02-01T00:00:00.000000000', '1985-07-01T00:00:00.000000000',\n",
       "       '2003-04-01T00:00:00.000000000', '2001-06-01T00:00:00.000000000',\n",
       "       '2002-02-01T00:00:00.000000000', '1984-08-01T00:00:00.000000000',\n",
       "       '2006-11-01T00:00:00.000000000', '1987-12-01T00:00:00.000000000',\n",
       "       '1981-11-01T00:00:00.000000000', '1997-02-01T00:00:00.000000000',\n",
       "       '2005-04-01T00:00:00.000000000', '2007-10-01T00:00:00.000000000',\n",
       "       '2000-12-01T00:00:00.000000000', '2007-04-01T00:00:00.000000000',\n",
       "       '2001-12-01T00:00:00.000000000', '2003-01-01T00:00:00.000000000',\n",
       "       '1994-03-01T00:00:00.000000000', '1998-09-01T00:00:00.000000000',\n",
       "       '2004-06-01T00:00:00.000000000', '1995-11-01T00:00:00.000000000',\n",
       "       '1999-07-01T00:00:00.000000000', '1995-06-01T00:00:00.000000000',\n",
       "       '1992-09-01T00:00:00.000000000', '2002-01-01T00:00:00.000000000',\n",
       "       '1992-04-01T00:00:00.000000000', '2006-10-01T00:00:00.000000000',\n",
       "       '2000-05-01T00:00:00.000000000', '1998-12-01T00:00:00.000000000',\n",
       "       '2004-12-01T00:00:00.000000000', '2000-10-01T00:00:00.000000000',\n",
       "       '2002-05-01T00:00:00.000000000', '2006-05-01T00:00:00.000000000',\n",
       "       '2002-07-01T00:00:00.000000000', '2006-07-01T00:00:00.000000000',\n",
       "       '1997-05-01T00:00:00.000000000', '2005-10-01T00:00:00.000000000',\n",
       "       '1995-04-01T00:00:00.000000000', '2002-10-01T00:00:00.000000000',\n",
       "       '2000-01-01T00:00:00.000000000', '2000-04-01T00:00:00.000000000',\n",
       "       '1994-12-01T00:00:00.000000000', '2005-09-01T00:00:00.000000000',\n",
       "       '1984-12-01T00:00:00.000000000', '1999-12-01T00:00:00.000000000',\n",
       "       '2003-11-01T00:00:00.000000000', '1989-06-01T00:00:00.000000000',\n",
       "       '2003-06-01T00:00:00.000000000', '1996-10-01T00:00:00.000000000',\n",
       "       '2003-05-01T00:00:00.000000000', '2002-06-01T00:00:00.000000000',\n",
       "       '2007-06-01T00:00:00.000000000', '1996-12-01T00:00:00.000000000',\n",
       "       '1984-02-01T00:00:00.000000000', '2002-09-01T00:00:00.000000000',\n",
       "       '1986-01-01T00:00:00.000000000', '1998-05-01T00:00:00.000000000',\n",
       "       '1997-01-01T00:00:00.000000000', '2005-06-01T00:00:00.000000000',\n",
       "       '1990-02-01T00:00:00.000000000', '2004-03-01T00:00:00.000000000',\n",
       "       '1995-07-01T00:00:00.000000000', '1994-08-01T00:00:00.000000000',\n",
       "       '1992-06-01T00:00:00.000000000', '1997-03-01T00:00:00.000000000',\n",
       "       '2006-04-01T00:00:00.000000000', '1990-04-01T00:00:00.000000000',\n",
       "       '1999-08-01T00:00:00.000000000', '2000-09-01T00:00:00.000000000',\n",
       "       '2001-02-01T00:00:00.000000000', '1988-12-01T00:00:00.000000000',\n",
       "       '1999-02-01T00:00:00.000000000', '1991-12-01T00:00:00.000000000',\n",
       "       '2000-08-01T00:00:00.000000000', '2004-10-01T00:00:00.000000000',\n",
       "       '2004-08-01T00:00:00.000000000', '2005-02-01T00:00:00.000000000',\n",
       "       '2005-11-01T00:00:00.000000000', '2000-11-01T00:00:00.000000000',\n",
       "       '2007-05-01T00:00:00.000000000', '1991-01-01T00:00:00.000000000',\n",
       "       '2000-06-01T00:00:00.000000000', '2006-08-01T00:00:00.000000000',\n",
       "       '2002-12-01T00:00:00.000000000', '1993-06-01T00:00:00.000000000',\n",
       "       '2006-06-01T00:00:00.000000000', '2004-02-01T00:00:00.000000000',\n",
       "       '1990-12-01T00:00:00.000000000', '2000-03-01T00:00:00.000000000',\n",
       "       '1995-02-01T00:00:00.000000000', '2001-07-01T00:00:00.000000000',\n",
       "       '2002-04-01T00:00:00.000000000', '2006-09-01T00:00:00.000000000',\n",
       "       '1999-05-01T00:00:00.000000000', '1998-08-01T00:00:00.000000000',\n",
       "       '2005-12-01T00:00:00.000000000', '2004-05-01T00:00:00.000000000',\n",
       "       '2001-10-01T00:00:00.000000000', '1983-06-01T00:00:00.000000000',\n",
       "       '1986-03-01T00:00:00.000000000', '1980-04-01T00:00:00.000000000',\n",
       "       '2004-07-01T00:00:00.000000000', '2008-07-01T00:00:00.000000000',\n",
       "       '1996-05-01T00:00:00.000000000', '2004-01-01T00:00:00.000000000',\n",
       "       '2002-11-01T00:00:00.000000000', '2002-08-01T00:00:00.000000000',\n",
       "       '2001-08-01T00:00:00.000000000', '1991-03-01T00:00:00.000000000',\n",
       "       '1989-09-01T00:00:00.000000000', '1994-09-01T00:00:00.000000000',\n",
       "       '2003-09-01T00:00:00.000000000', '1999-09-01T00:00:00.000000000',\n",
       "       '2005-08-01T00:00:00.000000000', '1986-12-01T00:00:00.000000000',\n",
       "       '1998-11-01T00:00:00.000000000', '2006-02-01T00:00:00.000000000',\n",
       "       '1994-05-01T00:00:00.000000000', '2007-11-01T00:00:00.000000000',\n",
       "       '1993-02-01T00:00:00.000000000', '1991-11-01T00:00:00.000000000',\n",
       "       '2005-05-01T00:00:00.000000000', '1973-12-01T00:00:00.000000000',\n",
       "       '2001-05-01T00:00:00.000000000', '1990-03-01T00:00:00.000000000',\n",
       "       '1996-03-01T00:00:00.000000000', '1979-10-01T00:00:00.000000000',\n",
       "       '1981-06-01T00:00:00.000000000', '2001-03-01T00:00:00.000000000',\n",
       "       '2001-04-01T00:00:00.000000000', '1999-06-01T00:00:00.000000000',\n",
       "       '1993-11-01T00:00:00.000000000', '2006-01-01T00:00:00.000000000',\n",
       "       '1997-12-01T00:00:00.000000000', '1994-11-01T00:00:00.000000000',\n",
       "       '1997-07-01T00:00:00.000000000', '1991-10-01T00:00:00.000000000',\n",
       "       '1994-06-01T00:00:00.000000000', '2006-03-01T00:00:00.000000000',\n",
       "       '1996-09-01T00:00:00.000000000', '1991-04-01T00:00:00.000000000',\n",
       "       '1993-07-01T00:00:00.000000000', '1995-01-01T00:00:00.000000000',\n",
       "       '1987-09-01T00:00:00.000000000', '2003-03-01T00:00:00.000000000',\n",
       "       '1999-10-01T00:00:00.000000000', '1996-07-01T00:00:00.000000000',\n",
       "       '2003-12-01T00:00:00.000000000', '1988-08-01T00:00:00.000000000',\n",
       "       '1992-01-01T00:00:00.000000000', '1998-03-01T00:00:00.000000000',\n",
       "       '2007-02-01T00:00:00.000000000', '1982-08-01T00:00:00.000000000',\n",
       "       '1995-03-01T00:00:00.000000000', '1992-12-01T00:00:00.000000000',\n",
       "       '1998-07-01T00:00:00.000000000', '1989-07-01T00:00:00.000000000',\n",
       "       '1990-05-01T00:00:00.000000000', '1994-07-01T00:00:00.000000000',\n",
       "       '2001-09-01T00:00:00.000000000', '1984-03-01T00:00:00.000000000',\n",
       "       '2003-08-01T00:00:00.000000000', '1999-11-01T00:00:00.000000000',\n",
       "       '2007-03-01T00:00:00.000000000', '2008-03-01T00:00:00.000000000',\n",
       "       '1994-04-01T00:00:00.000000000', '2005-01-01T00:00:00.000000000',\n",
       "       '1986-07-01T00:00:00.000000000', '1990-08-01T00:00:00.000000000',\n",
       "       '1992-05-01T00:00:00.000000000', '2000-07-01T00:00:00.000000000',\n",
       "       '1988-03-01T00:00:00.000000000', '1983-05-01T00:00:00.000000000',\n",
       "       '1993-04-01T00:00:00.000000000', '1978-07-01T00:00:00.000000000',\n",
       "       '2000-02-01T00:00:00.000000000', '1981-12-01T00:00:00.000000000',\n",
       "       '1992-03-01T00:00:00.000000000', '1981-01-01T00:00:00.000000000',\n",
       "       '1990-09-01T00:00:00.000000000', '1998-06-01T00:00:00.000000000',\n",
       "       '1993-05-01T00:00:00.000000000', '1996-11-01T00:00:00.000000000',\n",
       "       '2002-03-01T00:00:00.000000000', '1988-01-01T00:00:00.000000000',\n",
       "       '1997-08-01T00:00:00.000000000', '1987-08-01T00:00:00.000000000',\n",
       "       '2008-08-01T00:00:00.000000000', '1994-10-01T00:00:00.000000000',\n",
       "       '1986-10-01T00:00:00.000000000', '1994-02-01T00:00:00.000000000',\n",
       "       '1996-06-01T00:00:00.000000000', '1998-02-01T00:00:00.000000000',\n",
       "       '2008-11-01T00:00:00.000000000', '1998-04-01T00:00:00.000000000',\n",
       "       '1979-07-01T00:00:00.000000000', '1993-01-01T00:00:00.000000000',\n",
       "       '1987-05-01T00:00:00.000000000', '1971-07-01T00:00:00.000000000',\n",
       "       '2007-08-01T00:00:00.000000000', '1997-06-01T00:00:00.000000000',\n",
       "       '1980-03-01T00:00:00.000000000', '2006-12-01T00:00:00.000000000',\n",
       "       '2007-07-01T00:00:00.000000000', '1995-10-01T00:00:00.000000000',\n",
       "       '1991-07-01T00:00:00.000000000', '1992-07-01T00:00:00.000000000',\n",
       "       '1972-12-01T00:00:00.000000000', '1993-12-01T00:00:00.000000000',\n",
       "       '1999-01-01T00:00:00.000000000', '2003-02-01T00:00:00.000000000',\n",
       "       '1997-04-01T00:00:00.000000000', '1995-12-01T00:00:00.000000000',\n",
       "       '1996-04-01T00:00:00.000000000', '1990-07-01T00:00:00.000000000',\n",
       "       '1970-03-01T00:00:00.000000000', '1984-11-01T00:00:00.000000000',\n",
       "       '1984-04-01T00:00:00.000000000', '1984-07-01T00:00:00.000000000',\n",
       "       '1995-08-01T00:00:00.000000000', '1999-03-01T00:00:00.000000000',\n",
       "       '1988-09-01T00:00:00.000000000', '1989-03-01T00:00:00.000000000',\n",
       "       '1987-03-01T00:00:00.000000000', '1997-10-01T00:00:00.000000000',\n",
       "       '1980-12-01T00:00:00.000000000', '1994-01-01T00:00:00.000000000',\n",
       "       '1995-09-01T00:00:00.000000000', '2005-03-01T00:00:00.000000000',\n",
       "       '1989-01-01T00:00:00.000000000', '1992-02-01T00:00:00.000000000',\n",
       "       '1990-01-01T00:00:00.000000000', '1990-11-01T00:00:00.000000000',\n",
       "       '1969-03-01T00:00:00.000000000', '1975-06-01T00:00:00.000000000',\n",
       "       '1985-03-01T00:00:00.000000000', '2007-12-01T00:00:00.000000000',\n",
       "       '1993-10-01T00:00:00.000000000', '1989-12-01T00:00:00.000000000',\n",
       "       '1980-09-01T00:00:00.000000000', '1988-06-01T00:00:00.000000000',\n",
       "       '1978-05-01T00:00:00.000000000', '1973-04-01T00:00:00.000000000',\n",
       "       '1989-08-01T00:00:00.000000000', '1990-10-01T00:00:00.000000000',\n",
       "       '1991-09-01T00:00:00.000000000', '1982-02-01T00:00:00.000000000',\n",
       "       '1987-02-01T00:00:00.000000000', '1985-11-01T00:00:00.000000000',\n",
       "       '1984-01-01T00:00:00.000000000', '1988-07-01T00:00:00.000000000',\n",
       "       '2008-05-01T00:00:00.000000000', '1985-10-01T00:00:00.000000000',\n",
       "       '1983-03-01T00:00:00.000000000', '1991-08-01T00:00:00.000000000',\n",
       "       '1986-09-01T00:00:00.000000000', '1990-06-01T00:00:00.000000000',\n",
       "       '1986-02-01T00:00:00.000000000', '1997-09-01T00:00:00.000000000',\n",
       "       '1984-06-01T00:00:00.000000000', '1981-09-01T00:00:00.000000000',\n",
       "       '1986-04-01T00:00:00.000000000', '1979-08-01T00:00:00.000000000',\n",
       "       '1980-08-01T00:00:00.000000000', '1992-11-01T00:00:00.000000000',\n",
       "       '1993-09-01T00:00:00.000000000', '1987-06-01T00:00:00.000000000',\n",
       "       '1982-09-01T00:00:00.000000000', '1992-08-01T00:00:00.000000000',\n",
       "       '1985-08-01T00:00:00.000000000', '1983-07-01T00:00:00.000000000',\n",
       "       '1991-06-01T00:00:00.000000000', '1983-12-01T00:00:00.000000000',\n",
       "       '1987-01-01T00:00:00.000000000', '1978-11-01T00:00:00.000000000',\n",
       "       '1984-10-01T00:00:00.000000000', '1996-08-01T00:00:00.000000000',\n",
       "       '1989-11-01T00:00:00.000000000', '1976-09-01T00:00:00.000000000',\n",
       "       '1986-11-01T00:00:00.000000000', '1987-10-01T00:00:00.000000000',\n",
       "       '2008-09-01T00:00:00.000000000', '1977-05-01T00:00:00.000000000',\n",
       "       '1986-05-01T00:00:00.000000000', '1981-03-01T00:00:00.000000000',\n",
       "       '1983-01-01T00:00:00.000000000', '1976-11-01T00:00:00.000000000',\n",
       "       '1979-09-01T00:00:00.000000000', '1983-10-01T00:00:00.000000000',\n",
       "       '1962-09-01T00:00:00.000000000', '1985-06-01T00:00:00.000000000',\n",
       "       '1982-05-01T00:00:00.000000000', '1988-02-01T00:00:00.000000000',\n",
       "       '1992-10-01T00:00:00.000000000', '1983-08-01T00:00:00.000000000',\n",
       "       '1973-06-01T00:00:00.000000000', '1985-04-01T00:00:00.000000000',\n",
       "       '1988-10-01T00:00:00.000000000', '1981-10-01T00:00:00.000000000',\n",
       "       '1968-09-01T00:00:00.000000000', '1974-07-01T00:00:00.000000000',\n",
       "       '1987-11-01T00:00:00.000000000', '1995-05-01T00:00:00.000000000',\n",
       "       '1991-02-01T00:00:00.000000000', '1988-11-01T00:00:00.000000000',\n",
       "       '1993-03-01T00:00:00.000000000', '2008-06-01T00:00:00.000000000',\n",
       "       '1980-07-01T00:00:00.000000000', '1982-12-01T00:00:00.000000000',\n",
       "       '1975-03-01T00:00:00.000000000', '1980-02-01T00:00:00.000000000',\n",
       "       '1988-04-01T00:00:00.000000000', '1979-12-01T00:00:00.000000000',\n",
       "       '1985-09-01T00:00:00.000000000', '1971-09-01T00:00:00.000000000',\n",
       "       '1978-03-01T00:00:00.000000000', '2008-02-01T00:00:00.000000000',\n",
       "       '1978-08-01T00:00:00.000000000', '1970-11-01T00:00:00.000000000',\n",
       "       '1979-06-01T00:00:00.000000000', '1980-06-01T00:00:00.000000000',\n",
       "       '1989-04-01T00:00:00.000000000', '1983-09-01T00:00:00.000000000',\n",
       "       '1989-02-01T00:00:00.000000000', '1983-11-01T00:00:00.000000000',\n",
       "       '1986-06-01T00:00:00.000000000', '1982-10-01T00:00:00.000000000',\n",
       "       '1986-08-01T00:00:00.000000000', '1980-10-01T00:00:00.000000000',\n",
       "       '1988-05-01T00:00:00.000000000', '1985-12-01T00:00:00.000000000',\n",
       "       '1982-01-01T00:00:00.000000000', '1977-09-01T00:00:00.000000000',\n",
       "       '1976-12-01T00:00:00.000000000', '1982-04-01T00:00:00.000000000',\n",
       "       '1984-05-01T00:00:00.000000000', '2008-04-01T00:00:00.000000000',\n",
       "       '1979-02-01T00:00:00.000000000', '2008-01-01T00:00:00.000000000',\n",
       "       '1964-09-01T00:00:00.000000000', '1987-07-01T00:00:00.000000000',\n",
       "       '1978-01-01T00:00:00.000000000', '1989-05-01T00:00:00.000000000',\n",
       "       '1977-10-01T00:00:00.000000000', '1975-12-01T00:00:00.000000000',\n",
       "       '1985-02-01T00:00:00.000000000', '2008-10-01T00:00:00.000000000',\n",
       "       '1982-11-01T00:00:00.000000000', '1975-05-01T00:00:00.000000000',\n",
       "       '1985-05-01T00:00:00.000000000', '1971-02-01T00:00:00.000000000',\n",
       "       '1977-06-01T00:00:00.000000000', '1981-04-01T00:00:00.000000000',\n",
       "       '1979-05-01T00:00:00.000000000', '1972-01-01T00:00:00.000000000',\n",
       "       '1967-09-01T00:00:00.000000000', '1978-04-01T00:00:00.000000000',\n",
       "       '1965-02-01T00:00:00.000000000', '1983-04-01T00:00:00.000000000',\n",
       "       '1975-11-01T00:00:00.000000000', '1967-06-01T00:00:00.000000000',\n",
       "       '1974-03-01T00:00:00.000000000', '1972-07-01T00:00:00.000000000',\n",
       "       '1967-08-01T00:00:00.000000000', '1971-04-01T00:00:00.000000000',\n",
       "       '1984-09-01T00:00:00.000000000', '1981-05-01T00:00:00.000000000',\n",
       "       '1970-12-01T00:00:00.000000000', '1973-10-01T00:00:00.000000000',\n",
       "       '1971-01-01T00:00:00.000000000', '1963-12-01T00:00:00.000000000',\n",
       "       '1974-04-01T00:00:00.000000000', '1980-01-01T00:00:00.000000000',\n",
       "       '1969-08-01T00:00:00.000000000', '1975-04-01T00:00:00.000000000',\n",
       "       '1977-07-01T00:00:00.000000000', '1977-03-01T00:00:00.000000000',\n",
       "       '1969-11-01T00:00:00.000000000', '1976-01-01T00:00:00.000000000',\n",
       "       '1982-03-01T00:00:00.000000000', '1987-04-01T00:00:00.000000000',\n",
       "       '1969-12-01T00:00:00.000000000', '1974-05-01T00:00:00.000000000',\n",
       "       '1974-08-01T00:00:00.000000000', '1972-06-01T00:00:00.000000000',\n",
       "       '1963-03-01T00:00:00.000000000', '1979-11-01T00:00:00.000000000',\n",
       "       '1975-08-01T00:00:00.000000000', '1974-09-01T00:00:00.000000000',\n",
       "       '1981-08-01T00:00:00.000000000', '1973-05-01T00:00:00.000000000',\n",
       "       '1973-09-01T00:00:00.000000000', '1973-03-01T00:00:00.000000000',\n",
       "       '1977-12-01T00:00:00.000000000', '1976-10-01T00:00:00.000000000',\n",
       "       '1974-01-01T00:00:00.000000000', '1970-01-01T00:00:00.000000000',\n",
       "       '1968-08-01T00:00:00.000000000', '1976-02-01T00:00:00.000000000',\n",
       "       '1975-01-01T00:00:00.000000000', '1972-10-01T00:00:00.000000000',\n",
       "       '1974-12-01T00:00:00.000000000', '1973-02-01T00:00:00.000000000',\n",
       "       '1965-11-01T00:00:00.000000000', '1972-03-01T00:00:00.000000000',\n",
       "       '1982-06-01T00:00:00.000000000', '1974-06-01T00:00:00.000000000',\n",
       "       '1965-05-01T00:00:00.000000000', '1971-06-01T00:00:00.000000000',\n",
       "       '1970-10-01T00:00:00.000000000', '1976-04-01T00:00:00.000000000',\n",
       "       '1971-10-01T00:00:00.000000000', '1977-04-01T00:00:00.000000000',\n",
       "       '1978-09-01T00:00:00.000000000', '1978-10-01T00:00:00.000000000',\n",
       "       '1954-10-01T00:00:00.000000000', '1981-02-01T00:00:00.000000000',\n",
       "       '1977-01-01T00:00:00.000000000', '1977-08-01T00:00:00.000000000',\n",
       "       '1978-12-01T00:00:00.000000000', '1976-08-01T00:00:00.000000000',\n",
       "       '1968-06-01T00:00:00.000000000', '1978-06-01T00:00:00.000000000',\n",
       "       '1969-06-01T00:00:00.000000000', '1980-05-01T00:00:00.000000000',\n",
       "       '1979-01-01T00:00:00.000000000', '1965-10-01T00:00:00.000000000',\n",
       "       '1974-11-01T00:00:00.000000000', '1966-04-01T00:00:00.000000000',\n",
       "       '1976-06-01T00:00:00.000000000', '1972-02-01T00:00:00.000000000',\n",
       "       '1976-05-01T00:00:00.000000000', '1968-03-01T00:00:00.000000000',\n",
       "       '1976-03-01T00:00:00.000000000', '1970-07-01T00:00:00.000000000',\n",
       "       '1979-03-01T00:00:00.000000000', '1976-07-01T00:00:00.000000000',\n",
       "       '1982-07-01T00:00:00.000000000', '1965-09-01T00:00:00.000000000',\n",
       "       '1967-04-01T00:00:00.000000000', '1963-10-01T00:00:00.000000000',\n",
       "       '1970-02-01T00:00:00.000000000', '1973-07-01T00:00:00.000000000',\n",
       "       '1978-02-01T00:00:00.000000000', '1971-11-01T00:00:00.000000000',\n",
       "       '1972-08-01T00:00:00.000000000', '1975-07-01T00:00:00.000000000',\n",
       "       '1970-09-01T00:00:00.000000000', '1981-07-01T00:00:00.000000000',\n",
       "       '1964-10-01T00:00:00.000000000', '1972-09-01T00:00:00.000000000',\n",
       "       '1970-05-01T00:00:00.000000000', '1963-05-01T00:00:00.000000000',\n",
       "       '1969-02-01T00:00:00.000000000', '1980-11-01T00:00:00.000000000',\n",
       "       '1967-07-01T00:00:00.000000000', '1970-04-01T00:00:00.000000000',\n",
       "       '1977-11-01T00:00:00.000000000', '1966-11-01T00:00:00.000000000',\n",
       "       '1971-05-01T00:00:00.000000000', '1979-04-01T00:00:00.000000000',\n",
       "       '1972-05-01T00:00:00.000000000', '1968-02-01T00:00:00.000000000',\n",
       "       '1964-07-01T00:00:00.000000000', '1967-11-01T00:00:00.000000000',\n",
       "       '1964-04-01T00:00:00.000000000', '1975-02-01T00:00:00.000000000',\n",
       "       '1959-06-01T00:00:00.000000000', '1956-09-01T00:00:00.000000000',\n",
       "       '1966-06-01T00:00:00.000000000', '1946-01-01T00:00:00.000000000',\n",
       "       '1966-03-01T00:00:00.000000000', '1963-01-01T00:00:00.000000000',\n",
       "       '1950-12-01T00:00:00.000000000', '1969-07-01T00:00:00.000000000',\n",
       "       '1968-01-01T00:00:00.000000000', '1973-11-01T00:00:00.000000000',\n",
       "       '1970-06-01T00:00:00.000000000', '1977-02-01T00:00:00.000000000',\n",
       "       '1974-02-01T00:00:00.000000000', '1973-01-01T00:00:00.000000000',\n",
       "       '1966-02-01T00:00:00.000000000', '1961-12-01T00:00:00.000000000',\n",
       "       '1973-08-01T00:00:00.000000000', '1970-08-01T00:00:00.000000000',\n",
       "       '1969-09-01T00:00:00.000000000', '1975-09-01T00:00:00.000000000',\n",
       "       '1968-12-01T00:00:00.000000000', '1954-11-01T00:00:00.000000000',\n",
       "       '1969-10-01T00:00:00.000000000', '1965-12-01T00:00:00.000000000',\n",
       "       '1972-04-01T00:00:00.000000000', '1972-11-01T00:00:00.000000000',\n",
       "       '1963-09-01T00:00:00.000000000', '1969-04-01T00:00:00.000000000',\n",
       "       '1962-11-01T00:00:00.000000000', '1967-10-01T00:00:00.000000000',\n",
       "       '1967-05-01T00:00:00.000000000', '1961-11-01T00:00:00.000000000',\n",
       "       '1967-02-01T00:00:00.000000000', '1968-11-01T00:00:00.000000000',\n",
       "       '1975-10-01T00:00:00.000000000', '1971-03-01T00:00:00.000000000',\n",
       "       '1971-08-01T00:00:00.000000000', '1966-12-01T00:00:00.000000000',\n",
       "       '1968-10-01T00:00:00.000000000', '1974-10-01T00:00:00.000000000',\n",
       "       '1963-11-01T00:00:00.000000000', '1968-04-01T00:00:00.000000000',\n",
       "       '1969-05-01T00:00:00.000000000', '1959-11-01T00:00:00.000000000',\n",
       "                                 'NaT'], dtype='datetime64[ns]')"
      ]
     },
     "execution_count": 87,
     "metadata": {},
     "output_type": "execute_result"
    }
   ],
   "source": [
    "ld.earliest_cr_line.unique()"
   ]
  },
  {
   "cell_type": "code",
   "execution_count": 88,
   "metadata": {},
   "outputs": [],
   "source": [
    "# brakujące wartości (nan) - uzupełnię średnią\n",
    "ld.earliest_cr_line.mean()\n",
    "ld.earliest_cr_line.fillna(ld.earliest_cr_line.mean(), inplace=True)"
   ]
  },
  {
   "cell_type": "code",
   "execution_count": 89,
   "metadata": {},
   "outputs": [],
   "source": [
    "# utworzę kolumne 'wiek_kr' - wiek kredytowy, która będzie potrzebna w p 2b (t.j. EDA)\n",
    "ld['wiek_kr'] = (ld.issue_d-ld.earliest_cr_line).dt.days"
   ]
  },
  {
   "cell_type": "code",
   "execution_count": 90,
   "metadata": {},
   "outputs": [
    {
     "data": {
      "text/plain": [
       "array([9830, 4627, 3682, ..., 3807,  212, 3777], dtype=int64)"
      ]
     },
     "execution_count": 90,
     "metadata": {},
     "output_type": "execute_result"
    }
   ],
   "source": [
    "ld.wiek_kr.unique()"
   ]
  },
  {
   "cell_type": "code",
   "execution_count": 91,
   "metadata": {},
   "outputs": [
    {
     "data": {
      "text/plain": [
       "min      184\n",
       "max    23892\n",
       "Name: wiek_kr, dtype: int64"
      ]
     },
     "execution_count": 91,
     "metadata": {},
     "output_type": "execute_result"
    }
   ],
   "source": [
    "ld.wiek_kr.agg([min, max])"
   ]
  },
  {
   "cell_type": "code",
   "execution_count": 92,
   "metadata": {},
   "outputs": [
    {
     "data": {
      "text/html": [
       "<div>\n",
       "<style scoped>\n",
       "    .dataframe tbody tr th:only-of-type {\n",
       "        vertical-align: middle;\n",
       "    }\n",
       "\n",
       "    .dataframe tbody tr th {\n",
       "        vertical-align: top;\n",
       "    }\n",
       "\n",
       "    .dataframe thead th {\n",
       "        text-align: right;\n",
       "    }\n",
       "</style>\n",
       "<table border=\"1\" class=\"dataframe\">\n",
       "  <thead>\n",
       "    <tr style=\"text-align: right;\">\n",
       "      <th></th>\n",
       "      <th>description</th>\n",
       "    </tr>\n",
       "  </thead>\n",
       "  <tbody>\n",
       "    <tr>\n",
       "      <th>term</th>\n",
       "      <td>\" 36 months\":36.0, \" 60 months\":60.0</td>\n",
       "    </tr>\n",
       "    <tr>\n",
       "      <th>int_rate</th>\n",
       "      <td>[%]</td>\n",
       "    </tr>\n",
       "    <tr>\n",
       "      <th>grade</th>\n",
       "      <td>A: 7, B: 6, C: 5, D: 4, E: 3, F: 2, G: 1</td>\n",
       "    </tr>\n",
       "    <tr>\n",
       "      <th>sub_grade_num</th>\n",
       "      <td>A1: 0, A2: 1,  ...,G4: 33, G5: 34</td>\n",
       "    </tr>\n",
       "    <tr>\n",
       "      <th>emp_length</th>\n",
       "      <td>&lt; 1 year: 0,  ...,10+years: 10</td>\n",
       "    </tr>\n",
       "    <tr>\n",
       "      <th>home_ownership</th>\n",
       "      <td>NONE: 1, OTHER: 2, RENT: 3, MORTGAGE: 4, OWN: 5</td>\n",
       "    </tr>\n",
       "    <tr>\n",
       "      <th>verification_status</th>\n",
       "      <td>Not Verified: 1, Source Verified: 2, Verified: 3</td>\n",
       "    </tr>\n",
       "    <tr>\n",
       "      <th>loan_status</th>\n",
       "      <td>Fully Paid: 1, Charged Off: 0</td>\n",
       "    </tr>\n",
       "    <tr>\n",
       "      <th>purpose_num</th>\n",
       "      <td>car: 0, credit_c: 1, debt_c: 2, edu: 3, home_i...</td>\n",
       "    </tr>\n",
       "    <tr>\n",
       "      <th>addr_state_num</th>\n",
       "      <td>AK: 0, AL: 1, AR: 2,  ....</td>\n",
       "    </tr>\n",
       "    <tr>\n",
       "      <th>wiek_kr</th>\n",
       "      <td>wiek kredytowy (issue_d-earliest_cr_line)</td>\n",
       "    </tr>\n",
       "  </tbody>\n",
       "</table>\n",
       "</div>"
      ],
      "text/plain": [
       "                                                           description\n",
       "term                              \" 36 months\":36.0, \" 60 months\":60.0\n",
       "int_rate                                                           [%]\n",
       "grade                         A: 7, B: 6, C: 5, D: 4, E: 3, F: 2, G: 1\n",
       "sub_grade_num                        A1: 0, A2: 1,  ...,G4: 33, G5: 34\n",
       "emp_length                              < 1 year: 0,  ...,10+years: 10\n",
       "home_ownership         NONE: 1, OTHER: 2, RENT: 3, MORTGAGE: 4, OWN: 5\n",
       "verification_status   Not Verified: 1, Source Verified: 2, Verified: 3\n",
       "loan_status                              Fully Paid: 1, Charged Off: 0\n",
       "purpose_num          car: 0, credit_c: 1, debt_c: 2, edu: 3, home_i...\n",
       "addr_state_num                              AK: 0, AL: 1, AR: 2,  ....\n",
       "wiek_kr                      wiek kredytowy (issue_d-earliest_cr_line)"
      ]
     },
     "execution_count": 92,
     "metadata": {},
     "output_type": "execute_result"
    }
   ],
   "source": [
    "leg_n = {'description':{'wiek_kr': 'wiek kredytowy (issue_d-earliest_cr_line)'}}\n",
    "legenda_n = pd.DataFrame(leg_n)\n",
    "legenda = legenda.append(legenda_n)\n",
    "legenda.head(12)"
   ]
  },
  {
   "cell_type": "code",
   "execution_count": 93,
   "metadata": {},
   "outputs": [
    {
     "data": {
      "text/plain": [
       "min    4.0\n",
       "max    4.0\n",
       "dtype: float64"
      ]
     },
     "execution_count": 93,
     "metadata": {},
     "output_type": "execute_result"
    }
   ],
   "source": [
    "# sprawdzę różnice między kolumną fico_range_high i fico_range_low\n",
    "(ld.fico_range_high- ld.fico_range_low).agg([min, max])"
   ]
  },
  {
   "cell_type": "code",
   "execution_count": 94,
   "metadata": {},
   "outputs": [],
   "source": [
    "#ld.fico_range_low.mean()\n",
    "# między fico high a low różnica 4, która jest nieznaczna do wartości (średnio 713)\n",
    "# możemy do dalszych analiz wziąć dowolnie fico_range_low, fico_range_high lub średnią z nich\n",
    "ld['fico'] = (ld.fico_range_high + ld.fico_range_low)/2"
   ]
  },
  {
   "cell_type": "code",
   "execution_count": 95,
   "metadata": {},
   "outputs": [],
   "source": [
    "# sprawdzam\n",
    "#ld[['fico', 'fico_range_high', 'fico_range_low']]"
   ]
  },
  {
   "cell_type": "code",
   "execution_count": 96,
   "metadata": {},
   "outputs": [
    {
     "data": {
      "text/html": [
       "<div>\n",
       "<style scoped>\n",
       "    .dataframe tbody tr th:only-of-type {\n",
       "        vertical-align: middle;\n",
       "    }\n",
       "\n",
       "    .dataframe tbody tr th {\n",
       "        vertical-align: top;\n",
       "    }\n",
       "\n",
       "    .dataframe thead th {\n",
       "        text-align: right;\n",
       "    }\n",
       "</style>\n",
       "<table border=\"1\" class=\"dataframe\">\n",
       "  <thead>\n",
       "    <tr style=\"text-align: right;\">\n",
       "      <th></th>\n",
       "      <th>description</th>\n",
       "    </tr>\n",
       "  </thead>\n",
       "  <tbody>\n",
       "    <tr>\n",
       "      <th>term</th>\n",
       "      <td>\" 36 months\":36.0, \" 60 months\":60.0</td>\n",
       "    </tr>\n",
       "    <tr>\n",
       "      <th>int_rate</th>\n",
       "      <td>[%]</td>\n",
       "    </tr>\n",
       "    <tr>\n",
       "      <th>grade</th>\n",
       "      <td>A: 7, B: 6, C: 5, D: 4, E: 3, F: 2, G: 1</td>\n",
       "    </tr>\n",
       "    <tr>\n",
       "      <th>sub_grade_num</th>\n",
       "      <td>A1: 0, A2: 1,  ...,G4: 33, G5: 34</td>\n",
       "    </tr>\n",
       "    <tr>\n",
       "      <th>emp_length</th>\n",
       "      <td>&lt; 1 year: 0,  ...,10+years: 10</td>\n",
       "    </tr>\n",
       "    <tr>\n",
       "      <th>home_ownership</th>\n",
       "      <td>NONE: 1, OTHER: 2, RENT: 3, MORTGAGE: 4, OWN: 5</td>\n",
       "    </tr>\n",
       "    <tr>\n",
       "      <th>verification_status</th>\n",
       "      <td>Not Verified: 1, Source Verified: 2, Verified: 3</td>\n",
       "    </tr>\n",
       "    <tr>\n",
       "      <th>loan_status</th>\n",
       "      <td>Fully Paid: 1, Charged Off: 0</td>\n",
       "    </tr>\n",
       "    <tr>\n",
       "      <th>purpose_num</th>\n",
       "      <td>car: 0, credit_c: 1, debt_c: 2, edu: 3, home_i...</td>\n",
       "    </tr>\n",
       "    <tr>\n",
       "      <th>addr_state_num</th>\n",
       "      <td>AK: 0, AL: 1, AR: 2,  ....</td>\n",
       "    </tr>\n",
       "    <tr>\n",
       "      <th>wiek_kr</th>\n",
       "      <td>wiek kredytowy (issue_d-earliest_cr_line)</td>\n",
       "    </tr>\n",
       "    <tr>\n",
       "      <th>fico</th>\n",
       "      <td>mean of fico_range_high and low</td>\n",
       "    </tr>\n",
       "  </tbody>\n",
       "</table>\n",
       "</div>"
      ],
      "text/plain": [
       "                                                           description\n",
       "term                              \" 36 months\":36.0, \" 60 months\":60.0\n",
       "int_rate                                                           [%]\n",
       "grade                         A: 7, B: 6, C: 5, D: 4, E: 3, F: 2, G: 1\n",
       "sub_grade_num                        A1: 0, A2: 1,  ...,G4: 33, G5: 34\n",
       "emp_length                              < 1 year: 0,  ...,10+years: 10\n",
       "home_ownership         NONE: 1, OTHER: 2, RENT: 3, MORTGAGE: 4, OWN: 5\n",
       "verification_status   Not Verified: 1, Source Verified: 2, Verified: 3\n",
       "loan_status                              Fully Paid: 1, Charged Off: 0\n",
       "purpose_num          car: 0, credit_c: 1, debt_c: 2, edu: 3, home_i...\n",
       "addr_state_num                              AK: 0, AL: 1, AR: 2,  ....\n",
       "wiek_kr                      wiek kredytowy (issue_d-earliest_cr_line)\n",
       "fico                                   mean of fico_range_high and low"
      ]
     },
     "execution_count": 96,
     "metadata": {},
     "output_type": "execute_result"
    }
   ],
   "source": [
    "leg_n = {'description':{'fico': 'mean of fico_range_high and low'}}\n",
    "legenda_n = pd.DataFrame(leg_n)\n",
    "legenda = legenda.append(legenda_n)\n",
    "legenda.head(12)"
   ]
  },
  {
   "cell_type": "code",
   "execution_count": 97,
   "metadata": {},
   "outputs": [],
   "source": [
    "# przeformatuję ramkę, przygotowując do eksportu\n",
    "legenda.reset_index(inplace=True)\n",
    "legenda.columns = ['col', 'desc']\n",
    "#legenda.head()"
   ]
  },
  {
   "cell_type": "code",
   "execution_count": 98,
   "metadata": {},
   "outputs": [
    {
     "data": {
      "text/plain": [
       "0.0     19657\n",
       "1.0     11247\n",
       "2.0      5987\n",
       "3.0      3182\n",
       "4.0      1056\n",
       "5.0       596\n",
       "6.0       339\n",
       "7.0       182\n",
       "8.0       115\n",
       "9.0        50\n",
       "10.0       24\n",
       "12.0       15\n",
       "11.0       15\n",
       "15.0        9\n",
       "14.0        6\n",
       "13.0        6\n",
       "18.0        4\n",
       "16.0        3\n",
       "24.0        2\n",
       "17.0        2\n",
       "19.0        2\n",
       "28.0        1\n",
       "33.0        1\n",
       "27.0        1\n",
       "31.0        1\n",
       "25.0        1\n",
       "32.0        1\n",
       "20.0        1\n",
       "Name: inq_last_6mths, dtype: int64"
      ]
     },
     "execution_count": 98,
     "metadata": {},
     "output_type": "execute_result"
    }
   ],
   "source": [
    "# sprawdzę kolumnę inq_last_6mths\n",
    "ld.inq_last_6mths.value_counts()"
   ]
  },
  {
   "cell_type": "code",
   "execution_count": 99,
   "metadata": {},
   "outputs": [
    {
     "data": {
      "text/plain": [
       "array([ 1.,  5.,  2.,  0.,  3.,  4.,  6.,  7.,  8.,  9., 10., 11., 12.,\n",
       "       15., 14., 33., 17., 32., 24., 13., 18., 16., 31., 28., 25., 27.,\n",
       "       20., 19., nan])"
      ]
     },
     "execution_count": 99,
     "metadata": {},
     "output_type": "execute_result"
    }
   ],
   "source": [
    "ld.inq_last_6mths.unique()"
   ]
  },
  {
   "cell_type": "code",
   "execution_count": 100,
   "metadata": {},
   "outputs": [
    {
     "data": {
      "text/plain": [
       "1.0814237989930833"
      ]
     },
     "execution_count": 100,
     "metadata": {},
     "output_type": "execute_result"
    }
   ],
   "source": [
    "ld.inq_last_6mths.mean()"
   ]
  },
  {
   "cell_type": "code",
   "execution_count": 101,
   "metadata": {},
   "outputs": [],
   "source": [
    "# uzupelnie nan przez średnią czyli 1\n",
    "ld.inq_last_6mths.fillna(1, inplace=True)"
   ]
  },
  {
   "cell_type": "code",
   "execution_count": 102,
   "metadata": {},
   "outputs": [
    {
     "data": {
      "text/plain": [
       "array([ 3.,  2., 10., 15.,  9.,  7.,  4., 11., 14., 12., 20.,  8.,  6.,\n",
       "       17.,  5., 13., 16., 30., 21., 18., 19., 27., 23., 34., 25., 22.,\n",
       "       24., 26., 32., 28., 29., 33., 31., 39., 35., 36., 38., 44., 41.,\n",
       "       42.,  1., 46., 37., 47., nan])"
      ]
     },
     "execution_count": 102,
     "metadata": {},
     "output_type": "execute_result"
    }
   ],
   "source": [
    "# sprawdzę kolumne pub_rec\n",
    "ld.open_acc.unique()"
   ]
  },
  {
   "cell_type": "code",
   "execution_count": 103,
   "metadata": {},
   "outputs": [
    {
     "data": {
      "text/plain": [
       "9.343951442149343"
      ]
     },
     "execution_count": 103,
     "metadata": {},
     "output_type": "execute_result"
    }
   ],
   "source": [
    "ld.open_acc.mean()"
   ]
  },
  {
   "cell_type": "code",
   "execution_count": 104,
   "metadata": {},
   "outputs": [],
   "source": [
    "# uzupelnie nan przez średnią czyli 9\n",
    "ld.open_acc.fillna(9, inplace=True)"
   ]
  },
  {
   "cell_type": "code",
   "execution_count": 105,
   "metadata": {},
   "outputs": [
    {
     "data": {
      "text/plain": [
       "0.0    40130\n",
       "1.0     2298\n",
       "2.0       64\n",
       "3.0       11\n",
       "4.0        2\n",
       "5.0        1\n",
       "Name: pub_rec, dtype: int64"
      ]
     },
     "execution_count": 105,
     "metadata": {},
     "output_type": "execute_result"
    }
   ],
   "source": [
    "# sprawdzę kolumne revol_ba\n",
    "ld.pub_rec.value_counts()"
   ]
  },
  {
   "cell_type": "code",
   "execution_count": 106,
   "metadata": {
    "scrolled": false
   },
   "outputs": [
    {
     "data": {
      "text/plain": [
       "0.0    40130\n",
       "1.0     2298\n",
       "2.0       64\n",
       "3.0       11\n",
       "4.0        2\n",
       "5.0        1\n",
       "Name: pub_rec, dtype: int64"
      ]
     },
     "execution_count": 106,
     "metadata": {},
     "output_type": "execute_result"
    }
   ],
   "source": [
    "# sprawdzę kolumne pub_rec\n",
    "ld.pub_rec.value_counts()"
   ]
  },
  {
   "cell_type": "code",
   "execution_count": 107,
   "metadata": {},
   "outputs": [],
   "source": [
    "# uzupełnie Nan przez zero\n",
    "ld.pub_rec.fillna(0, inplace = True)"
   ]
  },
  {
   "cell_type": "code",
   "execution_count": 108,
   "metadata": {},
   "outputs": [
    {
     "data": {
      "text/plain": [
       "0.0        1115\n",
       "255.0        14\n",
       "298.0        14\n",
       "1.0          13\n",
       "682.0        12\n",
       "           ... \n",
       "7244.0        1\n",
       "17379.0       1\n",
       "10547.0       1\n",
       "17154.0       1\n",
       "14013.0       1\n",
       "Name: revol_bal, Length: 22709, dtype: int64"
      ]
     },
     "execution_count": 108,
     "metadata": {},
     "output_type": "execute_result"
    }
   ],
   "source": [
    "# sprawdzę kolumne revol_bal\n",
    "ld.revol_bal.value_counts()"
   ]
  },
  {
   "cell_type": "code",
   "execution_count": 109,
   "metadata": {},
   "outputs": [
    {
     "data": {
      "text/plain": [
       "15.0    1552\n",
       "16.0    1547\n",
       "17.0    1543\n",
       "14.0    1531\n",
       "20.0    1504\n",
       "        ... \n",
       "77.0       1\n",
       "72.0       1\n",
       "80.0       1\n",
       "70.0       1\n",
       "74.0       1\n",
       "Name: total_acc, Length: 83, dtype: int64"
      ]
     },
     "execution_count": 109,
     "metadata": {},
     "output_type": "execute_result"
    }
   ],
   "source": [
    "# sprawdzę kolumne total_acc\n",
    "ld.total_acc.value_counts()"
   ]
  },
  {
   "cell_type": "code",
   "execution_count": 110,
   "metadata": {},
   "outputs": [
    {
     "data": {
      "text/plain": [
       "array([ 9.,  4., 10., 37., 38., 12., 11., 13.,  3., 23., 34., 29., 28.,\n",
       "       42., 14., 22., 21., 17.,  7., 31., 44., 26., 16.,  6., 18., 27.,\n",
       "       24., 25., 40., 35.,  8., 20., 15., 19., 36., 51., 32., 30., 33.,\n",
       "       46.,  5., 61., 56., 50., 41., 39., 79., 62., 43., 47., 53., 45.,\n",
       "       60., 55., 52., 58., 54., 57., 49., 63., 48., 59., 77., 87., 75.,\n",
       "       72., 64., 67., 78., 76., 74., 66., 81., 90., 80., 71., 69., 73.,\n",
       "       70., 68., 65.,  2.,  1., nan])"
      ]
     },
     "execution_count": 110,
     "metadata": {},
     "output_type": "execute_result"
    }
   ],
   "source": [
    "# sprawdzę kolumne total_acc\n",
    "ld.total_acc.unique()"
   ]
  },
  {
   "cell_type": "code",
   "execution_count": 111,
   "metadata": {},
   "outputs": [
    {
     "data": {
      "text/plain": [
       "22.124405966216536"
      ]
     },
     "execution_count": 111,
     "metadata": {},
     "output_type": "execute_result"
    }
   ],
   "source": [
    "ld.total_acc.mean()"
   ]
  },
  {
   "cell_type": "code",
   "execution_count": 112,
   "metadata": {},
   "outputs": [],
   "source": [
    "# uzupelnie nan przez średnią czyli 22\n",
    "ld.total_acc.fillna(22, inplace=True)"
   ]
  },
  {
   "cell_type": "code",
   "execution_count": 113,
   "metadata": {},
   "outputs": [
    {
     "data": {
      "text/plain": [
       "0.0    39316\n",
       "1.0     1846\n",
       "2.0        8\n",
       "Name: pub_rec_bankruptcies, dtype: int64"
      ]
     },
     "execution_count": 113,
     "metadata": {},
     "output_type": "execute_result"
    }
   ],
   "source": [
    "# sprawdzę kolumne  pub_rec_bankruptcies\n",
    "ld.pub_rec_bankruptcies.value_counts()"
   ]
  },
  {
   "cell_type": "code",
   "execution_count": 114,
   "metadata": {},
   "outputs": [
    {
     "data": {
      "text/plain": [
       "array([ 0.,  1.,  2., nan])"
      ]
     },
     "execution_count": 114,
     "metadata": {},
     "output_type": "execute_result"
    }
   ],
   "source": [
    "ld.pub_rec_bankruptcies.unique()"
   ]
  },
  {
   "cell_type": "code",
   "execution_count": 115,
   "metadata": {},
   "outputs": [],
   "source": [
    "# uzupełnie Nan przez zero\n",
    "ld.pub_rec_bankruptcies.fillna(0, inplace = True)"
   ]
  },
  {
   "cell_type": "code",
   "execution_count": 116,
   "metadata": {},
   "outputs": [
    {
     "name": "stdout",
     "output_type": "stream",
     "text": [
      "<class 'pandas.core.frame.DataFrame'>\n",
      "Int64Index: 42531 entries, 0 to 42535\n",
      "Columns: 155 entries, id to fico\n",
      "dtypes: datetime64[ns](2), float64(123), int32(3), int64(6), object(21)\n",
      "memory usage: 50.1+ MB\n"
     ]
    }
   ],
   "source": [
    "ld.info()"
   ]
  },
  {
   "cell_type": "markdown",
   "metadata": {},
   "source": [
    "WYBÓR KOLUMN Z DATASETU LOAN_DATA DO DALSZEJ PRACY"
   ]
  },
  {
   "cell_type": "code",
   "execution_count": 117,
   "metadata": {},
   "outputs": [],
   "source": [
    "# utworzę skróconą tabelę do dalszych obliczen, koncentrując się na danych z początkowych kolumn\n",
    "## dane w kolumnach z końca tabeli są dla mniej zrozumiałe i zakładam, że mniej istotne dla określenia zdolności kredytowej\n",
    "### - często sa to dane zebrane już po udzieleniu pożyczki- a więc nie będą mieć wartości predykcyjnej dla nowych aplikacji\n",
    "ldskr = ld[['loan_amnt', 'term', 'int_rate', 'installment','grade', 'sub_grade_num',\n",
    "            'emp_length','home_ownership', 'annual_inc','verification_status', 'loan_status','purpose_num',\n",
    "            'addr_state_num','dti','delinq_2yrs','fico', 'wiek_kr', 'inq_last_6mths','open_acc','pub_rec','revol_bal',\n",
    "            'total_acc','pub_rec_bankruptcies']]"
   ]
  },
  {
   "cell_type": "code",
   "execution_count": 118,
   "metadata": {},
   "outputs": [
    {
     "name": "stdout",
     "output_type": "stream",
     "text": [
      "<class 'pandas.core.frame.DataFrame'>\n",
      "Int64Index: 42531 entries, 0 to 42535\n",
      "Data columns (total 23 columns):\n",
      " #   Column                Non-Null Count  Dtype  \n",
      "---  ------                --------------  -----  \n",
      " 0   loan_amnt             42531 non-null  float64\n",
      " 1   term                  42531 non-null  int64  \n",
      " 2   int_rate              42531 non-null  float64\n",
      " 3   installment           42531 non-null  float64\n",
      " 4   grade                 42531 non-null  int64  \n",
      " 5   sub_grade_num         42531 non-null  int32  \n",
      " 6   emp_length            42531 non-null  float64\n",
      " 7   home_ownership        42531 non-null  int64  \n",
      " 8   annual_inc            42531 non-null  float64\n",
      " 9   verification_status   42531 non-null  int64  \n",
      " 10  loan_status           42531 non-null  int64  \n",
      " 11  purpose_num           42531 non-null  int32  \n",
      " 12  addr_state_num        42531 non-null  int32  \n",
      " 13  dti                   42531 non-null  float64\n",
      " 14  delinq_2yrs           42531 non-null  float64\n",
      " 15  fico                  42531 non-null  float64\n",
      " 16  wiek_kr               42531 non-null  int64  \n",
      " 17  inq_last_6mths        42531 non-null  float64\n",
      " 18  open_acc              42531 non-null  float64\n",
      " 19  pub_rec               42531 non-null  float64\n",
      " 20  revol_bal             42531 non-null  float64\n",
      " 21  total_acc             42531 non-null  float64\n",
      " 22  pub_rec_bankruptcies  42531 non-null  float64\n",
      "dtypes: float64(14), int32(3), int64(6)\n",
      "memory usage: 7.3 MB\n"
     ]
    }
   ],
   "source": [
    "ldskr.info()"
   ]
  },
  {
   "cell_type": "markdown",
   "metadata": {},
   "source": [
    "OBRÓBKA PLIKU 'LCDataDictionary'"
   ]
  },
  {
   "cell_type": "code",
   "execution_count": 119,
   "metadata": {},
   "outputs": [],
   "source": [
    "# 1c wczytanie pliku z opisem kolumn\n",
    "lcdd = pd.read_csv('LCDataDictionary.csv')"
   ]
  },
  {
   "cell_type": "code",
   "execution_count": 120,
   "metadata": {},
   "outputs": [
    {
     "data": {
      "text/html": [
       "<div>\n",
       "<style scoped>\n",
       "    .dataframe tbody tr th:only-of-type {\n",
       "        vertical-align: middle;\n",
       "    }\n",
       "\n",
       "    .dataframe tbody tr th {\n",
       "        vertical-align: top;\n",
       "    }\n",
       "\n",
       "    .dataframe thead th {\n",
       "        text-align: right;\n",
       "    }\n",
       "</style>\n",
       "<table border=\"1\" class=\"dataframe\">\n",
       "  <thead>\n",
       "    <tr style=\"text-align: right;\">\n",
       "      <th></th>\n",
       "      <th>LoanStatNew</th>\n",
       "      <th>Description</th>\n",
       "      <th>Unnamed: 2</th>\n",
       "      <th>Unnamed: 3</th>\n",
       "      <th>Unnamed: 4</th>\n",
       "      <th>Unnamed: 5</th>\n",
       "      <th>Unnamed: 6</th>\n",
       "      <th>Unnamed: 7</th>\n",
       "      <th>Unnamed: 8</th>\n",
       "      <th>Unnamed: 9</th>\n",
       "      <th>Unnamed: 10</th>\n",
       "    </tr>\n",
       "  </thead>\n",
       "  <tbody>\n",
       "    <tr>\n",
       "      <th>0</th>\n",
       "      <td>acc_now_delinq</td>\n",
       "      <td>The number of accounts on which the borrower i...</td>\n",
       "      <td>NaN</td>\n",
       "      <td>NaN</td>\n",
       "      <td>NaN</td>\n",
       "      <td>NaN</td>\n",
       "      <td>NaN</td>\n",
       "      <td>NaN</td>\n",
       "      <td>NaN</td>\n",
       "      <td>NaN</td>\n",
       "      <td>NaN</td>\n",
       "    </tr>\n",
       "    <tr>\n",
       "      <th>1</th>\n",
       "      <td>acc_open_past_24mths</td>\n",
       "      <td>Number of trades opened in past 24 months.</td>\n",
       "      <td>NaN</td>\n",
       "      <td>NaN</td>\n",
       "      <td>NaN</td>\n",
       "      <td>NaN</td>\n",
       "      <td>NaN</td>\n",
       "      <td>NaN</td>\n",
       "      <td>NaN</td>\n",
       "      <td>NaN</td>\n",
       "      <td>NaN</td>\n",
       "    </tr>\n",
       "    <tr>\n",
       "      <th>2</th>\n",
       "      <td>addr_state</td>\n",
       "      <td>The state provided by the borrower in the loan...</td>\n",
       "      <td>NaN</td>\n",
       "      <td>NaN</td>\n",
       "      <td>NaN</td>\n",
       "      <td>NaN</td>\n",
       "      <td>NaN</td>\n",
       "      <td>NaN</td>\n",
       "      <td>NaN</td>\n",
       "      <td>NaN</td>\n",
       "      <td>NaN</td>\n",
       "    </tr>\n",
       "    <tr>\n",
       "      <th>3</th>\n",
       "      <td>all_util</td>\n",
       "      <td>Balance to credit limit on all trades</td>\n",
       "      <td>NaN</td>\n",
       "      <td>NaN</td>\n",
       "      <td>NaN</td>\n",
       "      <td>NaN</td>\n",
       "      <td>NaN</td>\n",
       "      <td>NaN</td>\n",
       "      <td>NaN</td>\n",
       "      <td>NaN</td>\n",
       "      <td>NaN</td>\n",
       "    </tr>\n",
       "    <tr>\n",
       "      <th>4</th>\n",
       "      <td>annual_inc</td>\n",
       "      <td>The self-reported annual income provided by th...</td>\n",
       "      <td>NaN</td>\n",
       "      <td>NaN</td>\n",
       "      <td>NaN</td>\n",
       "      <td>NaN</td>\n",
       "      <td>NaN</td>\n",
       "      <td>NaN</td>\n",
       "      <td>NaN</td>\n",
       "      <td>NaN</td>\n",
       "      <td>NaN</td>\n",
       "    </tr>\n",
       "  </tbody>\n",
       "</table>\n",
       "</div>"
      ],
      "text/plain": [
       "            LoanStatNew                                        Description  \\\n",
       "0        acc_now_delinq  The number of accounts on which the borrower i...   \n",
       "1  acc_open_past_24mths         Number of trades opened in past 24 months.   \n",
       "2            addr_state  The state provided by the borrower in the loan...   \n",
       "3              all_util              Balance to credit limit on all trades   \n",
       "4            annual_inc  The self-reported annual income provided by th...   \n",
       "\n",
       "   Unnamed: 2  Unnamed: 3  Unnamed: 4  Unnamed: 5  Unnamed: 6  Unnamed: 7  \\\n",
       "0         NaN         NaN         NaN         NaN         NaN         NaN   \n",
       "1         NaN         NaN         NaN         NaN         NaN         NaN   \n",
       "2         NaN         NaN         NaN         NaN         NaN         NaN   \n",
       "3         NaN         NaN         NaN         NaN         NaN         NaN   \n",
       "4         NaN         NaN         NaN         NaN         NaN         NaN   \n",
       "\n",
       "   Unnamed: 8  Unnamed: 9  Unnamed: 10  \n",
       "0         NaN         NaN          NaN  \n",
       "1         NaN         NaN          NaN  \n",
       "2         NaN         NaN          NaN  \n",
       "3         NaN         NaN          NaN  \n",
       "4         NaN         NaN          NaN  "
      ]
     },
     "execution_count": 120,
     "metadata": {},
     "output_type": "execute_result"
    }
   ],
   "source": [
    "lcdd.head()"
   ]
  },
  {
   "cell_type": "code",
   "execution_count": 121,
   "metadata": {},
   "outputs": [
    {
     "data": {
      "text/plain": [
       "LoanStatNew      2\n",
       "Description      1\n",
       "Unnamed: 2     153\n",
       "Unnamed: 3     153\n",
       "Unnamed: 4     153\n",
       "Unnamed: 5     153\n",
       "Unnamed: 6     153\n",
       "Unnamed: 7     153\n",
       "Unnamed: 8     153\n",
       "Unnamed: 9     153\n",
       "Unnamed: 10    153\n",
       "dtype: int64"
      ]
     },
     "execution_count": 121,
     "metadata": {},
     "output_type": "execute_result"
    }
   ],
   "source": [
    "# spr brakujące wartości\n",
    "lcdd.isnull().sum()"
   ]
  },
  {
   "cell_type": "code",
   "execution_count": 122,
   "metadata": {},
   "outputs": [],
   "source": [
    "# kolumny od 'Unnamed: 3' do ostatniej są puste, można je usunąć\n",
    "lcdd.drop(lcdd.columns[2:], axis =1, inplace=True)"
   ]
  },
  {
   "cell_type": "code",
   "execution_count": 123,
   "metadata": {},
   "outputs": [
    {
     "data": {
      "text/html": [
       "<div>\n",
       "<style scoped>\n",
       "    .dataframe tbody tr th:only-of-type {\n",
       "        vertical-align: middle;\n",
       "    }\n",
       "\n",
       "    .dataframe tbody tr th {\n",
       "        vertical-align: top;\n",
       "    }\n",
       "\n",
       "    .dataframe thead th {\n",
       "        text-align: right;\n",
       "    }\n",
       "</style>\n",
       "<table border=\"1\" class=\"dataframe\">\n",
       "  <thead>\n",
       "    <tr style=\"text-align: right;\">\n",
       "      <th></th>\n",
       "      <th>LoanStatNew</th>\n",
       "      <th>Description</th>\n",
       "    </tr>\n",
       "  </thead>\n",
       "  <tbody>\n",
       "    <tr>\n",
       "      <th>0</th>\n",
       "      <td>acc_now_delinq</td>\n",
       "      <td>The number of accounts on which the borrower i...</td>\n",
       "    </tr>\n",
       "    <tr>\n",
       "      <th>1</th>\n",
       "      <td>acc_open_past_24mths</td>\n",
       "      <td>Number of trades opened in past 24 months.</td>\n",
       "    </tr>\n",
       "    <tr>\n",
       "      <th>2</th>\n",
       "      <td>addr_state</td>\n",
       "      <td>The state provided by the borrower in the loan...</td>\n",
       "    </tr>\n",
       "    <tr>\n",
       "      <th>3</th>\n",
       "      <td>all_util</td>\n",
       "      <td>Balance to credit limit on all trades</td>\n",
       "    </tr>\n",
       "    <tr>\n",
       "      <th>4</th>\n",
       "      <td>annual_inc</td>\n",
       "      <td>The self-reported annual income provided by th...</td>\n",
       "    </tr>\n",
       "  </tbody>\n",
       "</table>\n",
       "</div>"
      ],
      "text/plain": [
       "            LoanStatNew                                        Description\n",
       "0        acc_now_delinq  The number of accounts on which the borrower i...\n",
       "1  acc_open_past_24mths         Number of trades opened in past 24 months.\n",
       "2            addr_state  The state provided by the borrower in the loan...\n",
       "3              all_util              Balance to credit limit on all trades\n",
       "4            annual_inc  The self-reported annual income provided by th..."
      ]
     },
     "execution_count": 123,
     "metadata": {},
     "output_type": "execute_result"
    }
   ],
   "source": [
    "lcdd.head()"
   ]
  },
  {
   "cell_type": "code",
   "execution_count": 124,
   "metadata": {},
   "outputs": [
    {
     "data": {
      "text/plain": [
       "(153, 2)"
      ]
     },
     "execution_count": 124,
     "metadata": {},
     "output_type": "execute_result"
    }
   ],
   "source": [
    "lcdd.shape"
   ]
  },
  {
   "cell_type": "code",
   "execution_count": 125,
   "metadata": {},
   "outputs": [],
   "source": [
    "# utworze nową skroconą tabelę directory, adekwatną do skróconej tabeli ld\n",
    "lcddskr= lcdd[lcdd['LoanStatNew'].isin(['loan_amnt', 'term', 'int_rate', 'installment',\n",
    "                                  'grade','sub_grade', 'emp_length','home_ownership', 'annual_inc','verification_status',\n",
    "                                  'issue_d','loan_status','purpose','addr_state', 'dti','delinq_2yrs','earliest_cr_line',\n",
    "                                  'fico_range_low', 'fico_range_high','inc_last_6mths','open_acc','pub_rec','revol_bal',\n",
    "                                  'total_acc','pub_rec_bankruptcies'])]"
   ]
  },
  {
   "cell_type": "markdown",
   "metadata": {},
   "source": [
    "EKSPORT OBROBIONYCH PLIKÓW (opcjonalnie)"
   ]
  },
  {
   "cell_type": "code",
   "execution_count": 129,
   "metadata": {},
   "outputs": [],
   "source": [
    "ldskr.to_csv(r'C:\\\\Users\\zbigp\\Downloads\\ldskr.csv', index=False)"
   ]
  },
  {
   "cell_type": "code",
   "execution_count": 130,
   "metadata": {},
   "outputs": [],
   "source": [
    "legenda.to_csv(r'C:\\\\Users\\zbigp\\Downloads\\legenda.csv', index=False)"
   ]
  },
  {
   "cell_type": "code",
   "execution_count": 131,
   "metadata": {},
   "outputs": [],
   "source": [
    "lcddskr.to_csv(r'C:\\\\Users\\zbigp\\Downloads\\directoryskr.csv', index=False)"
   ]
  },
  {
   "cell_type": "code",
   "execution_count": null,
   "metadata": {},
   "outputs": [],
   "source": []
  },
  {
   "cell_type": "markdown",
   "metadata": {},
   "source": [
    "# 2. EKSPLORACJA DANYCH (EDA)"
   ]
  },
  {
   "cell_type": "code",
   "execution_count": 126,
   "metadata": {},
   "outputs": [
    {
     "data": {
      "text/plain": [
       "1    36100\n",
       "0     6431\n",
       "Name: loan_status, dtype: int64"
      ]
     },
     "execution_count": 126,
     "metadata": {},
     "output_type": "execute_result"
    }
   ],
   "source": [
    "# Rozkład danych loan_status [0: odpis, 1: spłacił]\n",
    "ldskr.loan_status.value_counts()"
   ]
  },
  {
   "cell_type": "code",
   "execution_count": 127,
   "metadata": {},
   "outputs": [],
   "source": [
    "#ldskr.loan_status.hist()"
   ]
  },
  {
   "cell_type": "markdown",
   "metadata": {},
   "source": [
    "## 2a FICO"
   ]
  },
  {
   "cell_type": "code",
   "execution_count": 128,
   "metadata": {
    "scrolled": true
   },
   "outputs": [
    {
     "data": {
      "image/png": "[encoded data removed]",
      "text/plain": [
       "<Figure size 1440x360 with 2 Axes>"
      ]
     },
     "metadata": {
      "needs_background": "light"
     },
     "output_type": "display_data"
    }
   ],
   "source": [
    "plt.figure(figsize=(20,5))\n",
    "plt.subplot(1,3,1)\n",
    "plt.hist(ldskr.fico, bins=40)\n",
    "plt.xlabel('fico')\n",
    "plt.title('Rozkład fico w danych')\n",
    "plt.subplot(1,3,2)\n",
    "sns.boxplot(data = ldskr, x = 'loan_status', y='fico')\n",
    "plt.title('Fico vs loan_status (0: Charged Off, 1: Paid)')\n",
    "plt.show()"
   ]
  },
  {
   "cell_type": "code",
   "execution_count": 129,
   "metadata": {},
   "outputs": [],
   "source": [
    "# Odpowiedź 2a: pożyczkobiorcy którzy nie spłacali charakteryzują sie mniejszym FICO - do sprawdzenia TEST STATYSTYCZNY"
   ]
  },
  {
   "cell_type": "code",
   "execution_count": 130,
   "metadata": {},
   "outputs": [
    {
     "name": "stdout",
     "output_type": "stream",
     "text": [
      "stat=-29.556, p=0.000\n",
      "Prawdopodobnie inna średnia\n"
     ]
    }
   ],
   "source": [
    "# t-test ind. Hipoteza zero  - średnie w grupach są takie same \n",
    "data0 = ldskr[ldskr['loan_status']== 0]['fico']\n",
    "data1 = ldskr[ldskr['loan_status']== 1]['fico']\n",
    "\n",
    "from scipy.stats import ttest_ind\n",
    "stat, p = ttest_ind(data0, data1)\n",
    "print('stat=%.3f, p=%.3f' % (stat, p))\n",
    "if p > 0.05:\n",
    "    print('Prawdopodobnie taka sama średnia')\n",
    "else:\n",
    "    print('Prawdopodobnie inna średnia')"
   ]
  },
  {
   "cell_type": "code",
   "execution_count": null,
   "metadata": {},
   "outputs": [],
   "source": []
  },
  {
   "cell_type": "markdown",
   "metadata": {},
   "source": [
    "## 2b Wiek kredytowy"
   ]
  },
  {
   "cell_type": "code",
   "execution_count": 131,
   "metadata": {},
   "outputs": [
    {
     "data": {
      "image/png": "[encoded data removed]",
      "text/plain": [
       "<Figure size 1440x360 with 2 Axes>"
      ]
     },
     "metadata": {
      "needs_background": "light"
     },
     "output_type": "display_data"
    }
   ],
   "source": [
    "plt.figure(figsize=(20,5))\n",
    "plt.subplot(1,3,1)\n",
    "plt.hist(ldskr.wiek_kr, bins=50)\n",
    "plt.xlabel('wiek kredytowy w dniach')\n",
    "plt.title('Rozkład wieku kredytowego w danych')\n",
    "plt.subplot(1,3,2)\n",
    "sns.boxplot(data = ldskr, x = 'loan_status', y='wiek_kr')\n",
    "plt.title('Wiek kredytowy vs loan_status (0: Charged Off, 1: Paid)')\n",
    "plt.show()"
   ]
  },
  {
   "cell_type": "code",
   "execution_count": 132,
   "metadata": {},
   "outputs": [],
   "source": [
    "# Odpowiedź 2b: nie widać istotnej róznicy - czy wiek kredytowy na wpływ na spłacalność - do sprawdzenia TEST STATYSTYCZNY"
   ]
  },
  {
   "cell_type": "code",
   "execution_count": 133,
   "metadata": {},
   "outputs": [
    {
     "name": "stdout",
     "output_type": "stream",
     "text": [
      "stat=-4.545, p=0.000\n",
      "Prawdopodobnie inna średnia\n"
     ]
    }
   ],
   "source": [
    "# t-test ind. Hipoteza zero  - średnie w grupach są takie same \n",
    "data0 = ldskr[ldskr['loan_status']== 0]['wiek_kr']\n",
    "data1 = ldskr[ldskr['loan_status']== 1]['wiek_kr']\n",
    "\n",
    "from scipy.stats import ttest_ind\n",
    "stat, p = ttest_ind(data0, data1)\n",
    "print('stat=%.3f, p=%.3f' % (stat, p))\n",
    "if p > 0.05:\n",
    "    print('Prawdopodobnie taka sama średnia')\n",
    "else:\n",
    "    print('Prawdopodobnie inna średnia')"
   ]
  },
  {
   "cell_type": "code",
   "execution_count": 134,
   "metadata": {},
   "outputs": [
    {
     "data": {
      "text/plain": [
       "0.24798701321017932"
      ]
     },
     "execution_count": 134,
     "metadata": {},
     "output_type": "execute_result"
    }
   ],
   "source": [
    "ldskr.wiek_kr.corr(ldskr.fico)\n",
    "# korelacja wiek_kr vs fico  0.25 - jest ale niewielka"
   ]
  },
  {
   "cell_type": "code",
   "execution_count": 135,
   "metadata": {},
   "outputs": [
    {
     "data": {
      "image/png": "[encoded data removed]",
      "text/plain": [
       "<Figure size 432x288 with 1 Axes>"
      ]
     },
     "metadata": {
      "needs_background": "light"
     },
     "output_type": "display_data"
    }
   ],
   "source": [
    "plt.scatter(ldskr.wiek_kr, ldskr.fico)\n",
    "plt.xlabel('wiek_kr')\n",
    "plt.ylabel('fico')\n",
    "plt.title ('fico vs wiek kredytowy')\n",
    "plt.show()"
   ]
  },
  {
   "cell_type": "code",
   "execution_count": 136,
   "metadata": {},
   "outputs": [],
   "source": [
    "# Odpowiedź 2b: jest pewna korelacja między FICO a wiekiem kredytowym, ale niewielka"
   ]
  },
  {
   "cell_type": "code",
   "execution_count": null,
   "metadata": {},
   "outputs": [],
   "source": []
  },
  {
   "cell_type": "markdown",
   "metadata": {},
   "source": [
    "## 2c Status kredytu hipotecznego"
   ]
  },
  {
   "cell_type": "code",
   "execution_count": 137,
   "metadata": {},
   "outputs": [],
   "source": [
    "# przyjmuję STATUS KREDYTU HIPOTECZNEGO jako 'home_ownership'=='MORTGAGE', przypisana wartośc '4'"
   ]
  },
  {
   "cell_type": "code",
   "execution_count": 138,
   "metadata": {},
   "outputs": [
    {
     "data": {
      "text/plain": [
       "3    20181\n",
       "4    18959\n",
       "5     3251\n",
       "2      136\n",
       "1        4\n",
       "Name: home_ownership, dtype: int64"
      ]
     },
     "execution_count": 138,
     "metadata": {},
     "output_type": "execute_result"
    }
   ],
   "source": [
    "ldskr.home_ownership.value_counts()\n",
    "# taki status ('4') ma ok 44% osób w zbiorze danych - możemy podzielić bazę na 2 częsci - osoby z hipoteką ('mortg') \n",
    "#     i bez ('other')"
   ]
  },
  {
   "cell_type": "code",
   "execution_count": 139,
   "metadata": {},
   "outputs": [],
   "source": [
    "mortg = ldskr[ldskr['home_ownership']==4]"
   ]
  },
  {
   "cell_type": "code",
   "execution_count": 140,
   "metadata": {},
   "outputs": [
    {
     "data": {
      "text/plain": [
       "1    16260\n",
       "0     2699\n",
       "Name: loan_status, dtype: int64"
      ]
     },
     "execution_count": 140,
     "metadata": {},
     "output_type": "execute_result"
    }
   ],
   "source": [
    "#mortg.head()\n",
    "#mortg.shape\n",
    "mortg.loan_status.value_counts()"
   ]
  },
  {
   "cell_type": "code",
   "execution_count": 141,
   "metadata": {},
   "outputs": [],
   "source": [
    "other = ldskr[ldskr['home_ownership']!=4]"
   ]
  },
  {
   "cell_type": "code",
   "execution_count": 142,
   "metadata": {},
   "outputs": [
    {
     "data": {
      "text/plain": [
       "1    19840\n",
       "0     3732\n",
       "Name: loan_status, dtype: int64"
      ]
     },
     "execution_count": 142,
     "metadata": {},
     "output_type": "execute_result"
    }
   ],
   "source": [
    "#other.head()\n",
    "#other.shape\n",
    "other.loan_status.value_counts()"
   ]
  },
  {
   "cell_type": "code",
   "execution_count": 143,
   "metadata": {},
   "outputs": [],
   "source": [
    "set = ['mortg', 'other']\n",
    "r=[0,1]\n",
    "totals = [18959, 23572]\n",
    "zero = [2699,3732]\n",
    "one = [16260,19840]\n",
    "redbars = [i/j*100 for i,j in zip(zero, totals)]\n",
    "greenbars = [i/j*100 for i,j in zip(one, totals)]          "
   ]
  },
  {
   "cell_type": "code",
   "execution_count": 144,
   "metadata": {},
   "outputs": [
    {
     "data": {
      "image/png": "[encoded data removed]",
      "text/plain": [
       "<Figure size 432x288 with 1 Axes>"
      ]
     },
     "metadata": {
      "needs_background": "light"
     },
     "output_type": "display_data"
    }
   ],
   "source": [
    "plt.bar(r, redbars, color = 'red')\n",
    "plt.bar(r, greenbars, bottom = redbars, color = 'green')\n",
    "plt.xticks(r, set)\n",
    "plt.ylabel('% split Charged Off vs Fully Paid')\n",
    "plt.title('Charged Off vs Fully Paid % among people with mortgage and others')\n",
    "plt.legend(['Charged Off','Fully Paid'])\n",
    "plt.show()"
   ]
  },
  {
   "cell_type": "code",
   "execution_count": 145,
   "metadata": {},
   "outputs": [],
   "source": [
    "# Odpowiedź 2c: brak wyraźnego związku między statusem kredytu hipotecznego a spłacalnością"
   ]
  },
  {
   "cell_type": "code",
   "execution_count": 146,
   "metadata": {},
   "outputs": [
    {
     "name": "stdout",
     "output_type": "stream",
     "text": [
      "[[2699, 16260], [3732, 19840]]\n",
      "dof=1\n",
      "[[ 2866.74023653 16092.25976347]\n",
      " [ 3564.25976347 20007.74023653]]\n",
      "probability=0.950, critical=3.841, stat=20.740\n",
      "Dependent (reject H0) - rozkład jest taki sam\n",
      "significance=0.050, p=0.000\n",
      "Dependent (reject H0) - rozkład jest taki sam\n"
     ]
    }
   ],
   "source": [
    "# Chi-squared test podobne proporcje\n",
    "# Hipoteza zero - rozkład loan_status w oby grupach (mortg i other) jest rózny (is independent)\n",
    "from scipy.stats import chi2_contingency\n",
    "from scipy.stats import chi2\n",
    "# Contingency table\n",
    "table = [[2699, 16260],\n",
    "          [3732, 19840]]\n",
    "print(table)\n",
    "stat, p, dof, expected = chi2_contingency(table)\n",
    "print('dof=%d' % dof)\n",
    "print(expected)\n",
    "\n",
    "# Intrepretacja przez test-statistic\n",
    "prob = 0.95\n",
    "critical = chi2.ppf(prob, dof)\n",
    "print('probability=%.3f, critical=%.3f, stat=%.3f' % (prob, critical, stat))\n",
    "if abs(stat) >= critical:\n",
    "    print('Dependent (reject H0) - rozkład jest taki sam')\n",
    "else:\n",
    "    print('Independent (fail to reject H0)')\n",
    "\n",
    "# Interpretacja przez p-value\n",
    "alpha = 1.0 - prob\n",
    "print('significance=%.3f, p=%.3f' % (alpha, p))\n",
    "if p <= alpha:\n",
    "    print('Dependent (reject H0) - rozkład jest taki sam')\n",
    "else:\n",
    "    print('Independent (fail to reject H0)')"
   ]
  },
  {
   "cell_type": "code",
   "execution_count": null,
   "metadata": {},
   "outputs": [],
   "source": []
  },
  {
   "cell_type": "markdown",
   "metadata": {},
   "source": [
    "## 2d Roczny dochód"
   ]
  },
  {
   "cell_type": "code",
   "execution_count": 147,
   "metadata": {},
   "outputs": [
    {
     "data": {
      "text/plain": [
       "count    4.253100e+04\n",
       "mean     6.913656e+04\n",
       "std      6.409635e+04\n",
       "min      1.896000e+03\n",
       "25%      4.000000e+04\n",
       "50%      5.900000e+04\n",
       "75%      8.250000e+04\n",
       "max      6.000000e+06\n",
       "Name: annual_inc, dtype: float64"
      ]
     },
     "execution_count": 147,
     "metadata": {},
     "output_type": "execute_result"
    }
   ],
   "source": [
    "ldskr.annual_inc.describe()\n",
    "# jest duża rozpiętość w dochodach - od 2 tyś do 6 mln"
   ]
  },
  {
   "cell_type": "code",
   "execution_count": 148,
   "metadata": {},
   "outputs": [
    {
     "data": {
      "text/plain": [
       "42438       1896.0\n",
       "42363       2000.0\n",
       "41825       3300.0\n",
       "42091       3500.0\n",
       "41910       3600.0\n",
       "           ...    \n",
       "7268     1782000.0\n",
       "23618    1900000.0\n",
       "39158    2039784.0\n",
       "29708    3900000.0\n",
       "30176    6000000.0\n",
       "Name: annual_inc, Length: 42531, dtype: float64"
      ]
     },
     "execution_count": 148,
     "metadata": {},
     "output_type": "execute_result"
    }
   ],
   "source": [
    "ldskr.annual_inc.sort_values()"
   ]
  },
  {
   "cell_type": "code",
   "execution_count": 149,
   "metadata": {},
   "outputs": [
    {
     "data": {
      "image/png": "[encoded data removed]",
      "text/plain": [
       "<Figure size 1440x360 with 2 Axes>"
      ]
     },
     "metadata": {
      "needs_background": "light"
     },
     "output_type": "display_data"
    }
   ],
   "source": [
    "plt.figure(figsize=(20,5))\n",
    "plt.subplot(1,3,1)\n",
    "plt.hist(ldskr.annual_inc, bins=200)\n",
    "plt.xlabel('annual_inc')\n",
    "plt.title('Rozkład Dochodów Rocznych w danych')\n",
    "plt.subplot(1,3,2)\n",
    "sns.boxplot(data = ldskr, x = 'loan_status', y='annual_inc')\n",
    "plt.title('Annual_inc vs loan_status (0: Charged Off, 1: Paid)')\n",
    "plt.show()"
   ]
  },
  {
   "cell_type": "code",
   "execution_count": 150,
   "metadata": {},
   "outputs": [
    {
     "name": "stdout",
     "output_type": "stream",
     "text": [
      "       loan_amnt  term  int_rate  installment  grade  sub_grade_num  \\\n",
      "29708    25000.0    60     10.62       334.08      6              7   \n",
      "30176     5000.0    36     12.73       167.84      5             10   \n",
      "\n",
      "       emp_length  home_ownership  annual_inc  verification_status  ...   dti  \\\n",
      "29708         3.0               4   3900000.0                    1  ...  0.20   \n",
      "30176        10.0               4   6000000.0                    2  ...  0.01   \n",
      "\n",
      "       delinq_2yrs   fico  wiek_kr  inq_last_6mths  open_acc  pub_rec  \\\n",
      "29708          0.0  777.0     3926             3.0      12.0      0.0   \n",
      "30176          0.0  712.0     3407             1.0       2.0      0.0   \n",
      "\n",
      "       revol_bal  total_acc  pub_rec_bankruptcies  \n",
      "29708     3270.0       32.0                   0.0  \n",
      "30176     1434.0       10.0                   0.0  \n",
      "\n",
      "[2 rows x 23 columns]\n"
     ]
    }
   ],
   "source": [
    "# dwie obserwacje sa mocno podejrzane\n",
    "print(ldskr[ldskr['annual_inc']>3000000])\n",
    "#wygląda na pomyłkę, wątpię aby ktoś o dochodach 3,9 mln zadał sobie trud aby pożyczyć 25 tyś"
   ]
  },
  {
   "cell_type": "code",
   "execution_count": 151,
   "metadata": {},
   "outputs": [],
   "source": [
    "# usuwam te dwie odstające obserwacje\n",
    "ldskr = ldskr[ldskr['annual_inc'] < 3000000]"
   ]
  },
  {
   "cell_type": "code",
   "execution_count": 152,
   "metadata": {},
   "outputs": [
    {
     "data": {
      "text/plain": [
       "(42529, 23)"
      ]
     },
     "execution_count": 152,
     "metadata": {},
     "output_type": "execute_result"
    }
   ],
   "source": [
    "ldskr.shape"
   ]
  },
  {
   "cell_type": "code",
   "execution_count": 153,
   "metadata": {},
   "outputs": [],
   "source": [
    "# możemy spróbować powtórzyć analzę dla mniejszego zbioru, po odrzuceniu skrajnych wartości, np średnia +/- odchylenie std"
   ]
  },
  {
   "cell_type": "code",
   "execution_count": 154,
   "metadata": {},
   "outputs": [],
   "source": [
    "low = ldskr.annual_inc.mean() - ldskr.annual_inc.std()"
   ]
  },
  {
   "cell_type": "code",
   "execution_count": 155,
   "metadata": {},
   "outputs": [],
   "source": [
    "high = ldskr.annual_inc.mean() + ldskr.annual_inc.std()"
   ]
  },
  {
   "cell_type": "code",
   "execution_count": 156,
   "metadata": {},
   "outputs": [
    {
     "name": "stdout",
     "output_type": "stream",
     "text": [
      "14719.404799038552 123094.64590095455\n"
     ]
    }
   ],
   "source": [
    "print(low, high)"
   ]
  },
  {
   "cell_type": "code",
   "execution_count": 157,
   "metadata": {},
   "outputs": [],
   "source": [
    "ldskr_mid = ldskr[(ldskr['annual_inc']>low) & (ldskr['annual_inc']<high)]"
   ]
  },
  {
   "cell_type": "code",
   "execution_count": 158,
   "metadata": {},
   "outputs": [
    {
     "data": {
      "image/png": "[encoded data removed]",
      "text/plain": [
       "<Figure size 1440x360 with 2 Axes>"
      ]
     },
     "metadata": {
      "needs_background": "light"
     },
     "output_type": "display_data"
    }
   ],
   "source": [
    "plt.figure(figsize=(20,5))\n",
    "plt.subplot(1,3,1)\n",
    "plt.hist(ldskr_mid.annual_inc, bins=50)\n",
    "plt.xlabel('annual_inc')\n",
    "plt.title('Rozkład Dochodów Rocznych w danych')\n",
    "plt.subplot(1,3,2)\n",
    "sns.boxplot(data = ldskr_mid, x = 'loan_status', y='annual_inc')\n",
    "plt.title('Annual_inc vs loan_status (0: Charged Off, 1: Paid)')\n",
    "plt.show()"
   ]
  },
  {
   "cell_type": "code",
   "execution_count": 159,
   "metadata": {},
   "outputs": [],
   "source": [
    "# Odpowiedź 2d: pożyczkobiorcy którzy nie spłacali charakteryzują sie mniejszym średnim dochodem \n",
    "#     - do sprawdzenia TEST STATYSTYCZNY"
   ]
  },
  {
   "cell_type": "code",
   "execution_count": 160,
   "metadata": {},
   "outputs": [
    {
     "name": "stdout",
     "output_type": "stream",
     "text": [
      "stat=-12.247, p=0.000\n",
      "Prawdopodobnie inna średnia\n"
     ]
    }
   ],
   "source": [
    "# t-test ind. Hipoteza zero  - średnie w grupach są takie same \n",
    "data0 = ldskr_mid[ldskr_mid['loan_status']== 0]['annual_inc']\n",
    "data1 = ldskr_mid[ldskr_mid['loan_status']== 1]['annual_inc']\n",
    "\n",
    "from scipy.stats import ttest_ind\n",
    "stat, p = ttest_ind(data0, data1)\n",
    "print('stat=%.3f, p=%.3f' % (stat, p))\n",
    "if p > 0.05:\n",
    "    print('Prawdopodobnie taka sama średnia')\n",
    "else:\n",
    "    print('Prawdopodobnie inna średnia')"
   ]
  },
  {
   "cell_type": "code",
   "execution_count": 161,
   "metadata": {},
   "outputs": [],
   "source": [
    "#ldskr_mid.shape"
   ]
  },
  {
   "cell_type": "code",
   "execution_count": 162,
   "metadata": {},
   "outputs": [],
   "source": [
    "#ldskr_mid.to_csv(r'C:\\\\Users\\zbigp\\Downloads\\ldskr_mid.csv', index=False)"
   ]
  },
  {
   "cell_type": "code",
   "execution_count": null,
   "metadata": {},
   "outputs": [],
   "source": []
  },
  {
   "cell_type": "markdown",
   "metadata": {},
   "source": [
    "## 2e Historia zatrudnienia"
   ]
  },
  {
   "cell_type": "code",
   "execution_count": 163,
   "metadata": {},
   "outputs": [],
   "source": [
    "# bierzemy pod uwagę dane z kolumny 'emp_length' - długość zatrudnienia w latach"
   ]
  },
  {
   "cell_type": "code",
   "execution_count": 164,
   "metadata": {},
   "outputs": [
    {
     "data": {
      "image/png": "[encoded data removed]",
      "text/plain": [
       "<Figure size 1440x360 with 2 Axes>"
      ]
     },
     "metadata": {
      "needs_background": "light"
     },
     "output_type": "display_data"
    }
   ],
   "source": [
    "plt.figure(figsize=(20,5))\n",
    "plt.subplot(1,3,1)\n",
    "plt.hist(ldskr.emp_length, bins=50)\n",
    "plt.xlabel('emp_length')\n",
    "plt.title('Rozkład Długości zatrudnienia w danych')\n",
    "plt.subplot(1,3,2)\n",
    "sns.boxplot(data = ldskr, x = 'loan_status', y='emp_length')\n",
    "plt.title('Emp_length vs loan_status (0: Charged Off, 1: Paid)')\n",
    "plt.show()"
   ]
  },
  {
   "cell_type": "code",
   "execution_count": 165,
   "metadata": {},
   "outputs": [],
   "source": [
    "# Odpowiedź 2e: pożyczkobiorcy którzy nie spłacali charakteryzują sie dłuższym stażem zatrudnienia \n",
    "#     - do sprawdzenia TEST STATYSTYCZNY"
   ]
  },
  {
   "cell_type": "code",
   "execution_count": null,
   "metadata": {},
   "outputs": [],
   "source": []
  },
  {
   "cell_type": "markdown",
   "metadata": {},
   "source": [
    "## 2f Wielkość pożyczki"
   ]
  },
  {
   "cell_type": "code",
   "execution_count": 166,
   "metadata": {},
   "outputs": [
    {
     "data": {
      "image/png": "[encoded data removed]",
      "text/plain": [
       "<Figure size 1440x360 with 2 Axes>"
      ]
     },
     "metadata": {
      "needs_background": "light"
     },
     "output_type": "display_data"
    }
   ],
   "source": [
    "plt.figure(figsize=(20,5))\n",
    "plt.subplot(1,3,1)\n",
    "plt.hist(ldskr.loan_amnt, bins=25)\n",
    "plt.xlabel('loan_amnt')\n",
    "plt.title('Rozkład wielkości pożyczki w danych')\n",
    "plt.subplot(1,3,2)\n",
    "sns.boxplot(data = ldskr, x = 'loan_status', y='loan_amnt')\n",
    "plt.title('Loan_amnt vs loan_status (0: Charged Off, 1: Paid)')\n",
    "plt.show()"
   ]
  },
  {
   "cell_type": "code",
   "execution_count": 167,
   "metadata": {},
   "outputs": [],
   "source": [
    "# Odpowiedź 2f: pożyczkobiorcy którzy nie spłacali charakteryzują sie minimalnie większa kwotą pożyczki \n",
    "#     - do sprawdzenia TEST STATYSTYCZNY"
   ]
  },
  {
   "cell_type": "code",
   "execution_count": 168,
   "metadata": {},
   "outputs": [],
   "source": [
    "# sprawdzenie korelacji między zmiennymi\n",
    "corr=abs(ldskr.corr()).T"
   ]
  },
  {
   "cell_type": "code",
   "execution_count": 169,
   "metadata": {},
   "outputs": [
    {
     "data": {
      "text/html": [
       "<div>\n",
       "<style scoped>\n",
       "    .dataframe tbody tr th:only-of-type {\n",
       "        vertical-align: middle;\n",
       "    }\n",
       "\n",
       "    .dataframe tbody tr th {\n",
       "        vertical-align: top;\n",
       "    }\n",
       "\n",
       "    .dataframe thead th {\n",
       "        text-align: right;\n",
       "    }\n",
       "</style>\n",
       "<table border=\"1\" class=\"dataframe\">\n",
       "  <thead>\n",
       "    <tr style=\"text-align: right;\">\n",
       "      <th></th>\n",
       "      <th>loan_amnt</th>\n",
       "      <th>term</th>\n",
       "      <th>int_rate</th>\n",
       "      <th>installment</th>\n",
       "      <th>grade</th>\n",
       "      <th>sub_grade_num</th>\n",
       "      <th>emp_length</th>\n",
       "      <th>home_ownership</th>\n",
       "      <th>annual_inc</th>\n",
       "      <th>verification_status</th>\n",
       "      <th>...</th>\n",
       "      <th>dti</th>\n",
       "      <th>delinq_2yrs</th>\n",
       "      <th>fico</th>\n",
       "      <th>wiek_kr</th>\n",
       "      <th>inq_last_6mths</th>\n",
       "      <th>open_acc</th>\n",
       "      <th>pub_rec</th>\n",
       "      <th>revol_bal</th>\n",
       "      <th>total_acc</th>\n",
       "      <th>pub_rec_bankruptcies</th>\n",
       "    </tr>\n",
       "  </thead>\n",
       "  <tbody>\n",
       "    <tr>\n",
       "      <th>loan_amnt</th>\n",
       "      <td>1.000000</td>\n",
       "      <td>0.355569</td>\n",
       "      <td>0.292335</td>\n",
       "      <td>0.930902</td>\n",
       "      <td>0.256497</td>\n",
       "      <td>0.266460</td>\n",
       "      <td>0.156165</td>\n",
       "      <td>0.112781</td>\n",
       "      <td>0.325633</td>\n",
       "      <td>0.411157</td>\n",
       "      <td>...</td>\n",
       "      <td>0.061150</td>\n",
       "      <td>0.032571</td>\n",
       "      <td>0.133319</td>\n",
       "      <td>0.212624</td>\n",
       "      <td>0.030331</td>\n",
       "      <td>0.176469</td>\n",
       "      <td>0.051473</td>\n",
       "      <td>0.254289</td>\n",
       "      <td>0.256811</td>\n",
       "      <td>0.035287</td>\n",
       "    </tr>\n",
       "    <tr>\n",
       "      <th>term</th>\n",
       "      <td>0.355569</td>\n",
       "      <td>1.000000</td>\n",
       "      <td>0.428655</td>\n",
       "      <td>0.097576</td>\n",
       "      <td>0.380910</td>\n",
       "      <td>0.389566</td>\n",
       "      <td>0.115579</td>\n",
       "      <td>0.077386</td>\n",
       "      <td>0.050150</td>\n",
       "      <td>0.262340</td>\n",
       "      <td>...</td>\n",
       "      <td>0.075709</td>\n",
       "      <td>0.001674</td>\n",
       "      <td>0.000129</td>\n",
       "      <td>0.089792</td>\n",
       "      <td>0.012753</td>\n",
       "      <td>0.045558</td>\n",
       "      <td>0.005164</td>\n",
       "      <td>0.029474</td>\n",
       "      <td>0.094908</td>\n",
       "      <td>0.015258</td>\n",
       "    </tr>\n",
       "    <tr>\n",
       "      <th>int_rate</th>\n",
       "      <td>0.292335</td>\n",
       "      <td>0.428655</td>\n",
       "      <td>1.000000</td>\n",
       "      <td>0.271395</td>\n",
       "      <td>0.939147</td>\n",
       "      <td>0.950583</td>\n",
       "      <td>0.000284</td>\n",
       "      <td>0.059064</td>\n",
       "      <td>0.064608</td>\n",
       "      <td>0.194287</td>\n",
       "      <td>...</td>\n",
       "      <td>0.118299</td>\n",
       "      <td>0.154784</td>\n",
       "      <td>0.702564</td>\n",
       "      <td>0.112690</td>\n",
       "      <td>0.179447</td>\n",
       "      <td>0.024673</td>\n",
       "      <td>0.100436</td>\n",
       "      <td>0.081816</td>\n",
       "      <td>0.031619</td>\n",
       "      <td>0.084925</td>\n",
       "    </tr>\n",
       "    <tr>\n",
       "      <th>installment</th>\n",
       "      <td>0.930902</td>\n",
       "      <td>0.097576</td>\n",
       "      <td>0.271395</td>\n",
       "      <td>1.000000</td>\n",
       "      <td>0.244163</td>\n",
       "      <td>0.251819</td>\n",
       "      <td>0.126549</td>\n",
       "      <td>0.086545</td>\n",
       "      <td>0.331062</td>\n",
       "      <td>0.354188</td>\n",
       "      <td>...</td>\n",
       "      <td>0.050896</td>\n",
       "      <td>0.019916</td>\n",
       "      <td>0.064490</td>\n",
       "      <td>0.179592</td>\n",
       "      <td>0.010850</td>\n",
       "      <td>0.175313</td>\n",
       "      <td>0.045697</td>\n",
       "      <td>0.264804</td>\n",
       "      <td>0.233820</td>\n",
       "      <td>0.032515</td>\n",
       "    </tr>\n",
       "    <tr>\n",
       "      <th>grade</th>\n",
       "      <td>0.256497</td>\n",
       "      <td>0.380910</td>\n",
       "      <td>0.939147</td>\n",
       "      <td>0.244163</td>\n",
       "      <td>1.000000</td>\n",
       "      <td>0.980992</td>\n",
       "      <td>0.012192</td>\n",
       "      <td>0.055051</td>\n",
       "      <td>0.062962</td>\n",
       "      <td>0.154148</td>\n",
       "      <td>...</td>\n",
       "      <td>0.109755</td>\n",
       "      <td>0.163755</td>\n",
       "      <td>0.689728</td>\n",
       "      <td>0.113570</td>\n",
       "      <td>0.216511</td>\n",
       "      <td>0.033243</td>\n",
       "      <td>0.098968</td>\n",
       "      <td>0.084783</td>\n",
       "      <td>0.025456</td>\n",
       "      <td>0.079023</td>\n",
       "    </tr>\n",
       "    <tr>\n",
       "      <th>sub_grade_num</th>\n",
       "      <td>0.266460</td>\n",
       "      <td>0.389566</td>\n",
       "      <td>0.950583</td>\n",
       "      <td>0.251819</td>\n",
       "      <td>0.980992</td>\n",
       "      <td>1.000000</td>\n",
       "      <td>0.014713</td>\n",
       "      <td>0.056578</td>\n",
       "      <td>0.065670</td>\n",
       "      <td>0.160482</td>\n",
       "      <td>...</td>\n",
       "      <td>0.114796</td>\n",
       "      <td>0.165031</td>\n",
       "      <td>0.706141</td>\n",
       "      <td>0.119565</td>\n",
       "      <td>0.223508</td>\n",
       "      <td>0.035623</td>\n",
       "      <td>0.101015</td>\n",
       "      <td>0.089519</td>\n",
       "      <td>0.025292</td>\n",
       "      <td>0.080362</td>\n",
       "    </tr>\n",
       "    <tr>\n",
       "      <th>emp_length</th>\n",
       "      <td>0.156165</td>\n",
       "      <td>0.115579</td>\n",
       "      <td>0.000284</td>\n",
       "      <td>0.126549</td>\n",
       "      <td>0.012192</td>\n",
       "      <td>0.014713</td>\n",
       "      <td>1.000000</td>\n",
       "      <td>0.212597</td>\n",
       "      <td>0.133319</td>\n",
       "      <td>0.097796</td>\n",
       "      <td>...</td>\n",
       "      <td>0.056224</td>\n",
       "      <td>0.012303</td>\n",
       "      <td>0.088940</td>\n",
       "      <td>0.292460</td>\n",
       "      <td>0.020304</td>\n",
       "      <td>0.097982</td>\n",
       "      <td>0.059072</td>\n",
       "      <td>0.124308</td>\n",
       "      <td>0.207389</td>\n",
       "      <td>0.060582</td>\n",
       "    </tr>\n",
       "    <tr>\n",
       "      <th>home_ownership</th>\n",
       "      <td>0.112781</td>\n",
       "      <td>0.077386</td>\n",
       "      <td>0.059064</td>\n",
       "      <td>0.086545</td>\n",
       "      <td>0.055051</td>\n",
       "      <td>0.056578</td>\n",
       "      <td>0.212597</td>\n",
       "      <td>1.000000</td>\n",
       "      <td>0.142654</td>\n",
       "      <td>0.035224</td>\n",
       "      <td>...</td>\n",
       "      <td>0.006551</td>\n",
       "      <td>0.014054</td>\n",
       "      <td>0.146242</td>\n",
       "      <td>0.238205</td>\n",
       "      <td>0.042957</td>\n",
       "      <td>0.147740</td>\n",
       "      <td>0.019439</td>\n",
       "      <td>0.136495</td>\n",
       "      <td>0.234112</td>\n",
       "      <td>0.022709</td>\n",
       "    </tr>\n",
       "    <tr>\n",
       "      <th>annual_inc</th>\n",
       "      <td>0.325633</td>\n",
       "      <td>0.050150</td>\n",
       "      <td>0.064608</td>\n",
       "      <td>0.331062</td>\n",
       "      <td>0.062962</td>\n",
       "      <td>0.065670</td>\n",
       "      <td>0.133319</td>\n",
       "      <td>0.142654</td>\n",
       "      <td>1.000000</td>\n",
       "      <td>0.148796</td>\n",
       "      <td>...</td>\n",
       "      <td>0.132737</td>\n",
       "      <td>0.027459</td>\n",
       "      <td>0.058914</td>\n",
       "      <td>0.227560</td>\n",
       "      <td>0.030880</td>\n",
       "      <td>0.202046</td>\n",
       "      <td>0.018335</td>\n",
       "      <td>0.337797</td>\n",
       "      <td>0.292378</td>\n",
       "      <td>0.016434</td>\n",
       "    </tr>\n",
       "    <tr>\n",
       "      <th>verification_status</th>\n",
       "      <td>0.411157</td>\n",
       "      <td>0.262340</td>\n",
       "      <td>0.194287</td>\n",
       "      <td>0.354188</td>\n",
       "      <td>0.154148</td>\n",
       "      <td>0.160482</td>\n",
       "      <td>0.097796</td>\n",
       "      <td>0.035224</td>\n",
       "      <td>0.148796</td>\n",
       "      <td>1.000000</td>\n",
       "      <td>...</td>\n",
       "      <td>0.069962</td>\n",
       "      <td>0.000948</td>\n",
       "      <td>0.018945</td>\n",
       "      <td>0.109966</td>\n",
       "      <td>0.037093</td>\n",
       "      <td>0.081637</td>\n",
       "      <td>0.012997</td>\n",
       "      <td>0.100490</td>\n",
       "      <td>0.119743</td>\n",
       "      <td>0.004481</td>\n",
       "    </tr>\n",
       "    <tr>\n",
       "      <th>loan_status</th>\n",
       "      <td>0.042570</td>\n",
       "      <td>0.133642</td>\n",
       "      <td>0.200565</td>\n",
       "      <td>0.021064</td>\n",
       "      <td>0.201250</td>\n",
       "      <td>0.204132</td>\n",
       "      <td>0.012528</td>\n",
       "      <td>0.017624</td>\n",
       "      <td>0.043154</td>\n",
       "      <td>0.029384</td>\n",
       "      <td>...</td>\n",
       "      <td>0.043678</td>\n",
       "      <td>0.019491</td>\n",
       "      <td>0.141859</td>\n",
       "      <td>0.022043</td>\n",
       "      <td>0.110890</td>\n",
       "      <td>0.005977</td>\n",
       "      <td>0.053756</td>\n",
       "      <td>0.017150</td>\n",
       "      <td>0.021112</td>\n",
       "      <td>0.050596</td>\n",
       "    </tr>\n",
       "    <tr>\n",
       "      <th>purpose_num</th>\n",
       "      <td>0.123699</td>\n",
       "      <td>0.036253</td>\n",
       "      <td>0.009567</td>\n",
       "      <td>0.125680</td>\n",
       "      <td>0.001267</td>\n",
       "      <td>0.001996</td>\n",
       "      <td>0.040477</td>\n",
       "      <td>0.010446</td>\n",
       "      <td>0.004409</td>\n",
       "      <td>0.035392</td>\n",
       "      <td>...</td>\n",
       "      <td>0.137128</td>\n",
       "      <td>0.039878</td>\n",
       "      <td>0.047976</td>\n",
       "      <td>0.046784</td>\n",
       "      <td>0.052280</td>\n",
       "      <td>0.096396</td>\n",
       "      <td>0.009005</td>\n",
       "      <td>0.067275</td>\n",
       "      <td>0.088646</td>\n",
       "      <td>0.020346</td>\n",
       "    </tr>\n",
       "    <tr>\n",
       "      <th>addr_state_num</th>\n",
       "      <td>0.001306</td>\n",
       "      <td>0.007744</td>\n",
       "      <td>0.001859</td>\n",
       "      <td>0.003783</td>\n",
       "      <td>0.000227</td>\n",
       "      <td>0.001744</td>\n",
       "      <td>0.003791</td>\n",
       "      <td>0.042938</td>\n",
       "      <td>0.008322</td>\n",
       "      <td>0.011041</td>\n",
       "      <td>...</td>\n",
       "      <td>0.017778</td>\n",
       "      <td>0.005007</td>\n",
       "      <td>0.005871</td>\n",
       "      <td>0.001702</td>\n",
       "      <td>0.037573</td>\n",
       "      <td>0.037667</td>\n",
       "      <td>0.005152</td>\n",
       "      <td>0.018652</td>\n",
       "      <td>0.041473</td>\n",
       "      <td>0.004991</td>\n",
       "    </tr>\n",
       "    <tr>\n",
       "      <th>dti</th>\n",
       "      <td>0.061150</td>\n",
       "      <td>0.075709</td>\n",
       "      <td>0.118299</td>\n",
       "      <td>0.050896</td>\n",
       "      <td>0.109755</td>\n",
       "      <td>0.114796</td>\n",
       "      <td>0.056224</td>\n",
       "      <td>0.006551</td>\n",
       "      <td>0.132737</td>\n",
       "      <td>0.069962</td>\n",
       "      <td>...</td>\n",
       "      <td>1.000000</td>\n",
       "      <td>0.035578</td>\n",
       "      <td>0.185760</td>\n",
       "      <td>0.063674</td>\n",
       "      <td>0.014804</td>\n",
       "      <td>0.291082</td>\n",
       "      <td>0.003186</td>\n",
       "      <td>0.186392</td>\n",
       "      <td>0.236119</td>\n",
       "      <td>0.009272</td>\n",
       "    </tr>\n",
       "    <tr>\n",
       "      <th>delinq_2yrs</th>\n",
       "      <td>0.032571</td>\n",
       "      <td>0.001674</td>\n",
       "      <td>0.154784</td>\n",
       "      <td>0.019916</td>\n",
       "      <td>0.163755</td>\n",
       "      <td>0.165031</td>\n",
       "      <td>0.012303</td>\n",
       "      <td>0.014054</td>\n",
       "      <td>0.027459</td>\n",
       "      <td>0.000948</td>\n",
       "      <td>...</td>\n",
       "      <td>0.035578</td>\n",
       "      <td>1.000000</td>\n",
       "      <td>0.218513</td>\n",
       "      <td>0.062858</td>\n",
       "      <td>0.020890</td>\n",
       "      <td>0.014253</td>\n",
       "      <td>0.010342</td>\n",
       "      <td>0.042955</td>\n",
       "      <td>0.068529</td>\n",
       "      <td>0.003192</td>\n",
       "    </tr>\n",
       "    <tr>\n",
       "      <th>fico</th>\n",
       "      <td>0.133319</td>\n",
       "      <td>0.000129</td>\n",
       "      <td>0.702564</td>\n",
       "      <td>0.064490</td>\n",
       "      <td>0.689728</td>\n",
       "      <td>0.706141</td>\n",
       "      <td>0.088940</td>\n",
       "      <td>0.146242</td>\n",
       "      <td>0.058914</td>\n",
       "      <td>0.018945</td>\n",
       "      <td>...</td>\n",
       "      <td>0.185760</td>\n",
       "      <td>0.218513</td>\n",
       "      <td>1.000000</td>\n",
       "      <td>0.248013</td>\n",
       "      <td>0.136079</td>\n",
       "      <td>0.025692</td>\n",
       "      <td>0.152438</td>\n",
       "      <td>0.021877</td>\n",
       "      <td>0.110619</td>\n",
       "      <td>0.123882</td>\n",
       "    </tr>\n",
       "    <tr>\n",
       "      <th>wiek_kr</th>\n",
       "      <td>0.212624</td>\n",
       "      <td>0.089792</td>\n",
       "      <td>0.112690</td>\n",
       "      <td>0.179592</td>\n",
       "      <td>0.113570</td>\n",
       "      <td>0.119565</td>\n",
       "      <td>0.292460</td>\n",
       "      <td>0.238205</td>\n",
       "      <td>0.227560</td>\n",
       "      <td>0.109966</td>\n",
       "      <td>...</td>\n",
       "      <td>0.063674</td>\n",
       "      <td>0.062858</td>\n",
       "      <td>0.248013</td>\n",
       "      <td>1.000000</td>\n",
       "      <td>0.035198</td>\n",
       "      <td>0.235094</td>\n",
       "      <td>0.047812</td>\n",
       "      <td>0.231059</td>\n",
       "      <td>0.393042</td>\n",
       "      <td>0.058075</td>\n",
       "    </tr>\n",
       "    <tr>\n",
       "      <th>inq_last_6mths</th>\n",
       "      <td>0.030331</td>\n",
       "      <td>0.012753</td>\n",
       "      <td>0.179447</td>\n",
       "      <td>0.010850</td>\n",
       "      <td>0.216511</td>\n",
       "      <td>0.223508</td>\n",
       "      <td>0.020304</td>\n",
       "      <td>0.042957</td>\n",
       "      <td>0.030880</td>\n",
       "      <td>0.037093</td>\n",
       "      <td>...</td>\n",
       "      <td>0.014804</td>\n",
       "      <td>0.020890</td>\n",
       "      <td>0.136079</td>\n",
       "      <td>0.035198</td>\n",
       "      <td>1.000000</td>\n",
       "      <td>0.095030</td>\n",
       "      <td>0.059547</td>\n",
       "      <td>0.007997</td>\n",
       "      <td>0.092373</td>\n",
       "      <td>0.036079</td>\n",
       "    </tr>\n",
       "    <tr>\n",
       "      <th>open_acc</th>\n",
       "      <td>0.176469</td>\n",
       "      <td>0.045558</td>\n",
       "      <td>0.024673</td>\n",
       "      <td>0.175313</td>\n",
       "      <td>0.033243</td>\n",
       "      <td>0.035623</td>\n",
       "      <td>0.097982</td>\n",
       "      <td>0.147740</td>\n",
       "      <td>0.202046</td>\n",
       "      <td>0.081637</td>\n",
       "      <td>...</td>\n",
       "      <td>0.291082</td>\n",
       "      <td>0.014253</td>\n",
       "      <td>0.025692</td>\n",
       "      <td>0.235094</td>\n",
       "      <td>0.095030</td>\n",
       "      <td>1.000000</td>\n",
       "      <td>0.005132</td>\n",
       "      <td>0.257763</td>\n",
       "      <td>0.693147</td>\n",
       "      <td>0.009563</td>\n",
       "    </tr>\n",
       "    <tr>\n",
       "      <th>pub_rec</th>\n",
       "      <td>0.051473</td>\n",
       "      <td>0.005164</td>\n",
       "      <td>0.100436</td>\n",
       "      <td>0.045697</td>\n",
       "      <td>0.098968</td>\n",
       "      <td>0.101015</td>\n",
       "      <td>0.059072</td>\n",
       "      <td>0.019439</td>\n",
       "      <td>0.018335</td>\n",
       "      <td>0.012997</td>\n",
       "      <td>...</td>\n",
       "      <td>0.003186</td>\n",
       "      <td>0.010342</td>\n",
       "      <td>0.152438</td>\n",
       "      <td>0.047812</td>\n",
       "      <td>0.059547</td>\n",
       "      <td>0.005132</td>\n",
       "      <td>1.000000</td>\n",
       "      <td>0.047829</td>\n",
       "      <td>0.014433</td>\n",
       "      <td>0.824235</td>\n",
       "    </tr>\n",
       "    <tr>\n",
       "      <th>revol_bal</th>\n",
       "      <td>0.254289</td>\n",
       "      <td>0.029474</td>\n",
       "      <td>0.081816</td>\n",
       "      <td>0.264804</td>\n",
       "      <td>0.084783</td>\n",
       "      <td>0.089519</td>\n",
       "      <td>0.124308</td>\n",
       "      <td>0.136495</td>\n",
       "      <td>0.337797</td>\n",
       "      <td>0.100490</td>\n",
       "      <td>...</td>\n",
       "      <td>0.186392</td>\n",
       "      <td>0.042955</td>\n",
       "      <td>0.021877</td>\n",
       "      <td>0.231059</td>\n",
       "      <td>0.007997</td>\n",
       "      <td>0.257763</td>\n",
       "      <td>0.047829</td>\n",
       "      <td>1.000000</td>\n",
       "      <td>0.275352</td>\n",
       "      <td>0.038501</td>\n",
       "    </tr>\n",
       "    <tr>\n",
       "      <th>total_acc</th>\n",
       "      <td>0.256811</td>\n",
       "      <td>0.094908</td>\n",
       "      <td>0.031619</td>\n",
       "      <td>0.233820</td>\n",
       "      <td>0.025456</td>\n",
       "      <td>0.025292</td>\n",
       "      <td>0.207389</td>\n",
       "      <td>0.234112</td>\n",
       "      <td>0.292378</td>\n",
       "      <td>0.119743</td>\n",
       "      <td>...</td>\n",
       "      <td>0.236119</td>\n",
       "      <td>0.068529</td>\n",
       "      <td>0.110619</td>\n",
       "      <td>0.393042</td>\n",
       "      <td>0.092373</td>\n",
       "      <td>0.693147</td>\n",
       "      <td>0.014433</td>\n",
       "      <td>0.275352</td>\n",
       "      <td>1.000000</td>\n",
       "      <td>0.001783</td>\n",
       "    </tr>\n",
       "    <tr>\n",
       "      <th>pub_rec_bankruptcies</th>\n",
       "      <td>0.035287</td>\n",
       "      <td>0.015258</td>\n",
       "      <td>0.084925</td>\n",
       "      <td>0.032515</td>\n",
       "      <td>0.079023</td>\n",
       "      <td>0.080362</td>\n",
       "      <td>0.060582</td>\n",
       "      <td>0.022709</td>\n",
       "      <td>0.016434</td>\n",
       "      <td>0.004481</td>\n",
       "      <td>...</td>\n",
       "      <td>0.009272</td>\n",
       "      <td>0.003192</td>\n",
       "      <td>0.123882</td>\n",
       "      <td>0.058075</td>\n",
       "      <td>0.036079</td>\n",
       "      <td>0.009563</td>\n",
       "      <td>0.824235</td>\n",
       "      <td>0.038501</td>\n",
       "      <td>0.001783</td>\n",
       "      <td>1.000000</td>\n",
       "    </tr>\n",
       "  </tbody>\n",
       "</table>\n",
       "<p>23 rows × 23 columns</p>\n",
       "</div>"
      ],
      "text/plain": [
       "                      loan_amnt      term  int_rate  installment     grade  \\\n",
       "loan_amnt              1.000000  0.355569  0.292335     0.930902  0.256497   \n",
       "term                   0.355569  1.000000  0.428655     0.097576  0.380910   \n",
       "int_rate               0.292335  0.428655  1.000000     0.271395  0.939147   \n",
       "installment            0.930902  0.097576  0.271395     1.000000  0.244163   \n",
       "grade                  0.256497  0.380910  0.939147     0.244163  1.000000   \n",
       "sub_grade_num          0.266460  0.389566  0.950583     0.251819  0.980992   \n",
       "emp_length             0.156165  0.115579  0.000284     0.126549  0.012192   \n",
       "home_ownership         0.112781  0.077386  0.059064     0.086545  0.055051   \n",
       "annual_inc             0.325633  0.050150  0.064608     0.331062  0.062962   \n",
       "verification_status    0.411157  0.262340  0.194287     0.354188  0.154148   \n",
       "loan_status            0.042570  0.133642  0.200565     0.021064  0.201250   \n",
       "purpose_num            0.123699  0.036253  0.009567     0.125680  0.001267   \n",
       "addr_state_num         0.001306  0.007744  0.001859     0.003783  0.000227   \n",
       "dti                    0.061150  0.075709  0.118299     0.050896  0.109755   \n",
       "delinq_2yrs            0.032571  0.001674  0.154784     0.019916  0.163755   \n",
       "fico                   0.133319  0.000129  0.702564     0.064490  0.689728   \n",
       "wiek_kr                0.212624  0.089792  0.112690     0.179592  0.113570   \n",
       "inq_last_6mths         0.030331  0.012753  0.179447     0.010850  0.216511   \n",
       "open_acc               0.176469  0.045558  0.024673     0.175313  0.033243   \n",
       "pub_rec                0.051473  0.005164  0.100436     0.045697  0.098968   \n",
       "revol_bal              0.254289  0.029474  0.081816     0.264804  0.084783   \n",
       "total_acc              0.256811  0.094908  0.031619     0.233820  0.025456   \n",
       "pub_rec_bankruptcies   0.035287  0.015258  0.084925     0.032515  0.079023   \n",
       "\n",
       "                      sub_grade_num  emp_length  home_ownership  annual_inc  \\\n",
       "loan_amnt                  0.266460    0.156165        0.112781    0.325633   \n",
       "term                       0.389566    0.115579        0.077386    0.050150   \n",
       "int_rate                   0.950583    0.000284        0.059064    0.064608   \n",
       "installment                0.251819    0.126549        0.086545    0.331062   \n",
       "grade                      0.980992    0.012192        0.055051    0.062962   \n",
       "sub_grade_num              1.000000    0.014713        0.056578    0.065670   \n",
       "emp_length                 0.014713    1.000000        0.212597    0.133319   \n",
       "home_ownership             0.056578    0.212597        1.000000    0.142654   \n",
       "annual_inc                 0.065670    0.133319        0.142654    1.000000   \n",
       "verification_status        0.160482    0.097796        0.035224    0.148796   \n",
       "loan_status                0.204132    0.012528        0.017624    0.043154   \n",
       "purpose_num                0.001996    0.040477        0.010446    0.004409   \n",
       "addr_state_num             0.001744    0.003791        0.042938    0.008322   \n",
       "dti                        0.114796    0.056224        0.006551    0.132737   \n",
       "delinq_2yrs                0.165031    0.012303        0.014054    0.027459   \n",
       "fico                       0.706141    0.088940        0.146242    0.058914   \n",
       "wiek_kr                    0.119565    0.292460        0.238205    0.227560   \n",
       "inq_last_6mths             0.223508    0.020304        0.042957    0.030880   \n",
       "open_acc                   0.035623    0.097982        0.147740    0.202046   \n",
       "pub_rec                    0.101015    0.059072        0.019439    0.018335   \n",
       "revol_bal                  0.089519    0.124308        0.136495    0.337797   \n",
       "total_acc                  0.025292    0.207389        0.234112    0.292378   \n",
       "pub_rec_bankruptcies       0.080362    0.060582        0.022709    0.016434   \n",
       "\n",
       "                      verification_status  ...       dti  delinq_2yrs  \\\n",
       "loan_amnt                        0.411157  ...  0.061150     0.032571   \n",
       "term                             0.262340  ...  0.075709     0.001674   \n",
       "int_rate                         0.194287  ...  0.118299     0.154784   \n",
       "installment                      0.354188  ...  0.050896     0.019916   \n",
       "grade                            0.154148  ...  0.109755     0.163755   \n",
       "sub_grade_num                    0.160482  ...  0.114796     0.165031   \n",
       "emp_length                       0.097796  ...  0.056224     0.012303   \n",
       "home_ownership                   0.035224  ...  0.006551     0.014054   \n",
       "annual_inc                       0.148796  ...  0.132737     0.027459   \n",
       "verification_status              1.000000  ...  0.069962     0.000948   \n",
       "loan_status                      0.029384  ...  0.043678     0.019491   \n",
       "purpose_num                      0.035392  ...  0.137128     0.039878   \n",
       "addr_state_num                   0.011041  ...  0.017778     0.005007   \n",
       "dti                              0.069962  ...  1.000000     0.035578   \n",
       "delinq_2yrs                      0.000948  ...  0.035578     1.000000   \n",
       "fico                             0.018945  ...  0.185760     0.218513   \n",
       "wiek_kr                          0.109966  ...  0.063674     0.062858   \n",
       "inq_last_6mths                   0.037093  ...  0.014804     0.020890   \n",
       "open_acc                         0.081637  ...  0.291082     0.014253   \n",
       "pub_rec                          0.012997  ...  0.003186     0.010342   \n",
       "revol_bal                        0.100490  ...  0.186392     0.042955   \n",
       "total_acc                        0.119743  ...  0.236119     0.068529   \n",
       "pub_rec_bankruptcies             0.004481  ...  0.009272     0.003192   \n",
       "\n",
       "                          fico   wiek_kr  inq_last_6mths  open_acc   pub_rec  \\\n",
       "loan_amnt             0.133319  0.212624        0.030331  0.176469  0.051473   \n",
       "term                  0.000129  0.089792        0.012753  0.045558  0.005164   \n",
       "int_rate              0.702564  0.112690        0.179447  0.024673  0.100436   \n",
       "installment           0.064490  0.179592        0.010850  0.175313  0.045697   \n",
       "grade                 0.689728  0.113570        0.216511  0.033243  0.098968   \n",
       "sub_grade_num         0.706141  0.119565        0.223508  0.035623  0.101015   \n",
       "emp_length            0.088940  0.292460        0.020304  0.097982  0.059072   \n",
       "home_ownership        0.146242  0.238205        0.042957  0.147740  0.019439   \n",
       "annual_inc            0.058914  0.227560        0.030880  0.202046  0.018335   \n",
       "verification_status   0.018945  0.109966        0.037093  0.081637  0.012997   \n",
       "loan_status           0.141859  0.022043        0.110890  0.005977  0.053756   \n",
       "purpose_num           0.047976  0.046784        0.052280  0.096396  0.009005   \n",
       "addr_state_num        0.005871  0.001702        0.037573  0.037667  0.005152   \n",
       "dti                   0.185760  0.063674        0.014804  0.291082  0.003186   \n",
       "delinq_2yrs           0.218513  0.062858        0.020890  0.014253  0.010342   \n",
       "fico                  1.000000  0.248013        0.136079  0.025692  0.152438   \n",
       "wiek_kr               0.248013  1.000000        0.035198  0.235094  0.047812   \n",
       "inq_last_6mths        0.136079  0.035198        1.000000  0.095030  0.059547   \n",
       "open_acc              0.025692  0.235094        0.095030  1.000000  0.005132   \n",
       "pub_rec               0.152438  0.047812        0.059547  0.005132  1.000000   \n",
       "revol_bal             0.021877  0.231059        0.007997  0.257763  0.047829   \n",
       "total_acc             0.110619  0.393042        0.092373  0.693147  0.014433   \n",
       "pub_rec_bankruptcies  0.123882  0.058075        0.036079  0.009563  0.824235   \n",
       "\n",
       "                      revol_bal  total_acc  pub_rec_bankruptcies  \n",
       "loan_amnt              0.254289   0.256811              0.035287  \n",
       "term                   0.029474   0.094908              0.015258  \n",
       "int_rate               0.081816   0.031619              0.084925  \n",
       "installment            0.264804   0.233820              0.032515  \n",
       "grade                  0.084783   0.025456              0.079023  \n",
       "sub_grade_num          0.089519   0.025292              0.080362  \n",
       "emp_length             0.124308   0.207389              0.060582  \n",
       "home_ownership         0.136495   0.234112              0.022709  \n",
       "annual_inc             0.337797   0.292378              0.016434  \n",
       "verification_status    0.100490   0.119743              0.004481  \n",
       "loan_status            0.017150   0.021112              0.050596  \n",
       "purpose_num            0.067275   0.088646              0.020346  \n",
       "addr_state_num         0.018652   0.041473              0.004991  \n",
       "dti                    0.186392   0.236119              0.009272  \n",
       "delinq_2yrs            0.042955   0.068529              0.003192  \n",
       "fico                   0.021877   0.110619              0.123882  \n",
       "wiek_kr                0.231059   0.393042              0.058075  \n",
       "inq_last_6mths         0.007997   0.092373              0.036079  \n",
       "open_acc               0.257763   0.693147              0.009563  \n",
       "pub_rec                0.047829   0.014433              0.824235  \n",
       "revol_bal              1.000000   0.275352              0.038501  \n",
       "total_acc              0.275352   1.000000              0.001783  \n",
       "pub_rec_bankruptcies   0.038501   0.001783              1.000000  \n",
       "\n",
       "[23 rows x 23 columns]"
      ]
     },
     "execution_count": 169,
     "metadata": {},
     "output_type": "execute_result"
    }
   ],
   "source": [
    "corr"
   ]
  },
  {
   "cell_type": "code",
   "execution_count": 170,
   "metadata": {},
   "outputs": [
    {
     "data": {
      "text/plain": [
       "<AxesSubplot:>"
      ]
     },
     "execution_count": 170,
     "metadata": {},
     "output_type": "execute_result"
    },
    {
     "data": {
      "image/png": "[encoded data removed]",
      "text/plain": [
       "<Figure size 1296x720 with 2 Axes>"
      ]
     },
     "metadata": {
      "needs_background": "light"
     },
     "output_type": "display_data"
    }
   ],
   "source": [
    "plt.figure(figsize=(18,10))\n",
    "sns.heatmap(corr, \n",
    "         xticklabels=corr.columns, \n",
    "         yticklabels=corr.columns)"
   ]
  },
  {
   "cell_type": "code",
   "execution_count": 171,
   "metadata": {},
   "outputs": [],
   "source": [
    "# nie widać wiodącego parametru który byłby mocno skorelowany ze statusem pożyczki. Raczej jest to suma kilku mniejszych \n",
    "## elementów, a największym stopniu: grade, sub-grade, int_rate, fico oraz term"
   ]
  },
  {
   "cell_type": "code",
   "execution_count": null,
   "metadata": {},
   "outputs": [],
   "source": []
  },
  {
   "cell_type": "markdown",
   "metadata": {},
   "source": [
    "# 3. FEATURE ENGINEERING"
   ]
  },
  {
   "cell_type": "markdown",
   "metadata": {},
   "source": [
    "UTWORZENIE NOWYCH ZMIENNYCH"
   ]
  },
  {
   "cell_type": "code",
   "execution_count": 173,
   "metadata": {},
   "outputs": [],
   "source": [
    "# w punkcie 1 podczas obróbki danych wyselekcjonowałem już najbardziej istotne i wiarygodne zmienne do dalszych pracy\n",
    "## utworzyłem nowe zmienne 'wiek kredytowy oraz 'FICO'"
   ]
  },
  {
   "cell_type": "code",
   "execution_count": 174,
   "metadata": {},
   "outputs": [],
   "source": [
    "# tworzę nową zmienną  - kwota pozyczki do kwoty dochodów\n",
    "ldskr['loan_inc_ratio'] = ldskr.loan_amnt*100 / ldskr.annual_inc"
   ]
  },
  {
   "cell_type": "code",
   "execution_count": 175,
   "metadata": {},
   "outputs": [
    {
     "data": {
      "text/plain": [
       "-0.09902498295771173"
      ]
     },
     "execution_count": 175,
     "metadata": {},
     "output_type": "execute_result"
    }
   ],
   "source": [
    "# sprawdzam korelację\n",
    "ldskr.loan_inc_ratio.corr(ldskr.loan_status)"
   ]
  },
  {
   "cell_type": "code",
   "execution_count": 176,
   "metadata": {},
   "outputs": [
    {
     "name": "stderr",
     "output_type": "stream",
     "text": [
      "<ipython-input-176-c37680d7ca98>:1: SettingWithCopyWarning: \n",
      "A value is trying to be set on a copy of a slice from a DataFrame.\n",
      "Try using .loc[row_indexer,col_indexer] = value instead\n",
      "\n",
      "See the caveats in the documentation: https://pandas.pydata.org/pandas-docs/stable/user_guide/indexing.html#returning-a-view-versus-a-copy\n",
      "  ldskr_mid['loan_inc_ratio'] = ldskr_mid.loan_amnt*100 / ldskr_mid.annual_inc\n"
     ]
    },
    {
     "data": {
      "image/png": "[encoded data removed]",
      "text/plain": [
       "<Figure size 1440x360 with 2 Axes>"
      ]
     },
     "metadata": {
      "needs_background": "light"
     },
     "output_type": "display_data"
    }
   ],
   "source": [
    "ldskr_mid['loan_inc_ratio'] = ldskr_mid.loan_amnt*100 / ldskr_mid.annual_inc\n",
    "plt.figure(figsize=(20,5))\n",
    "plt.subplot(1,3,1)\n",
    "plt.hist(ldskr_mid.loan_inc_ratio, bins=25)\n",
    "plt.xlabel('loan_inc_ratio')\n",
    "plt.title('Rozkład loan_inc_ratio')\n",
    "plt.subplot(1,3,2)\n",
    "sns.boxplot(data = ldskr_mid, x = 'loan_status', y='loan_inc_ratio')\n",
    "plt.title('Loan_inc_ratio vs loan_status (0: Charged Off, 1: Paid)')\n",
    "plt.show()"
   ]
  },
  {
   "cell_type": "code",
   "execution_count": 177,
   "metadata": {},
   "outputs": [],
   "source": [
    "# tworze nową zmienną - roczna suma spłat do rocznego dochodu\n",
    "ldskr['inst_inc_ratio'] = (ldskr.installment*12*ldskr.int_rate*100)/ldskr.annual_inc"
   ]
  },
  {
   "cell_type": "code",
   "execution_count": 178,
   "metadata": {},
   "outputs": [
    {
     "data": {
      "text/plain": [
       "-0.14707315761262618"
      ]
     },
     "execution_count": 178,
     "metadata": {},
     "output_type": "execute_result"
    }
   ],
   "source": [
    "# sprawdzam korelację\n",
    "ldskr.inst_inc_ratio.corr(ldskr.loan_status)"
   ]
  },
  {
   "cell_type": "code",
   "execution_count": 179,
   "metadata": {},
   "outputs": [
    {
     "name": "stderr",
     "output_type": "stream",
     "text": [
      "<ipython-input-179-136bd319de6f>:1: SettingWithCopyWarning: \n",
      "A value is trying to be set on a copy of a slice from a DataFrame.\n",
      "Try using .loc[row_indexer,col_indexer] = value instead\n",
      "\n",
      "See the caveats in the documentation: https://pandas.pydata.org/pandas-docs/stable/user_guide/indexing.html#returning-a-view-versus-a-copy\n",
      "  ldskr_mid['inst_inc_ratio'] = (ldskr_mid.installment*12*ldskr_mid.int_rate*100)/ldskr_mid.annual_inc\n"
     ]
    },
    {
     "data": {
      "image/png": "[encoded data removed]",
      "text/plain": [
       "<Figure size 1440x360 with 2 Axes>"
      ]
     },
     "metadata": {
      "needs_background": "light"
     },
     "output_type": "display_data"
    }
   ],
   "source": [
    "ldskr_mid['inst_inc_ratio'] = (ldskr_mid.installment*12*ldskr_mid.int_rate*100)/ldskr_mid.annual_inc\n",
    "plt.figure(figsize=(20,5))\n",
    "plt.subplot(1,3,1)\n",
    "plt.hist(ldskr_mid.inst_inc_ratio, bins=25)\n",
    "plt.xlabel('inst_inc_ratio')\n",
    "plt.title('Rozkład inst_inc_ratio')\n",
    "plt.subplot(1,3,2)\n",
    "sns.boxplot(data = ldskr_mid, x = 'loan_status', y='inst_inc_ratio')\n",
    "plt.title('Inst_inc_ratio vs loan_status (0: Charged Off, 1: Paid)')\n",
    "plt.show()"
   ]
  },
  {
   "cell_type": "code",
   "execution_count": 180,
   "metadata": {},
   "outputs": [],
   "source": [
    "#ldskr.grade.corr(ldskr.sub_grade_num)\n",
    "# pominę kolumnę sub_grade, gdyż zawiera informacje wtórne do grade"
   ]
  },
  {
   "cell_type": "code",
   "execution_count": 181,
   "metadata": {},
   "outputs": [],
   "source": [
    "# usunę kilka kolumn o najmniejszej korelacji\n",
    "ldskr.drop(['sub_grade_num','emp_length','home_ownership', 'addr_state_num','open_acc'],\n",
    "           axis=1, inplace=True)"
   ]
  },
  {
   "cell_type": "code",
   "execution_count": 182,
   "metadata": {},
   "outputs": [
    {
     "name": "stdout",
     "output_type": "stream",
     "text": [
      "<class 'pandas.core.frame.DataFrame'>\n",
      "Int64Index: 42529 entries, 0 to 42535\n",
      "Data columns (total 20 columns):\n",
      " #   Column                Non-Null Count  Dtype  \n",
      "---  ------                --------------  -----  \n",
      " 0   loan_amnt             42529 non-null  float64\n",
      " 1   term                  42529 non-null  int64  \n",
      " 2   int_rate              42529 non-null  float64\n",
      " 3   installment           42529 non-null  float64\n",
      " 4   grade                 42529 non-null  int64  \n",
      " 5   annual_inc            42529 non-null  float64\n",
      " 6   verification_status   42529 non-null  int64  \n",
      " 7   loan_status           42529 non-null  int64  \n",
      " 8   purpose_num           42529 non-null  int32  \n",
      " 9   dti                   42529 non-null  float64\n",
      " 10  delinq_2yrs           42529 non-null  float64\n",
      " 11  fico                  42529 non-null  float64\n",
      " 12  wiek_kr               42529 non-null  int64  \n",
      " 13  inq_last_6mths        42529 non-null  float64\n",
      " 14  pub_rec               42529 non-null  float64\n",
      " 15  revol_bal             42529 non-null  float64\n",
      " 16  total_acc             42529 non-null  float64\n",
      " 17  pub_rec_bankruptcies  42529 non-null  float64\n",
      " 18  loan_inc_ratio        42529 non-null  float64\n",
      " 19  inst_inc_ratio        42529 non-null  float64\n",
      "dtypes: float64(14), int32(1), int64(5)\n",
      "memory usage: 7.9 MB\n"
     ]
    }
   ],
   "source": [
    "ldskr.info()"
   ]
  },
  {
   "cell_type": "code",
   "execution_count": 183,
   "metadata": {},
   "outputs": [],
   "source": [
    "# tworzę dummy variables\n",
    "ldskrn = pd.get_dummies(ldskr, columns =['term','grade', 'verification_status', 'purpose_num'],drop_first = True)"
   ]
  },
  {
   "cell_type": "code",
   "execution_count": 190,
   "metadata": {},
   "outputs": [
    {
     "data": {
      "text/html": [
       "<div>\n",
       "<style scoped>\n",
       "    .dataframe tbody tr th:only-of-type {\n",
       "        vertical-align: middle;\n",
       "    }\n",
       "\n",
       "    .dataframe tbody tr th {\n",
       "        vertical-align: top;\n",
       "    }\n",
       "\n",
       "    .dataframe thead th {\n",
       "        text-align: right;\n",
       "    }\n",
       "</style>\n",
       "<table border=\"1\" class=\"dataframe\">\n",
       "  <thead>\n",
       "    <tr style=\"text-align: right;\">\n",
       "      <th></th>\n",
       "      <th>loan_amnt</th>\n",
       "      <th>int_rate</th>\n",
       "      <th>installment</th>\n",
       "      <th>annual_inc</th>\n",
       "      <th>loan_status</th>\n",
       "      <th>dti</th>\n",
       "      <th>delinq_2yrs</th>\n",
       "      <th>fico</th>\n",
       "      <th>wiek_kr</th>\n",
       "      <th>inq_last_6mths</th>\n",
       "      <th>...</th>\n",
       "      <th>purpose_num_4</th>\n",
       "      <th>purpose_num_5</th>\n",
       "      <th>purpose_num_6</th>\n",
       "      <th>purpose_num_7</th>\n",
       "      <th>purpose_num_8</th>\n",
       "      <th>purpose_num_9</th>\n",
       "      <th>purpose_num_10</th>\n",
       "      <th>purpose_num_11</th>\n",
       "      <th>purpose_num_12</th>\n",
       "      <th>purpose_num_13</th>\n",
       "    </tr>\n",
       "  </thead>\n",
       "  <tbody>\n",
       "    <tr>\n",
       "      <th>0</th>\n",
       "      <td>5000.0</td>\n",
       "      <td>10.65</td>\n",
       "      <td>162.87</td>\n",
       "      <td>24000.0</td>\n",
       "      <td>1</td>\n",
       "      <td>27.65</td>\n",
       "      <td>0.0</td>\n",
       "      <td>737.0</td>\n",
       "      <td>9830</td>\n",
       "      <td>1.0</td>\n",
       "      <td>...</td>\n",
       "      <td>0</td>\n",
       "      <td>0</td>\n",
       "      <td>0</td>\n",
       "      <td>0</td>\n",
       "      <td>0</td>\n",
       "      <td>0</td>\n",
       "      <td>0</td>\n",
       "      <td>0</td>\n",
       "      <td>0</td>\n",
       "      <td>0</td>\n",
       "    </tr>\n",
       "    <tr>\n",
       "      <th>1</th>\n",
       "      <td>2500.0</td>\n",
       "      <td>15.27</td>\n",
       "      <td>59.83</td>\n",
       "      <td>30000.0</td>\n",
       "      <td>0</td>\n",
       "      <td>1.00</td>\n",
       "      <td>0.0</td>\n",
       "      <td>742.0</td>\n",
       "      <td>4627</td>\n",
       "      <td>5.0</td>\n",
       "      <td>...</td>\n",
       "      <td>0</td>\n",
       "      <td>0</td>\n",
       "      <td>0</td>\n",
       "      <td>0</td>\n",
       "      <td>0</td>\n",
       "      <td>0</td>\n",
       "      <td>0</td>\n",
       "      <td>0</td>\n",
       "      <td>0</td>\n",
       "      <td>0</td>\n",
       "    </tr>\n",
       "    <tr>\n",
       "      <th>2</th>\n",
       "      <td>2400.0</td>\n",
       "      <td>15.96</td>\n",
       "      <td>84.33</td>\n",
       "      <td>12252.0</td>\n",
       "      <td>1</td>\n",
       "      <td>8.72</td>\n",
       "      <td>0.0</td>\n",
       "      <td>737.0</td>\n",
       "      <td>3682</td>\n",
       "      <td>2.0</td>\n",
       "      <td>...</td>\n",
       "      <td>0</td>\n",
       "      <td>0</td>\n",
       "      <td>0</td>\n",
       "      <td>0</td>\n",
       "      <td>0</td>\n",
       "      <td>0</td>\n",
       "      <td>0</td>\n",
       "      <td>1</td>\n",
       "      <td>0</td>\n",
       "      <td>0</td>\n",
       "    </tr>\n",
       "    <tr>\n",
       "      <th>3</th>\n",
       "      <td>10000.0</td>\n",
       "      <td>13.49</td>\n",
       "      <td>339.31</td>\n",
       "      <td>49200.0</td>\n",
       "      <td>1</td>\n",
       "      <td>20.00</td>\n",
       "      <td>0.0</td>\n",
       "      <td>692.0</td>\n",
       "      <td>5782</td>\n",
       "      <td>1.0</td>\n",
       "      <td>...</td>\n",
       "      <td>0</td>\n",
       "      <td>0</td>\n",
       "      <td>0</td>\n",
       "      <td>0</td>\n",
       "      <td>0</td>\n",
       "      <td>1</td>\n",
       "      <td>0</td>\n",
       "      <td>0</td>\n",
       "      <td>0</td>\n",
       "      <td>0</td>\n",
       "    </tr>\n",
       "    <tr>\n",
       "      <th>4</th>\n",
       "      <td>3000.0</td>\n",
       "      <td>12.69</td>\n",
       "      <td>67.79</td>\n",
       "      <td>80000.0</td>\n",
       "      <td>1</td>\n",
       "      <td>17.94</td>\n",
       "      <td>0.0</td>\n",
       "      <td>697.0</td>\n",
       "      <td>5813</td>\n",
       "      <td>0.0</td>\n",
       "      <td>...</td>\n",
       "      <td>0</td>\n",
       "      <td>0</td>\n",
       "      <td>0</td>\n",
       "      <td>0</td>\n",
       "      <td>0</td>\n",
       "      <td>1</td>\n",
       "      <td>0</td>\n",
       "      <td>0</td>\n",
       "      <td>0</td>\n",
       "      <td>0</td>\n",
       "    </tr>\n",
       "  </tbody>\n",
       "</table>\n",
       "<p>5 rows × 38 columns</p>\n",
       "</div>"
      ],
      "text/plain": [
       "   loan_amnt  int_rate  installment  annual_inc  loan_status    dti  \\\n",
       "0     5000.0     10.65       162.87     24000.0            1  27.65   \n",
       "1     2500.0     15.27        59.83     30000.0            0   1.00   \n",
       "2     2400.0     15.96        84.33     12252.0            1   8.72   \n",
       "3    10000.0     13.49       339.31     49200.0            1  20.00   \n",
       "4     3000.0     12.69        67.79     80000.0            1  17.94   \n",
       "\n",
       "   delinq_2yrs   fico  wiek_kr  inq_last_6mths  ...  purpose_num_4  \\\n",
       "0          0.0  737.0     9830             1.0  ...              0   \n",
       "1          0.0  742.0     4627             5.0  ...              0   \n",
       "2          0.0  737.0     3682             2.0  ...              0   \n",
       "3          0.0  692.0     5782             1.0  ...              0   \n",
       "4          0.0  697.0     5813             0.0  ...              0   \n",
       "\n",
       "   purpose_num_5  purpose_num_6  purpose_num_7  purpose_num_8  purpose_num_9  \\\n",
       "0              0              0              0              0              0   \n",
       "1              0              0              0              0              0   \n",
       "2              0              0              0              0              0   \n",
       "3              0              0              0              0              1   \n",
       "4              0              0              0              0              1   \n",
       "\n",
       "   purpose_num_10  purpose_num_11  purpose_num_12  purpose_num_13  \n",
       "0               0               0               0               0  \n",
       "1               0               0               0               0  \n",
       "2               0               1               0               0  \n",
       "3               0               0               0               0  \n",
       "4               0               0               0               0  \n",
       "\n",
       "[5 rows x 38 columns]"
      ]
     },
     "execution_count": 190,
     "metadata": {},
     "output_type": "execute_result"
    }
   ],
   "source": [
    "ldskrn.head()"
   ]
  },
  {
   "cell_type": "markdown",
   "metadata": {},
   "source": [
    "EKSPORT FINALNEGO PLIKU PO OBRÓBCE DANYCH I FE"
   ]
  },
  {
   "cell_type": "code",
   "execution_count": 191,
   "metadata": {},
   "outputs": [],
   "source": [
    "# Eksport finalnego pliku ## UWAGA ## będzie potrzebny w cześci drugiej projektu !!!\n",
    "ldskrn.to_csv(r'C:\\\\Users\\zbigp\\Downloads\\ldskrn.csv', index=False)"
   ]
  },
  {
   "cell_type": "markdown",
   "metadata": {},
   "source": [
    " ## KONIEC CZĘŚCI PIERWSZEJ"
   ]
  }
 ],
 "metadata": {
  "kernelspec": {
   "display_name": "Python 3",
   "language": "python",
   "name": "python3"
  },
  "language_info": {
   "codemirror_mode": {
    "name": "ipython",
    "version": 3
   },
   "file_extension": ".py",
   "mimetype": "text/x-python",
   "name": "python",
   "nbconvert_exporter": "python",
   "pygments_lexer": "ipython3",
   "version": "3.8.5"
  }
 },
 "nbformat": 4,
 "nbformat_minor": 4
}
